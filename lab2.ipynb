{
 "cells": [
  {
   "cell_type": "code",
   "execution_count": 2,
   "metadata": {
    "collapsed": true
   },
   "outputs": [
    {
     "name": "stdout",
     "output_type": "stream",
     "text": [
      "(5, 10)\n(5,)\n"
     ]
    },
    {
     "ename": "ValueError",
     "evalue": "operands could not be broadcast together with shapes (5,10) (5,) ",
     "traceback": [
      "\u001b[0;31m---------------------------------------------------------------------------\u001b[0m",
      "\u001b[0;31mValueError\u001b[0m                                Traceback (most recent call last)",
      "\u001b[0;32m<ipython-input-11-803018e1a32b>\u001b[0m in \u001b[0;36m<module>\u001b[0;34m()\u001b[0m\n\u001b[1;32m      8\u001b[0m \u001b[0msumm\u001b[0m \u001b[0;34m=\u001b[0m \u001b[0mnp\u001b[0m\u001b[0;34m.\u001b[0m\u001b[0msum\u001b[0m\u001b[0;34m(\u001b[0m\u001b[0min_to_hid_weights\u001b[0m\u001b[0;34m,\u001b[0m \u001b[0maxis\u001b[0m\u001b[0;34m=\u001b[0m\u001b[0;36m1\u001b[0m\u001b[0;34m)\u001b[0m\u001b[0;34m\u001b[0m\u001b[0m\n\u001b[1;32m      9\u001b[0m \u001b[0mprint\u001b[0m \u001b[0;34m(\u001b[0m\u001b[0msumm\u001b[0m\u001b[0;34m.\u001b[0m\u001b[0mshape\u001b[0m\u001b[0;34m)\u001b[0m\u001b[0;34m\u001b[0m\u001b[0m\n\u001b[0;32m---> 10\u001b[0;31m \u001b[0mprint\u001b[0m\u001b[0;34m(\u001b[0m\u001b[0min_to_hid_weights\u001b[0m\u001b[0;34m/\u001b[0m\u001b[0msumm\u001b[0m\u001b[0;34m)\u001b[0m\u001b[0;34m\u001b[0m\u001b[0m\n\u001b[0m",
      "\u001b[0;31mValueError\u001b[0m: operands could not be broadcast together with shapes (5,10) (5,) "
     ],
     "output_type": "error"
    }
   ],
   "source": [
    "import recoii_props as rp\n",
    "import pandas as pd\n",
    "import matplotlib.pyplot as plt\n",
    "import numpy as np\n",
    "import random as rand\n",
    "import time\n",
    "\n",
    "def in_hid_sigmoid_out_bias_mmtm(momentum, num_of_epoch, batch_size, learning_rate, test_freq, weights_init, random_seed,\n",
    "                                 num_of_hidden, label):\n",
    "\n",
    "    (train_data, train_label, test_data, test_label,ori_test_label) = rp.minst_data_processing()\n",
    "    print(\"data imported\")\n",
    "    # weight init\n",
    "    rand.seed(a=random_seed)\n",
    "    hid_bias = np.ones((batch_size, num_of_hidden), dtype=np.float)\n",
    "    hid_bias *= weights_init * rand.random()\n",
    "    last_del_hid_bias = np.ones((batch_size, num_of_hidden), dtype=np.float)\n",
    "    out_bias = np.ones((batch_size, 10), dtype=np.float)\n",
    "    out_bias *= weights_init * rand.random()\n",
    "    last_del_out_bias = np.ones((batch_size, 10), dtype=np.float)\n",
    "    in_to_hid_weights = np.zeros((train_data.shape[1], num_of_hidden), dtype=np.float)\n",
    "    last_del_in_to_hid = np.zeros((train_data.shape[1], num_of_hidden), dtype=np.float)\n",
    "    hid_to_out_weights = np.zeros((num_of_hidden, train_label.shape[1]), dtype=np.float)\n",
    "    last_del_hid_to_out = np.zeros((num_of_hidden, train_label.shape[1]), dtype=np.float)\n",
    "\n",
    "    for i in range(0, in_to_hid_weights.shape[0]):\n",
    "        for j in range(0, in_to_hid_weights.shape[1]):\n",
    "            in_to_hid_weights[i][j] = weights_init * rand.random()\n",
    "    for i in range(0, hid_to_out_weights.shape[0]):\n",
    "        for j in range(0, hid_to_out_weights.shape[1]):\n",
    "            hid_to_out_weights[i][j] = weights_init * rand.random()\n",
    "    print(\"w init complete\")\n",
    "    #train:\n",
    "    start_time = time.time()\n",
    "    benchmark = [0]\n",
    "    bench_out_state = [0]\n",
    "    for epoch_no in range(0,num_of_epoch):\n",
    "        batch_index = 0\n",
    "        train_no = 0\n",
    "        while batch_index + batch_size < train_data.shape[0]:\n",
    "            train_no += 1\n",
    "            train_batch = train_data[batch_index:batch_index + batch_size, :]\n",
    "            train_label_batch = train_label[batch_index:batch_index + batch_size, :]\n",
    "            batch_index = batch_index + batch_size\n",
    "\n",
    "            (hid_state, out_state) = rp.fp_full_linear_bias(train_batch, in_to_hid_weights, hid_bias, hid_to_out_weights\n",
    "                                                            , out_bias)\n",
    "            out_state = 1 / (1 + np.exp(-out_state))\n",
    "            error = out_state - train_label_batch\n",
    "            d_out = out_state * (1 - out_state) * error\n",
    "            (last_del_in_to_hid, last_del_hid_bias, last_del_hid_to_out, last_del_out_bias,d_in, in_to_hid_weights,\n",
    "             hid_bias, hid_to_out_weights, out_bias) = \\\n",
    "                rp.bp_full_linear_bias_mmtm(momentum, last_del_in_to_hid, last_del_hid_bias, last_del_hid_to_out,  last_del_out_bias,\n",
    "                             learning_rate, train_batch, in_to_hid_weights, hid_bias, hid_state, hid_to_out_weights,\n",
    "                             out_bias, d_out)\n",
    "\n",
    "            #benchmark\n",
    "            if (train_no * batch_size) % (train_no * batch_size / test_freq) == 0:\n",
    "                (bench_hid_state, bench_out_state) = rp.fp_full_linear_bias(test_data, in_to_hid_weights, hid_bias[0],\n",
    "                                                                            hid_to_out_weights, out_bias[0])\n",
    "                bench_out_state = 1 / (1 + np.exp(-bench_out_state))\n",
    "                prediction = np.argmax(bench_out_state, axis=1)\n",
    "                rightmap = np.abs(prediction - test_label)\n",
    "                evaluation = np.bincount(rightmap)[0] / test_label.shape[0]\n",
    "                benchmark = np.append(benchmark, [evaluation])\n",
    "                print(label + ' - epoch: ' + str(epoch_no) + ' ' + str(\n",
    "                    train_no * batch_size / (train_data.shape[0] / 100)) + '% :: '\n",
    "                      + str(evaluation))\n",
    "    print(\"done\")\n",
    "    benchmark = benchmark[1:]\n",
    "    numbers = range(0, benchmark.shape[0])\n",
    "    plt.plot(numbers, benchmark)\n",
    "    plt.show()\n",
    "    end_time = time.time()\n",
    "\n",
    "    return benchmark, end_time - start_time, rightmap,prediction"
   ]
  },
  {
   "cell_type": "code",
   "execution_count": 11,
   "metadata": {
    "collapsed": true
   },
   "outputs": [
    {
     "name": "stdout",
     "output_type": "stream",
     "text": [
      "(5, 10)\n(5,)\n"
     ]
    },
    {
     "ename": "ValueError",
     "evalue": "operands could not be broadcast together with shapes (5,10) (5,) ",
     "traceback": [
      "\u001b[0;31m---------------------------------------------------------------------------\u001b[0m",
      "\u001b[0;31mValueError\u001b[0m                                Traceback (most recent call last)",
      "\u001b[0;32m<ipython-input-11-803018e1a32b>\u001b[0m in \u001b[0;36m<module>\u001b[0;34m()\u001b[0m\n\u001b[1;32m      8\u001b[0m \u001b[0msumm\u001b[0m \u001b[0;34m=\u001b[0m \u001b[0mnp\u001b[0m\u001b[0;34m.\u001b[0m\u001b[0msum\u001b[0m\u001b[0;34m(\u001b[0m\u001b[0min_to_hid_weights\u001b[0m\u001b[0;34m,\u001b[0m \u001b[0maxis\u001b[0m\u001b[0;34m=\u001b[0m\u001b[0;36m1\u001b[0m\u001b[0;34m)\u001b[0m\u001b[0;34m\u001b[0m\u001b[0m\n\u001b[1;32m      9\u001b[0m \u001b[0mprint\u001b[0m \u001b[0;34m(\u001b[0m\u001b[0msumm\u001b[0m\u001b[0;34m.\u001b[0m\u001b[0mshape\u001b[0m\u001b[0;34m)\u001b[0m\u001b[0;34m\u001b[0m\u001b[0m\n\u001b[0;32m---> 10\u001b[0;31m \u001b[0mprint\u001b[0m\u001b[0;34m(\u001b[0m\u001b[0min_to_hid_weights\u001b[0m\u001b[0;34m/\u001b[0m\u001b[0msumm\u001b[0m\u001b[0;34m)\u001b[0m\u001b[0;34m\u001b[0m\u001b[0m\n\u001b[0m",
      "\u001b[0;31mValueError\u001b[0m: operands could not be broadcast together with shapes (5,10) (5,) "
     ],
     "output_type": "error"
    }
   ],
   "source": [
    "import numpy as np\n",
    "in_to_hid_weights = np.zeros((5, 10), dtype=np.float)\n",
    "for i in range(0, in_to_hid_weights.shape[0]):\n",
    "        for j in range(0, in_to_hid_weights.shape[1]):\n",
    "            in_to_hid_weights[i][j] =  rand.random()\n",
    "print(in_to_hid_weights.shape)\n",
    "\n",
    "summ = np.sum(in_to_hid_weights, axis=1)\n",
    "print (summ)\n",
    "print(in_to_hid_weights/summ)\n"
   ]
  },
  {
   "cell_type": "code",
   "execution_count": 6,
   "metadata": {},
   "outputs": [
    {
     "name": "stdout",
     "output_type": "stream",
     "text": [
      "(10000,)\n29\n30\n35\n40\n45\n54\n71\n82\n83\n91\n92\n97\n98\n112\n117\n132\n144\n154\n155\n175\n176\n200\n201\n211\n223\n224\n225\n244\n246\n254\n261\n265\n288\n305\n313\n315\n342\n367\n386\n392\n396\n406\n409\n418\n436\n470\n474\n488\n490\n502\n518\n520\n528\n552\n557\n565\n569\n575\n592\n613\n623\n630\n638\n643\n653\n654\n664\n679\n686\n710\n711\n736\n744\n745\n753\n754\n763\n770\n771\n772\n776\n781\n782\n788\n797\n801\n802\n821\n835\n837\n876\n883\n895\n902\n905\n922\n923\n930\n938\n946\n972\n974\n993\n1007\n1032\n1043\n1044\n1053\n1078\n1088\n1098\n1100\n1106\n1129\n1141\n1147\n1173\n1198\n1200\n1201\n1214\n1217\n1227\n1245\n1258\n1263\n1266\n1291\n1295\n1298\n1301\n1303\n1324\n1328\n1350\n1356\n1370\n1371\n1387\n1389\n1394\n1398\n1409\n1413\n1417\n1434\n1446\n1466\n1502\n1503\n1516\n1517\n1518\n1521\n1529\n1530\n1536\n1541\n1550\n1556\n1566\n1568\n1574\n1606\n1608\n1610\n1618\n1639\n1666\n1674\n1682\n1689\n1695\n1698\n1703\n1712\n1725\n1728\n1738\n1747\n1751\n1757\n1762\n1784\n1796\n1802\n1804\n1820\n1847\n1851\n1857\n1866\n1882\n1888\n1944\n1952\n1960\n1974\n1985\n1986\n1988\n1993\n2007\n2011\n2013\n2016\n2018\n2038\n2076\n2078\n2087\n2095\n2102\n2114\n2117\n2118\n2120\n2123\n2129\n2131\n2141\n2168\n2172\n2183\n2188\n2199\n2200\n2202\n2223\n2227\n2231\n2234\n2235\n2244\n2273\n2274\n2296\n2311\n2318\n2337\n2339\n2343\n2349\n2370\n2382\n2387\n2414\n2440\n2454\n2476\n2477\n2478\n2488\n2496\n2517\n2541\n2554\n2559\n2568\n2571\n2582\n2590\n2593\n2599\n2611\n2625\n2644\n2677\n2680\n2694\n2695\n2699\n2705\n2710\n2719\n2733\n2743\n2767\n2774\n2775\n2819\n2828\n2846\n2851\n2867\n2870\n2881\n2897\n2902\n2904\n2908\n2910\n2911\n2920\n2922\n2924\n2959\n2987\n2991\n2997\n3006\n3008\n3023\n3030\n3059\n3060\n3063\n3071\n3094\n3157\n3159\n3172\n3186\n3196\n3223\n3233\n3243\n3263\n3267\n3274\n3310\n3311\n3319\n3321\n3325\n3337\n3338\n3353\n3365\n3377\n3383\n3416\n3437\n3454\n3482\n3484\n3494\n3503\n3505\n3514\n3515\n3523\n3527\n3543\n3545\n3554\n3560\n3575\n3583\n3602\n3606\n3607\n3610\n3614\n3616\n3620\n3646\n3694\n3695\n3702\n3707\n3718\n3719\n3722\n3729\n3731\n3735\n3737\n3739\n3744\n3747\n3750\n3763\n3765\n3767\n3783\n3799\n3815\n3823\n3826\n3835\n3860\n3876\n3879\n3888\n3897\n3904\n3924\n3925\n3927\n3929\n3930\n3942\n3943\n3945\n3952\n3964\n3983\n3986\n4033\n4039\n4066\n4074\n4104\n4120\n4147\n4150\n4172\n4174\n4196\n4199\n4203\n4204\n4206\n4207\n4227\n4251\n4271\n4288\n4289\n4300\n4327\n4336\n4348\n4374\n4375\n4386\n4390\n4393\n4405\n4412\n4453\n4460\n4479\n4493\n4498\n4530\n4536\n4564\n4569\n4571\n4581\n4592\n4594\n4604\n4641\n4646\n4649\n4658\n4675\n4689\n4693\n4695\n4709\n4747\n4762\n4766\n4772\n4776\n4793\n4802\n4816\n4821\n4832\n4838\n4842\n4847\n4856\n4865\n4867\n4894\n4910\n4916\n4935\n4937\n4944\n4946\n4947\n4975\n4978\n4985\n4987\n4992\n5001\n5005\n5012\n5015\n5018\n5022\n5033\n5034\n5040\n5049\n5050\n5061\n5072\n5077\n5102\n5122\n5139\n5158\n5162\n5167\n5171\n5195\n5208\n5266\n5271\n5280\n5284\n5285\n5290\n5303\n5304\n5309\n5366\n5378\n5379\n5384\n5390\n5397\n5401\n5403\n5419\n5429\n5430\n5447\n5458\n5488\n5529\n5530\n5544\n5553\n5559\n5601\n5615\n5625\n5632\n5634\n5644\n5651\n5657\n5662\n5665\n5670\n5696\n5702\n5706\n5718\n5719\n5773\n5791\n5814\n5836\n5839\n5846\n5847\n5853\n5859\n5867\n5882\n5887\n5889\n5893\n5896\n5898\n5900\n5909\n5940\n5947\n5953\n5960\n5977\n5982\n5984\n5986\n6018\n6028\n6048\n6049\n6072\n6073\n6075\n6077\n6080\n6083\n6085\n6086\n6093\n6112\n6116\n6125\n6136\n6153\n6159\n6162\n6174\n6191\n6216\n6222\n6227\n6230\n6248\n6249\n6285\n6297\n6356\n6369\n6377\n6388\n6395\n6458\n6467\n6474\n6487\n6495\n6497\n6516\n6525\n6537\n6560\n6579\n6583\n6585\n6615\n6616\n6618\n6629\n6630\n6636\n6638\n6643\n6672\n6673\n6690\n6701\n6742\n6745\n6757\n6775\n6781\n6785\n6805\n6823\n6828\n6830\n6834\n6836\n6839\n6845\n6848\n6851\n6858\n6864\n6883\n6893\n6908\n6924\n6927\n6934\n6947\n6953\n6954\n6981\n6985\n6989\n6990\n7003\n7004\n7010\n7012\n7018\n7052\n7053\n7076\n7091\n7114\n7133\n7134\n7143\n7147\n7163\n7165\n7187\n7189\n7195\n7216\n7241\n7245\n7284\n7318\n7331\n7334\n7336\n7345\n7346\n7362\n7373\n7391\n7404\n7445\n7451\n7466\n7476\n7478\n7490\n7515\n7530\n7558\n7582\n7583\n7586\n7626\n7630\n7653\n7696\n7699\n7720\n7729\n7730\n7745\n7755\n7761\n7765\n7767\n7768\n7778\n7785\n7793\n7798\n7803\n7805\n7806\n7816\n7828\n7836\n7842\n7847\n7855\n7864\n7881\n7897\n7907\n7911\n7952\n7960\n7986\n7990\n8001\n8002\n8011\n8013\n8026\n8030\n8037\n8041\n8042\n8043\n8050\n8070\n8079\n8090\n8099\n8104\n8105\n8114\n8145\n8150\n8158\n8178\n8191\n8221\n8222\n8223\n8225\n8238\n8251\n8286\n8301\n8304\n8306\n8307\n8313\n8325\n8328\n8329\n8332\n8339\n8354\n8355\n8362\n8368\n8387\n8393\n8396\n8417\n8425\n8470\n8477\n8496\n8510\n8519\n8526\n8536\n8537\n8548\n8554\n8557\n8567\n8570\n8577\n8598\n8602\n8609\n8613\n8623\n8624\n8625\n8637\n8647\n8656\n8675\n8707\n8744\n8749\n8751\n8759\n8770\n8776\n8779\n8783\n8799\n8801\n8815\n8837\n8864\n8865\n8877\n8891\n8893\n8897\n8907\n8909\n8920\n8923\n8929\n8936\n8939\n8957\n8973\n9012\n9020\n9030\n9047\n9068\n9079\n9091\n9123\n9147\n9149\n9152\n9164\n9172\n9179\n9182\n9186\n9198\n9205\n9209\n9212\n9221\n9233\n9236\n9238\n9262\n9272\n9274\n9276\n9277\n9278\n9286\n9294\n9299\n9301\n9326\n9333\n9340\n9347\n9352\n9368\n9388\n9391\n9398\n9420\n9432\n9435\n9441\n9445\n9454\n9465\n9474\n9477\n9484\n9489\n9492\n9494\n9495\n9520\n9528\n9541\n9542\n9550\n9552\n9564\n9582\n9589\n9600\n9634\n9636\n9638\n9640\n9658\n9677\n9679\n9684\n9691\n9726\n9738\n9752\n9753\n9758\n9769\n9781\n9792\n9795\n9803\n9816\n9833\n9844\n9847\n9870\n9884\n9892\n9894\n9895\n9914\n9915\n9923\n9935\n9942\n9947\n9969\n"
     ]
    }
   ],
   "source": [
    "print(rmap.shape)\n",
    "for i in range(0,rmap.shape[0]):\n",
    "    if(rmap[i]!=0):\n",
    "        print(str(i)+\" \"+str(rmap[i]) )"
   ]
  },
  {
   "cell_type": "code",
   "execution_count": null,
   "metadata": {},
   "outputs": [],
   "source": [
    ""
   ]
  }
 ],
 "metadata": {
  "kernelspec": {
   "display_name": "Python 2",
   "language": "python",
   "name": "python2"
  },
  "language_info": {
   "codemirror_mode": {
    "name": "ipython",
    "version": 2.0
   },
   "file_extension": ".py",
   "mimetype": "text/x-python",
   "name": "python",
   "nbconvert_exporter": "python",
   "pygments_lexer": "ipython2",
   "version": "2.7.6"
  }
 },
 "nbformat": 4,
 "nbformat_minor": 0
}