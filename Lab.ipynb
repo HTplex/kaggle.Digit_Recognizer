{
 "cells": [
  {
   "cell_type": "markdown",
   "metadata": {
    "collapsed": true
   },
   "source": [
    "testing simultaneous array calclation"
   ]
  },
  {
   "cell_type": "code",
   "execution_count": 5,
   "metadata": {},
   "outputs": [
    {
     "name": "stdout",
     "output_type": "stream",
     "text": [
      "[[ 0.  0.  0.  0.  0.]\n [ 0.  0.  0.  0.  0.]\n [ 0.  0.  0.  0.  0.]\n [ 0.  0.  0.  0.  0.]\n [ 0.  0.  0.  0.  0.]]\n"
     ]
    }
   ],
   "source": [
    "import numpy as np\n",
    "p = np.zeros((5,5))\n",
    "print(p)"
   ]
  },
  {
   "cell_type": "code",
   "execution_count": 6,
   "metadata": {},
   "outputs": [
    {
     "name": "stdout",
     "output_type": "stream",
     "text": [
      "(5, 5)\n"
     ]
    }
   ],
   "source": [
    "print(p.shape)"
   ]
  },
  {
   "cell_type": "code",
   "execution_count": 7,
   "metadata": {},
   "outputs": [
    {
     "name": "stdout",
     "output_type": "stream",
     "text": [
      "[0, 1, 2, 3, 4, 5, 6, 7, 8, 9]\n"
     ]
    }
   ],
   "source": [
    "matrix =[i for i in range(0,10)]\n",
    "print(matrix)##???"
   ]
  },
  {
   "cell_type": "code",
   "execution_count": 8,
   "metadata": {},
   "outputs": [
    {
     "name": "stdout",
     "output_type": "stream",
     "text": [
      "[[  0.   1.   2.   3.   4.]\n [  5.   6.   7.   8.   9.]\n [ 10.  11.  12.  13.  14.]\n [ 15.  16.  17.  18.  19.]\n [ 20.  21.  22.  23.  24.]]\n"
     ]
    }
   ],
   "source": [
    "for i in range(0,5):\n",
    "    for j in range(0,5):\n",
    "        p[i][j] = 5*i+j\n",
    "print(p)"
   ]
  },
  {
   "cell_type": "code",
   "execution_count": 9,
   "metadata": {},
   "outputs": [
    {
     "name": "stdout",
     "output_type": "stream",
     "text": [
      "[[   0.    1.    4.    9.   16.]\n [  25.   36.   49.   64.   81.]\n [ 100.  121.  144.  169.  196.]\n [ 225.  256.  289.  324.  361.]\n [ 400.  441.  484.  529.  576.]]\n"
     ]
    }
   ],
   "source": [
    "print(p*p)"
   ]
  },
  {
   "cell_type": "code",
   "execution_count": 10,
   "metadata": {},
   "outputs": [
    {
     "name": "stdout",
     "output_type": "stream",
     "text": [
      "[[  150.   160.   170.   180.   190.]\n [  400.   435.   470.   505.   540.]\n [  650.   710.   770.   830.   890.]\n [  900.   985.  1070.  1155.  1240.]\n [ 1150.  1260.  1370.  1480.  1590.]]\n"
     ]
    }
   ],
   "source": [
    "print(np.dot(p,p))"
   ]
  },
  {
   "cell_type": "code",
   "execution_count": 11,
   "metadata": {},
   "outputs": [
    {
     "name": "stdout",
     "output_type": "stream",
     "text": [
      "[[  1.   2.   3.   4.   5.]\n [  6.   7.   8.   9.  10.]\n [ 11.  12.  13.  14.  15.]\n [ 16.  17.  18.  19.  20.]\n [ 21.  22.  23.  24.  25.]]\n"
     ]
    }
   ],
   "source": [
    "no_zero = p + 1\n",
    "print(no_zero)"
   ]
  },
  {
   "cell_type": "code",
   "execution_count": 12,
   "metadata": {},
   "outputs": [
    {
     "name": "stdout",
     "output_type": "stream",
     "text": [
      "[[  1.00000000e+00   2.71828183e+00   7.38905610e+00   2.00855369e+01\n    5.45981500e+01]\n [  1.48413159e+02   4.03428793e+02   1.09663316e+03   2.98095799e+03\n    8.10308393e+03]\n [  2.20264658e+04   5.98741417e+04   1.62754791e+05   4.42413392e+05\n    1.20260428e+06]\n [  3.26901737e+06   8.88611052e+06   2.41549528e+07   6.56599691e+07\n    1.78482301e+08]\n [  4.85165195e+08   1.31881573e+09   3.58491285e+09   9.74480345e+09\n    2.64891221e+10]]\n"
     ]
    }
   ],
   "source": [
    "test_exp = np.exp(p)\n",
    "print(test_exp)"
   ]
  },
  {
   "cell_type": "code",
   "execution_count": 13,
   "metadata": {},
   "outputs": [
    {
     "name": "stdout",
     "output_type": "stream",
     "text": [
      "[[ 0.5         0.73105858  0.88079708  0.95257413  0.98201379]\n [ 0.99330715  0.99752738  0.99908895  0.99966465  0.99987661]\n [ 0.9999546   0.9999833   0.99999386  0.99999774  0.99999917]\n [ 0.99999969  0.99999989  0.99999996  0.99999998  0.99999999]\n [ 1.          1.          1.          1.          1.        ]]\n"
     ]
    }
   ],
   "source": [
    "sigmoid = (1/(1+np.exp(-p)))\n",
    "print(sigmoid)"
   ]
  },
  {
   "cell_type": "markdown",
   "metadata": {},
   "source": [
    "test complete\n"
   ]
  },
  {
   "cell_type": "code",
   "execution_count": 15,
   "metadata": {},
   "outputs": [
    {
     "name": "stdout",
     "output_type": "stream",
     "text": [
      "[ 55.  60.  65.  70.  75.]\n"
     ]
    }
   ],
   "source": [
    "print(sum(no_zero))"
   ]
  },
  {
   "cell_type": "code",
   "execution_count": null,
   "metadata": {},
   "outputs": [],
   "source": [
    ""
   ]
  }
 ],
 "metadata": {
  "kernelspec": {
   "display_name": "Python 2",
   "language": "python",
   "name": "python2"
  },
  "language_info": {
   "codemirror_mode": {
    "name": "ipython",
    "version": 2.0
   },
   "file_extension": ".py",
   "mimetype": "text/x-python",
   "name": "python",
   "nbconvert_exporter": "python",
   "pygments_lexer": "ipython2",
   "version": "2.7.6"
  }
 },
 "nbformat": 4,
 "nbformat_minor": 0
}