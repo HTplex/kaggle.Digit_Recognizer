{
 "cells": [
  {
   "cell_type": "code",
   "execution_count": 4,
   "metadata": {
    "collapsed": true
   },
   "outputs": [],
   "source": [
    "#imports\n",
    "import pandas as pd\n",
    "import matplotlib.pyplot as plt\n",
    "import numpy as np\n",
    "import random as rand"
   ]
  },
  {
   "cell_type": "code",
   "execution_count": 5,
   "metadata": {
    "collapsed": true
   },
   "outputs": [],
   "source": [
    "num_of_hidden_unit = 200\n",
    "batch_size = 5\n",
    "epoch = 10\n",
    "weights_init = 0.01\n",
    "alpha = 0.01\n",
    "CE_freq = 500\n",
    "#print(num_of_hidden_unit)"
   ]
  },
  {
   "cell_type": "code",
   "execution_count": 6,
   "metadata": {},
   "outputs": [
    {
     "name": "stdout",
     "output_type": "stream",
     "text": [
      "[[ 0.  0.  0. ...,  0.  0.  0.]\n [ 0.  0.  0. ...,  0.  0.  0.]\n [ 0.  0.  0. ...,  0.  0.  0.]\n ..., \n [ 0.  0.  0. ...,  0.  0.  0.]\n [ 0.  0.  0. ...,  0.  0.  0.]\n [ 0.  0.  0. ...,  0.  0.  0.]]\n32000\n[1 0 1 ..., 7 8 0]\n(32000,)\n[[ 0.  0.  0. ...,  0.  0.  0.]\n [ 0.  0.  0. ...,  0.  0.  0.]\n [ 0.  0.  0. ...,  0.  0.  0.]\n ..., \n [ 0.  0.  0. ...,  0.  0.  0.]\n [ 0.  0.  0. ...,  0.  0.  0.]\n [ 0.  0.  0. ...,  0.  0.  0.]]\n(10000, 784)\n"
     ]
    }
   ],
   "source": [
    "#data processing\n",
    "train_data = (pd.read_csv(\"~/Developer/kaggle.Digit_Recognizer/datasets/train.csv\")\n",
    "               .iloc[:32000,1:].values).astype('float32')\n",
    "train_label = (pd.read_csv(\"~/Developer/kaggle.Digit_Recognizer/datasets/train.csv\")\n",
    "               .iloc[:32000,0].values).astype('int32')\n",
    "test_data = (pd.read_csv(\"~/Developer/kaggle.Digit_Recognizer/datasets/train.csv\")\n",
    "               .iloc[32000:,1:].values).astype('float32')\n",
    "test_label = (pd.read_csv(\"~/Developer/kaggle.Digit_Recognizer/datasets/train.csv\")\n",
    "               .iloc[32000:,0].values).astype('int32')\n",
    "#test_data = (pd.read_csv(\"~/Developer/kaggle.Digit_Recognizer/datasets/test.csv\")\n",
    "#               .iloc[:,:].values).astype('float32')\n",
    "print(train_data)\n",
    "print(train_data.shape[0])\n",
    "print(train_label)\n",
    "print(train_label.shape)\n",
    "print(test_data)\n",
    "print(test_data.shape)"
   ]
  },
  {
   "cell_type": "code",
   "execution_count": 7,
   "metadata": {},
   "outputs": [
    {
     "name": "stdout",
     "output_type": "stream",
     "text": [
      "[[0 1 0 ..., 0 0 0]\n [1 0 0 ..., 0 0 0]\n [0 1 0 ..., 0 0 0]\n ..., \n [0 0 0 ..., 1 0 0]\n [0 0 0 ..., 0 1 0]\n [1 0 0 ..., 0 0 0]]\n(32000, 10)\n"
     ]
    }
   ],
   "source": [
    "#one hot encode label\n",
    "num_of_labels = train_label.shape[0]\n",
    "encoded_labels = np.zeros((num_of_labels, 10),\n",
    "                              dtype=np.int)\n",
    "for i in range(0, num_of_labels):\n",
    "    encoded_labels[i][train_label[i]] = 1\n",
    "train_label = encoded_labels\n",
    "print(train_label)\n",
    "print(train_label.shape)\n",
    "# regularlize data\n",
    "train_data /= 255\n",
    "test_data /= 255"
   ]
  },
  {
   "cell_type": "code",
   "execution_count": 8,
   "metadata": {},
   "outputs": [
    {
     "name": "stdout",
     "output_type": "stream",
     "text": [
      "(784, 200)\n(200, 10)\n"
     ]
    }
   ],
   "source": [
    "#weights init\n",
    "rand.seed(a=123123)\n",
    "#print(rand.random())\n",
    "in_to_hid_weights = np.zeros((train_data.shape[1],\n",
    "                              num_of_hidden_unit),\n",
    "                             dtype=np.float)\n",
    "for i in range(0, in_to_hid_weights.shape[0]):\n",
    "    for j in range(0, in_to_hid_weights.shape[1]):\n",
    "        in_to_hid_weights[i][j] = weights_init*rand.random()\n",
    "#print(in_to_hid_weights)\n",
    "print(in_to_hid_weights.shape)\n",
    "\n",
    "hid_to_out_weights = np.zeros((num_of_hidden_unit,\n",
    "                              train_label.shape[1]),\n",
    "                             dtype=np.float)\n",
    "for i in range(0, hid_to_out_weights.shape[0]):\n",
    "    for j in range(0, hid_to_out_weights.shape[1]):\n",
    "        hid_to_out_weights[i][j] = weights_init*rand.random()\n",
    "#print(hid_to_out_weights)\n",
    "print(hid_to_out_weights.shape)"
   ]
  },
  {
   "cell_type": "code",
   "execution_count": 9,
   "metadata": {},
   "outputs": [],
   "source": [
    "#mini batch fprop\n",
    "batch_index = 0;\n",
    "#while batch_index+batch_size < train_data.shape[0]:\n",
    "while  batch_index == 0:\n",
    "    train_batch = train_data[batch_index:\n",
    "    batch_index+batch_size,:]\n",
    "    train_label_batch = train_label[batch_index:\n",
    "    batch_index+batch_size,:]\n",
    "    # print(train_batch)\n",
    "    # print(train_batch.shape)\n",
    "    # print(train_label_batch)\n",
    "    # print(train_label_batch.shape)\n",
    "    batch_index = batch_index+batch_size"
   ]
  },
  {
   "cell_type": "code",
   "execution_count": 10,
   "metadata": {},
   "outputs": [
    {
     "name": "stdout",
     "output_type": "stream",
     "text": [
      "(5, 200)\n[[ 0.58492692  0.58321924  0.58574199  0.58698478  0.57520467  0.58242387\n   0.57797305  0.57491706  0.58137751  0.58398154]\n [ 0.71422534  0.71041035  0.71531522  0.71840126  0.69188125  0.70909573\n   0.69706409  0.69178925  0.70720071  0.71206817]\n [ 0.56838805  0.56734089  0.56877659  0.56995211  0.56075497  0.56700363\n   0.56232376  0.56056695  0.56612293  0.56758395]\n [ 0.577048    0.57558044  0.57709918  0.5781771   0.56825627  0.57463736\n   0.56986619  0.56776827  0.5741663   0.57634502]\n [ 0.74035963  0.73651816  0.74168702  0.74502282  0.71626619  0.73518796\n   0.72205546  0.71616531  0.73295239  0.73826317]]\n(5, 10)\n"
     ]
    }
   ],
   "source": [
    "#fprop\n",
    "hid_state = np.dot(train_batch,in_to_hid_weights)\n",
    "out_state = np.dot(hid_state,hid_to_out_weights)\n",
    "out_state = 1/(1+np.exp(-out_state))\n",
    "#print(hid_state)\n",
    "print(hid_state.shape)\n",
    "print(out_state)\n",
    "print(out_state.shape)"
   ]
  },
  {
   "cell_type": "code",
   "execution_count": null,
   "metadata": {},
   "outputs": [
    {
     "ename": "NameError",
     "evalue": "name 'out_state' is not defined",
     "traceback": [
      "\u001b[0;31m---------------------------------------------------------------------------\u001b[0m",
      "\u001b[0;31mNameError\u001b[0m                                 Traceback (most recent call last)",
      "\u001b[0;32m<ipython-input-3-507a31c428bf>\u001b[0m in \u001b[0;36m<module>\u001b[0;34m()\u001b[0m\n\u001b[1;32m      1\u001b[0m \u001b[0;31m#bprop with bias\u001b[0m\u001b[0;34m\u001b[0m\u001b[0;34m\u001b[0m\u001b[0m\n\u001b[0;32m----> 2\u001b[0;31m \u001b[0merr\u001b[0m \u001b[0;34m=\u001b[0m \u001b[0mout_state\u001b[0m\u001b[0;34m-\u001b[0m\u001b[0mtrain_label_batch\u001b[0m\u001b[0;34m\u001b[0m\u001b[0m\n\u001b[0m\u001b[1;32m      3\u001b[0m \u001b[0mprint\u001b[0m\u001b[0;34m(\u001b[0m\u001b[0mtrain_label_batch\u001b[0m\u001b[0;34m)\u001b[0m\u001b[0;34m\u001b[0m\u001b[0m\n\u001b[1;32m      4\u001b[0m \u001b[0mprint\u001b[0m\u001b[0;34m(\u001b[0m\u001b[0merr\u001b[0m\u001b[0;34m)\u001b[0m\u001b[0;34m\u001b[0m\u001b[0m\n\u001b[1;32m      5\u001b[0m \u001b[0mCE\u001b[0m \u001b[0;34m=\u001b[0m \u001b[0;34m(\u001b[0m\u001b[0merr\u001b[0m\u001b[0;34m*\u001b[0m\u001b[0merr\u001b[0m\u001b[0;34m/\u001b[0m\u001b[0;36m2\u001b[0m\u001b[0;34m)\u001b[0m\u001b[0;34m.\u001b[0m\u001b[0msum\u001b[0m\u001b[0;34m(\u001b[0m\u001b[0maxis\u001b[0m\u001b[0;34m=\u001b[0m\u001b[0;36m1\u001b[0m\u001b[0;34m)\u001b[0m\u001b[0;34m\u001b[0m\u001b[0m\n",
      "\u001b[0;31mNameError\u001b[0m: name 'out_state' is not defined"
     ],
     "output_type": "error"
    }
   ],
   "source": [
    "#bprop:err\n",
    "err = out_state-train_label_batch\n",
    "print(train_label_batch)\n",
    "print(err)\n",
    "CE = (err*err/2).sum(axis=1)\n",
    "print(CE)\n",
    "print(CE.shape)\n",
    "\n",
    "d_Out = out_state*(1-out_state)*err\n",
    "\n",
    "\n",
    "print(d_Out)\n",
    "print(d_Out.shape)\n",
    "print(hid_to_out_weights.shape)\n",
    "print(hid_state.shape)\n",
    "\n",
    "# [[batch1_dout1, batch1_dout2, ...]\n",
    "#  [batch2_dout1, batch2_dout2, ...]\n",
    "#  [batch3_dout1, batch3_dout2, ...]]\n",
    "\n",
    "# [[batch1_hid1, batch1_hid2, ...]\n",
    "#  [batch2_hid1, batch2_hid2, ...]\n",
    "#  [batch3_hid1, batch3_hid2, ...]]\n",
    "#out\n",
    "#  [[batch123_hid1*dout1, batch123_hid2*dout2, ...]\n",
    "#   [batch123_hid2*dout1, batch123_hid2*dout2, ...]\n",
    "#   ...                                           ]\n",
    "d_hid_to_out = np.dot(hid_state.transpose(), d_Out)\n",
    "\n",
    "#print(d_hid_to_out)\n",
    "print(d_hid_to_out.shape)\n",
    "\n",
    "#[[hid1_out1, hid1_out2, ...]\n",
    "# [hid2_out1, hid2_out2, ...]\n",
    "# [...                      ]]\n",
    "\n",
    "#[[batch1_dout1, batch1_dout2, ...]\n",
    "# [batch2_dout1, batch2_dout2, ...]\n",
    "# [batch3_dout1, batch3_dout2, ...]]\n",
    "#out\n",
    "#[[batch1_hid1(out:) batch1_hid2(out:), ...]\n",
    "# [batch2_hid1(out:) batch2_hid2(out:), ...]\n",
    "# [...                                     ]]\n",
    "d_hid = np.dot(d_Out, hid_to_out_weights.transpose())\n",
    "#print(d_hid)\n",
    "print(d_hid.shape)\n",
    "print(in_to_hid_weights.shape)\n",
    "#[[batch1_dhid1, batch1_dhid2, ...]\n",
    "# [batch2_dhid1, batch2_dhid2, ...]\n",
    "# [...                            ]]\n",
    "\n",
    "#[[batch1_in1, batch1_in2, ...]\n",
    "# [batch2_in1, batch2_in2, ...]\n",
    "# [...                        ]]\n",
    "#out\n",
    "#[[in1*dhid1(batch123, in1*dhid2(batch123, ...]\n",
    "# [in2*dhid1(batch123, in2*dhid2(batch123, ...]\n",
    "# [...                                        ]]\n",
    "\n",
    "d_in_to_hid = np.dot(train_batch.transpose(),d_hid)\n",
    "print(d_in_to_hid.shape)"
   ]
  },
  {
   "cell_type": "code",
   "execution_count": 3,
   "metadata": {},
   "outputs": [
    {
     "ename": "NameError",
     "evalue": "name 'out_state' is not defined",
     "traceback": [
      "\u001b[0;31m---------------------------------------------------------------------------\u001b[0m",
      "\u001b[0;31mNameError\u001b[0m                                 Traceback (most recent call last)",
      "\u001b[0;32m<ipython-input-3-507a31c428bf>\u001b[0m in \u001b[0;36m<module>\u001b[0;34m()\u001b[0m\n\u001b[1;32m      1\u001b[0m \u001b[0;31m#bprop with bias\u001b[0m\u001b[0;34m\u001b[0m\u001b[0;34m\u001b[0m\u001b[0m\n\u001b[0;32m----> 2\u001b[0;31m \u001b[0merr\u001b[0m \u001b[0;34m=\u001b[0m \u001b[0mout_state\u001b[0m\u001b[0;34m-\u001b[0m\u001b[0mtrain_label_batch\u001b[0m\u001b[0;34m\u001b[0m\u001b[0m\n\u001b[0m\u001b[1;32m      3\u001b[0m \u001b[0mprint\u001b[0m\u001b[0;34m(\u001b[0m\u001b[0mtrain_label_batch\u001b[0m\u001b[0;34m)\u001b[0m\u001b[0;34m\u001b[0m\u001b[0m\n\u001b[1;32m      4\u001b[0m \u001b[0mprint\u001b[0m\u001b[0;34m(\u001b[0m\u001b[0merr\u001b[0m\u001b[0;34m)\u001b[0m\u001b[0;34m\u001b[0m\u001b[0m\n\u001b[1;32m      5\u001b[0m \u001b[0mCE\u001b[0m \u001b[0;34m=\u001b[0m \u001b[0;34m(\u001b[0m\u001b[0merr\u001b[0m\u001b[0;34m*\u001b[0m\u001b[0merr\u001b[0m\u001b[0;34m/\u001b[0m\u001b[0;36m2\u001b[0m\u001b[0;34m)\u001b[0m\u001b[0;34m.\u001b[0m\u001b[0msum\u001b[0m\u001b[0;34m(\u001b[0m\u001b[0maxis\u001b[0m\u001b[0;34m=\u001b[0m\u001b[0;36m1\u001b[0m\u001b[0;34m)\u001b[0m\u001b[0;34m\u001b[0m\u001b[0m\n",
      "\u001b[0;31mNameError\u001b[0m: name 'out_state' is not defined"
     ],
     "output_type": "error"
    }
   ],
   "source": [
    "#bprop with bias\n",
    "err = out_state-train_label_batch\n",
    "print(train_label_batch)\n",
    "print(err)\n",
    "CE = (err*err/2).sum(axis=1)\n",
    "print(CE)\n",
    "print(CE.shape)\n",
    "\n",
    "d_Out = out_state*(1-out_state)*err\n",
    "\n",
    "\n",
    "print(d_Out)\n",
    "print(d_Out.shape)\n",
    "print(hid_to_out_weights.shape)\n",
    "print(hid_state.shape)\n",
    "\n",
    "# [[batch1_dout1, batch1_dout2, ...]\n",
    "#  [batch2_dout1, batch2_dout2, ...]\n",
    "#  [batch3_dout1, batch3_dout2, ...]]\n",
    "\n",
    "# [[batch1_hid1, batch1_hid2, ...]\n",
    "#  [batch2_hid1, batch2_hid2, ...]\n",
    "#  [batch3_hid1, batch3_hid2, ...]]\n",
    "#out\n",
    "#  [[batch123_hid1*dout1, batch123_hid2*dout2, ...]\n",
    "#   [batch123_hid2*dout1, batch123_hid2*dout2, ...]\n",
    "#   ...                                           ]\n",
    "d_hid_to_out = np.dot(hid_state.transpose(), d_Out)\n",
    "\n",
    "# [[batch1_dout1, batch1_dout2, ...]\n",
    "#  [batch2_dout1, batch2_dout2, ...]\n",
    "#  [batch3_dout1, batch3_dout2, ...]]\n",
    "\n",
    "#[\n",
    "\n",
    "#print(d_hid_to_out)\n",
    "print(d_hid_to_out.shape)\n",
    "\n",
    "#[[hid1_out1, hid1_out2, ...]\n",
    "# [hid2_out1, hid2_out2, ...]\n",
    "# [...                      ]]\n",
    "\n",
    "#[[batch1_dout1, batch1_dout2, ...]\n",
    "# [batch2_dout1, batch2_dout2, ...]\n",
    "# [batch3_dout1, batch3_dout2, ...]]\n",
    "#out\n",
    "#[[batch1_hid1(out:) batch1_hid2(out:), ...]\n",
    "# [batch2_hid1(out:) batch2_hid2(out:), ...]\n",
    "# [...                                     ]]\n",
    "d_hid = np.dot(d_Out, hid_to_out_weights.transpose())\n",
    "#print(d_hid)\n",
    "print(d_hid.shape)\n",
    "print(in_to_hid_weights.shape)\n",
    "#[[batch1_dhid1, batch1_dhid2, ...]\n",
    "# [batch2_dhid1, batch2_dhid2, ...]\n",
    "# [...                            ]]\n",
    "\n",
    "#[[batch1_in1, batch1_in2, ...]\n",
    "# [batch2_in2, batch2_in2, ...]\n",
    "# [...                        ]]\n",
    "#out\n",
    "#[[in1*dhid1(batch123, in1*dhid2(batch123, ...]\n",
    "# [in2*dhid1(batch123, in2*dhid2(batch123, ...]\n",
    "# [...                                        ]]\n",
    "\n",
    "d_in_to_hid = np.dot(train_batch.transpose(),d_hid)\n",
    "print(d_in_to_hid.shape)\n",
    "\n",
    "#in\n",
    "#[[batch1_hid1(out:) batch1_hid2(out:), ...]\n",
    "# [batch2_hid1(out:) batch2_hid2(out:), ...]\n",
    "# [...                                     ]]\n",
    "\n",
    "#[[in1_hid1, in1_hid2, ...]\n",
    "# [in2_hid1, in2_hid2, ...]\n",
    "# [...                    ]]\n",
    "\n",
    "#OUT\n",
    "#[[batch1_dhid1*in1_hid1+batch1_dhid2*in1_hid2+ ..., batch1_dhid1*in2hid1+batch1_dhid2*in2hid2+...]\n",
    "# [batch2_dhid1*in1_hid1+batch2_dhid2*in1_hid2+ ..., batch2_dhid1*in2hid1+batch1_dhid2*in2hid2+...]\n",
    "# [...                                                                                            ]\n",
    "\n",
    "d_in = np.dot(d_hid,in_to_hid_weights.transpose())"
   ]
  },
  {
   "cell_type": "code",
   "execution_count": 37,
   "metadata": {},
   "outputs": [
    {
     "name": "stdout",
     "output_type": "stream",
     "text": [
      "(50, 10)\n(50, 10)\n(784, 50)\n(784, 50)\n"
     ]
    }
   ],
   "source": [
    "#update weights\n",
    "del_hid_to_out = -1*alpha*d_hid_to_out\n",
    "del_in_to_hid = -1*alpha*d_in_to_hid\n",
    "print(del_hid_to_out.shape)\n",
    "print(hid_to_out_weights.shape)\n",
    "print(del_in_to_hid.shape)\n",
    "print(in_to_hid_weights.shape)\n",
    "hid_to_out_weights+=del_hid_to_out\n",
    "in_to_hid_weights+=del_in_to_hid"
   ]
  },
  {
   "cell_type": "code",
   "execution_count": null,
   "metadata": {},
   "outputs": [
    {
     "name": "stdout",
     "output_type": "stream",
     "text": [
      "0.1139\nepoch: 0 7.8125%\n"
     ]
    },
    {
     "name": "stdout",
     "output_type": "stream",
     "text": [
      "0.1139\nepoch: 0 15.625%\n"
     ]
    },
    {
     "name": "stdout",
     "output_type": "stream",
     "text": [
      "0.1139\nepoch: 0 23.4375%\n"
     ]
    },
    {
     "name": "stdout",
     "output_type": "stream",
     "text": [
      "0.1139\nepoch: 0 31.25%\n"
     ]
    },
    {
     "name": "stdout",
     "output_type": "stream",
     "text": [
      "0.1139\nepoch: 0 39.0625%\n"
     ]
    },
    {
     "name": "stdout",
     "output_type": "stream",
     "text": [
      "0.1139\nepoch: 0 46.875%\n"
     ]
    },
    {
     "name": "stdout",
     "output_type": "stream",
     "text": [
      "0.1335\nepoch: 0 54.6875%\n"
     ]
    },
    {
     "name": "stdout",
     "output_type": "stream",
     "text": [
      "0.1316\nepoch: 0 62.5%\n"
     ]
    },
    {
     "name": "stdout",
     "output_type": "stream",
     "text": [
      "0.1821\nepoch: 0 70.3125%\n"
     ]
    },
    {
     "name": "stdout",
     "output_type": "stream",
     "text": [
      "0.1933\nepoch: 0 78.125%\n"
     ]
    },
    {
     "name": "stdout",
     "output_type": "stream",
     "text": [
      "0.2511\nepoch: 0 85.9375%\n"
     ]
    },
    {
     "name": "stdout",
     "output_type": "stream",
     "text": [
      "0.2639\nepoch: 0 93.75%\n"
     ]
    },
    {
     "name": "stdout",
     "output_type": "stream",
     "text": [
      "0.3926\nepoch: 1 7.8125%\n"
     ]
    },
    {
     "name": "stdout",
     "output_type": "stream",
     "text": [
      "0.415\nepoch: 1 15.625%\n"
     ]
    },
    {
     "name": "stdout",
     "output_type": "stream",
     "text": [
      "0.4165\nepoch: 1 23.4375%\n"
     ]
    },
    {
     "name": "stdout",
     "output_type": "stream",
     "text": [
      "0.5317\nepoch: 1 31.25%\n"
     ]
    },
    {
     "name": "stdout",
     "output_type": "stream",
     "text": [
      "0.5348\nepoch: 1 39.0625%\n"
     ]
    },
    {
     "name": "stdout",
     "output_type": "stream",
     "text": [
      "0.5981\nepoch: 1 46.875%\n"
     ]
    },
    {
     "name": "stdout",
     "output_type": "stream",
     "text": [
      "0.5934\nepoch: 1 54.6875%\n"
     ]
    },
    {
     "name": "stdout",
     "output_type": "stream",
     "text": [
      "0.6209\nepoch: 1 62.5%\n"
     ]
    },
    {
     "name": "stdout",
     "output_type": "stream",
     "text": [
      "0.6241\nepoch: 1 70.3125%\n"
     ]
    },
    {
     "name": "stdout",
     "output_type": "stream",
     "text": [
      "0.6775\nepoch: 1 78.125%\n"
     ]
    },
    {
     "name": "stdout",
     "output_type": "stream",
     "text": [
      "0.6831\nepoch: 1 85.9375%\n"
     ]
    },
    {
     "name": "stdout",
     "output_type": "stream",
     "text": [
      "0.7224\nepoch: 1 93.75%\n"
     ]
    },
    {
     "name": "stdout",
     "output_type": "stream",
     "text": [
      "0.7423\nepoch: 2 7.8125%\n"
     ]
    },
    {
     "name": "stdout",
     "output_type": "stream",
     "text": [
      "0.7414\nepoch: 2 15.625%\n"
     ]
    },
    {
     "name": "stdout",
     "output_type": "stream",
     "text": [
      "0.751\nepoch: 2 23.4375%\n"
     ]
    },
    {
     "name": "stdout",
     "output_type": "stream",
     "text": [
      "0.7615\nepoch: 2 31.25%\n"
     ]
    },
    {
     "name": "stdout",
     "output_type": "stream",
     "text": [
      "0.7723\nepoch: 2 39.0625%\n"
     ]
    },
    {
     "name": "stdout",
     "output_type": "stream",
     "text": [
      "0.789\nepoch: 2 46.875%\n"
     ]
    },
    {
     "name": "stdout",
     "output_type": "stream",
     "text": [
      "0.7779\nepoch: 2 54.6875%\n"
     ]
    },
    {
     "name": "stdout",
     "output_type": "stream",
     "text": [
      "0.7961\nepoch: 2 62.5%\n"
     ]
    },
    {
     "name": "stdout",
     "output_type": "stream",
     "text": [
      "0.8025\nepoch: 2 70.3125%\n"
     ]
    },
    {
     "name": "stdout",
     "output_type": "stream",
     "text": [
      "0.813\nepoch: 2 78.125%\n"
     ]
    },
    {
     "name": "stdout",
     "output_type": "stream",
     "text": [
      "0.8269\nepoch: 2 85.9375%\n"
     ]
    },
    {
     "name": "stdout",
     "output_type": "stream",
     "text": [
      "0.8326\nepoch: 2 93.75%\n"
     ]
    },
    {
     "name": "stdout",
     "output_type": "stream",
     "text": [
      "0.8424\nepoch: 3 7.8125%\n"
     ]
    },
    {
     "name": "stdout",
     "output_type": "stream",
     "text": [
      "0.8602\nepoch: 3 15.625%\n"
     ]
    },
    {
     "name": "stdout",
     "output_type": "stream",
     "text": [
      "0.8583\nepoch: 3 23.4375%\n"
     ]
    },
    {
     "name": "stdout",
     "output_type": "stream",
     "text": [
      "0.865\nepoch: 3 31.25%\n"
     ]
    },
    {
     "name": "stdout",
     "output_type": "stream",
     "text": [
      "0.8693\nepoch: 3 39.0625%\n"
     ]
    },
    {
     "name": "stdout",
     "output_type": "stream",
     "text": [
      "0.8713\nepoch: 3 46.875%\n"
     ]
    },
    {
     "name": "stdout",
     "output_type": "stream",
     "text": [
      "0.87\nepoch: 3 54.6875%\n"
     ]
    },
    {
     "name": "stdout",
     "output_type": "stream",
     "text": [
      "0.8735\nepoch: 3 62.5%\n"
     ]
    },
    {
     "name": "stdout",
     "output_type": "stream",
     "text": [
      "0.8737\nepoch: 3 70.3125%\n"
     ]
    },
    {
     "name": "stdout",
     "output_type": "stream",
     "text": [
      "0.8784\nepoch: 3 78.125%\n"
     ]
    },
    {
     "name": "stdout",
     "output_type": "stream",
     "text": [
      "0.884\nepoch: 3 85.9375%\n"
     ]
    },
    {
     "name": "stdout",
     "output_type": "stream",
     "text": [
      "0.8819\nepoch: 3 93.75%\n"
     ]
    },
    {
     "name": "stdout",
     "output_type": "stream",
     "text": [
      "0.8852\nepoch: 4 7.8125%\n"
     ]
    },
    {
     "name": "stdout",
     "output_type": "stream",
     "text": [
      "0.8861\nepoch: 4 15.625%\n"
     ]
    },
    {
     "name": "stdout",
     "output_type": "stream",
     "text": [
      "0.8855\nepoch: 4 23.4375%\n"
     ]
    },
    {
     "name": "stdout",
     "output_type": "stream",
     "text": [
      "0.8874\nepoch: 4 31.25%\n"
     ]
    },
    {
     "name": "stdout",
     "output_type": "stream",
     "text": [
      "0.8884\nepoch: 4 39.0625%\n"
     ]
    },
    {
     "name": "stdout",
     "output_type": "stream",
     "text": [
      "0.8869\nepoch: 4 46.875%\n"
     ]
    },
    {
     "name": "stdout",
     "output_type": "stream",
     "text": [
      "0.8867\nepoch: 4 54.6875%\n"
     ]
    },
    {
     "name": "stdout",
     "output_type": "stream",
     "text": [
      "0.8853\nepoch: 4 62.5%\n"
     ]
    },
    {
     "name": "stdout",
     "output_type": "stream",
     "text": [
      "0.8866\nepoch: 4 70.3125%\n"
     ]
    },
    {
     "name": "stdout",
     "output_type": "stream",
     "text": [
      "0.8894\nepoch: 4 78.125%\n"
     ]
    },
    {
     "name": "stdout",
     "output_type": "stream",
     "text": [
      "0.8922\nepoch: 4 85.9375%\n"
     ]
    },
    {
     "name": "stdout",
     "output_type": "stream",
     "text": [
      "0.8918\nepoch: 4 93.75%\n"
     ]
    },
    {
     "name": "stdout",
     "output_type": "stream",
     "text": [
      "0.8946\nepoch: 5 7.8125%\n"
     ]
    },
    {
     "name": "stdout",
     "output_type": "stream",
     "text": [
      "0.8936\nepoch: 5 15.625%\n"
     ]
    },
    {
     "name": "stdout",
     "output_type": "stream",
     "text": [
      "0.8924\nepoch: 5 23.4375%\n"
     ]
    },
    {
     "name": "stdout",
     "output_type": "stream",
     "text": [
      "0.8935\nepoch: 5 31.25%\n"
     ]
    },
    {
     "name": "stdout",
     "output_type": "stream",
     "text": [
      "0.8939\nepoch: 5 39.0625%\n"
     ]
    },
    {
     "name": "stdout",
     "output_type": "stream",
     "text": [
      "0.8925\nepoch: 5 46.875%\n"
     ]
    },
    {
     "name": "stdout",
     "output_type": "stream",
     "text": [
      "0.8933\nepoch: 5 54.6875%\n"
     ]
    },
    {
     "name": "stdout",
     "output_type": "stream",
     "text": [
      "0.8919\nepoch: 5 62.5%\n"
     ]
    },
    {
     "name": "stdout",
     "output_type": "stream",
     "text": [
      "0.8925\nepoch: 5 70.3125%\n"
     ]
    },
    {
     "name": "stdout",
     "output_type": "stream",
     "text": [
      "0.894\nepoch: 5 78.125%\n"
     ]
    },
    {
     "name": "stdout",
     "output_type": "stream",
     "text": [
      "0.8962\nepoch: 5 85.9375%\n"
     ]
    },
    {
     "name": "stdout",
     "output_type": "stream",
     "text": [
      "0.8963\nepoch: 5 93.75%\n"
     ]
    },
    {
     "name": "stdout",
     "output_type": "stream",
     "text": [
      "0.8983\nepoch: 6 7.8125%\n"
     ]
    },
    {
     "name": "stdout",
     "output_type": "stream",
     "text": [
      "0.8976\nepoch: 6 15.625%\n"
     ]
    },
    {
     "name": "stdout",
     "output_type": "stream",
     "text": [
      "0.8962\nepoch: 6 23.4375%\n"
     ]
    },
    {
     "name": "stdout",
     "output_type": "stream",
     "text": [
      "0.8992\nepoch: 6 31.25%\n"
     ]
    },
    {
     "name": "stdout",
     "output_type": "stream",
     "text": [
      "0.8973\nepoch: 6 39.0625%\n"
     ]
    },
    {
     "name": "stdout",
     "output_type": "stream",
     "text": [
      "0.8968\nepoch: 6 46.875%\n"
     ]
    },
    {
     "name": "stdout",
     "output_type": "stream",
     "text": [
      "0.897\nepoch: 6 54.6875%\n"
     ]
    },
    {
     "name": "stdout",
     "output_type": "stream",
     "text": [
      "0.8956\nepoch: 6 62.5%\n"
     ]
    },
    {
     "name": "stdout",
     "output_type": "stream",
     "text": [
      "0.8969\nepoch: 6 70.3125%\n"
     ]
    },
    {
     "name": "stdout",
     "output_type": "stream",
     "text": [
      "0.8972\nepoch: 6 78.125%\n"
     ]
    },
    {
     "name": "stdout",
     "output_type": "stream",
     "text": [
      "0.8993\nepoch: 6 85.9375%\n"
     ]
    },
    {
     "name": "stdout",
     "output_type": "stream",
     "text": [
      "0.8996\nepoch: 6 93.75%\n"
     ]
    },
    {
     "name": "stdout",
     "output_type": "stream",
     "text": [
      "0.9009\nepoch: 7 7.8125%\n"
     ]
    },
    {
     "name": "stdout",
     "output_type": "stream",
     "text": [
      "0.901\nepoch: 7 15.625%\n"
     ]
    },
    {
     "name": "stdout",
     "output_type": "stream",
     "text": [
      "0.9\nepoch: 7 23.4375%\n"
     ]
    },
    {
     "name": "stdout",
     "output_type": "stream",
     "text": [
      "0.9012\nepoch: 7 31.25%\n"
     ]
    },
    {
     "name": "stdout",
     "output_type": "stream",
     "text": [
      "0.9016\nepoch: 7 39.0625%\n"
     ]
    },
    {
     "name": "stdout",
     "output_type": "stream",
     "text": [
      "0.899\nepoch: 7 46.875%\n"
     ]
    },
    {
     "name": "stdout",
     "output_type": "stream",
     "text": [
      "0.9015\nepoch: 7 54.6875%\n"
     ]
    },
    {
     "name": "stdout",
     "output_type": "stream",
     "text": [
      "0.8992\nepoch: 7 62.5%\n"
     ]
    },
    {
     "name": "stdout",
     "output_type": "stream",
     "text": [
      "0.9008\nepoch: 7 70.3125%\n"
     ]
    },
    {
     "name": "stdout",
     "output_type": "stream",
     "text": [
      "0.9008\nepoch: 7 78.125%\n"
     ]
    },
    {
     "name": "stdout",
     "output_type": "stream",
     "text": [
      "0.9022\nepoch: 7 85.9375%\n"
     ]
    },
    {
     "name": "stdout",
     "output_type": "stream",
     "text": [
      "0.9021\nepoch: 7 93.75%\n"
     ]
    },
    {
     "name": "stdout",
     "output_type": "stream",
     "text": [
      "0.9034\nepoch: 8 7.8125%\n"
     ]
    },
    {
     "name": "stdout",
     "output_type": "stream",
     "text": [
      "0.9038\nepoch: 8 15.625%\n"
     ]
    },
    {
     "name": "stdout",
     "output_type": "stream",
     "text": [
      "0.902\nepoch: 8 23.4375%\n"
     ]
    },
    {
     "name": "stdout",
     "output_type": "stream",
     "text": [
      "0.9036\nepoch: 8 31.25%\n"
     ]
    },
    {
     "name": "stdout",
     "output_type": "stream",
     "text": [
      "0.9037\nepoch: 8 39.0625%\n"
     ]
    },
    {
     "name": "stdout",
     "output_type": "stream",
     "text": [
      "0.9015\nepoch: 8 46.875%\n"
     ]
    },
    {
     "name": "stdout",
     "output_type": "stream",
     "text": [
      "0.9034\nepoch: 8 54.6875%\n"
     ]
    },
    {
     "name": "stdout",
     "output_type": "stream",
     "text": [
      "0.9013\nepoch: 8 62.5%\n"
     ]
    },
    {
     "name": "stdout",
     "output_type": "stream",
     "text": [
      "0.9041\nepoch: 8 70.3125%\n"
     ]
    },
    {
     "name": "stdout",
     "output_type": "stream",
     "text": [
      "0.9033\nepoch: 8 78.125%\n"
     ]
    },
    {
     "name": "stdout",
     "output_type": "stream",
     "text": [
      "0.9048\nepoch: 8 85.9375%\n"
     ]
    },
    {
     "name": "stdout",
     "output_type": "stream",
     "text": [
      "0.9045\nepoch: 8 93.75%\n"
     ]
    },
    {
     "name": "stdout",
     "output_type": "stream",
     "text": [
      "0.9045\nepoch: 9 7.8125%\n"
     ]
    },
    {
     "name": "stdout",
     "output_type": "stream",
     "text": [
      "0.9052\nepoch: 9 15.625%\n"
     ]
    },
    {
     "name": "stdout",
     "output_type": "stream",
     "text": [
      "0.9048\nepoch: 9 23.4375%\n"
     ]
    },
    {
     "name": "stdout",
     "output_type": "stream",
     "text": [
      "0.9052\nepoch: 9 31.25%\n"
     ]
    },
    {
     "name": "stdout",
     "output_type": "stream",
     "text": [
      "0.905\nepoch: 9 39.0625%\n"
     ]
    },
    {
     "name": "stdout",
     "output_type": "stream",
     "text": [
      "0.9026\nepoch: 9 46.875%\n"
     ]
    },
    {
     "name": "stdout",
     "output_type": "stream",
     "text": [
      "0.9046\nepoch: 9 54.6875%\n"
     ]
    },
    {
     "name": "stdout",
     "output_type": "stream",
     "text": [
      "0.9028\nepoch: 9 62.5%\n"
     ]
    },
    {
     "name": "stdout",
     "output_type": "stream",
     "text": [
      "0.9045\nepoch: 9 70.3125%\n"
     ]
    },
    {
     "name": "stdout",
     "output_type": "stream",
     "text": [
      "0.9045\nepoch: 9 78.125%\n"
     ]
    },
    {
     "name": "stdout",
     "output_type": "stream",
     "text": [
      "0.9065\nepoch: 9 85.9375%\n"
     ]
    },
    {
     "name": "stdout",
     "output_type": "stream",
     "text": [
      "0.9054\nepoch: 9 93.75%\n"
     ]
    },
    {
     "name": "stdout",
     "output_type": "stream",
     "text": [
      "train complete\n"
     ]
    },
    {
     "data": {
      "image/png": "[encoded data removed]",
      "text/plain": [
       "<matplotlib.figure.Figure at 0x11652b550>"
      ]
     },
     "metadata": {},
     "output_type": "display_data"
    }
   ],
   "source": [
    "###########train###############\n",
    "benchmark = np.zeros(1)\n",
    "#mini batch fprop\n",
    "for i in range(0,epoch):\n",
    "    train_No = 0;\n",
    "    batch_index = 0;\n",
    "    while batch_index+batch_size < train_data.shape[0]:\n",
    "        train_batch = train_data[batch_index:\n",
    "        batch_index+batch_size,:]\n",
    "        train_label_batch = train_label[batch_index:\n",
    "        batch_index+batch_size,:]\n",
    "        batch_index = batch_index+batch_size\n",
    "        \n",
    "        #fprop\n",
    "        hid_state = np.dot(train_batch,in_to_hid_weights)\n",
    "        out_state = np.dot(hid_state,hid_to_out_weights)\n",
    "        out_state = 1/(1+np.exp(-out_state))\n",
    "        \n",
    "        #bprop:err\n",
    "        err = out_state-train_label_batch\n",
    "        CE = (err*err/2).sum(axis=1)\n",
    "        d_Out = out_state*(1-out_state)*err\n",
    "        d_hid_to_out = np.dot(hid_state.transpose(), d_Out)\n",
    "        d_hid = np.dot(d_Out, hid_to_out_weights.transpose())\n",
    "        d_in_to_hid = np.dot(train_batch.transpose(),d_hid)\n",
    "        \n",
    "        #update weights\n",
    "        del_hid_to_out = -1*alpha*d_hid_to_out\n",
    "        del_in_to_hid = -1*alpha*d_in_to_hid    \n",
    "        hid_to_out_weights+=del_hid_to_out\n",
    "        in_to_hid_weights+=del_in_to_hid\n",
    "        \n",
    "        train_No += 1\n",
    "        #evaluation\n",
    "        \n",
    "        if train_No % CE_freq == 0:\n",
    "            \n",
    "            hid_state = np.dot(test_data,in_to_hid_weights)\n",
    "            out_state = np.dot(hid_state,hid_to_out_weights)\n",
    "            out_state = 1/(1+np.exp(-out_state))\n",
    "            prediction = np.argmax(out_state,axis=1)\n",
    "            eval = np.abs(prediction-test_label)\n",
    "            eval = np.bincount(eval)[0]/10000\n",
    "            benchmark = np.append(benchmark, [eval])\n",
    "            print(eval)\n",
    "            #print(benchmark)\n",
    "            \n",
    "print('train complete')\n",
    "benchmark = benchmark[1:]\n",
    "Numbers = range(0,benchmark.shape[0])\n",
    "plt.plot(Numbers, benchmark)\n",
    "plt.show()"
   ]
  },
  {
   "cell_type": "code",
   "execution_count": 33,
   "metadata": {},
   "outputs": [
    {
     "name": "stdout",
     "output_type": "stream",
     "text": [
      "(784, 200)\n(200, 10)\n"
     ]
    }
   ],
   "source": [
    "#weights init with bias\n",
    "rand.seed(a=123123)\n",
    "#print(rand.random())\n",
    "hid_bias = np.ones((hid_state.shape[0],hid_state.shape[1]), dtype=np.float)\n",
    "hid_bias *= weights_init*rand.random()\n",
    "out_bias = np.ones((out_state.shape[0],out_state.shape[1]), dtype=np.float)\n",
    "out_bias *= weights_init*rand.random()\n",
    "in_to_hid_weights = np.zeros((train_data.shape[1],\n",
    "                              num_of_hidden_unit),\n",
    "                             dtype=np.float)\n",
    "for i in range(0, in_to_hid_weights.shape[0]):\n",
    "    for j in range(0, in_to_hid_weights.shape[1]):\n",
    "        in_to_hid_weights[i][j] = weights_init*rand.random()\n",
    "#print(in_to_hid_weights)\n",
    "print(in_to_hid_weights.shape)\n",
    "\n",
    "hid_to_out_weights = np.zeros((num_of_hidden_unit,\n",
    "                              train_label.shape[1]),\n",
    "                             dtype=np.float)\n",
    "for i in range(0, hid_to_out_weights.shape[0]):\n",
    "    for j in range(0, hid_to_out_weights.shape[1]):\n",
    "        hid_to_out_weights[i][j] = weights_init*rand.random()\n",
    "#print(hid_to_out_weights)\n",
    "print(hid_to_out_weights.shape)"
   ]
  },
  {
   "cell_type": "code",
   "execution_count": null,
   "metadata": {},
   "outputs": [],
   "source": [
    "###########train with bias###############\n",
    "benchmark = np.zeros(1)\n",
    "#mini batch fprop\n",
    "for i in range(0,epoch):\n",
    "    train_No = 0\n",
    "    batch_index = 0\n",
    "    while batch_index+batch_size < train_data.shape[0]:\n",
    "        train_batch = train_data[batch_index:\n",
    "        batch_index+batch_size,:]\n",
    "        train_label_batch = train_label[batch_index:\n",
    "        batch_index+batch_size,:]\n",
    "        batch_index = batch_index+batch_size\n",
    "        \n",
    "        #fprop\n",
    "        hid_state = np.dot(train_batch,in_to_hid_weights)\n",
    "        hid_state = hid_state+hid_bias\n",
    "        out_state = np.dot(hid_state,hid_to_out_weights)\n",
    "        out_state = out_state+out_bias\n",
    "        out_state = 1/(1+np.exp(-out_state))\n",
    "        \n",
    "        #bprop:err\n",
    "        err = out_state-train_label_batch\n",
    "        CE = (err*err/2).sum(axis=1)\n",
    "        d_Out = out_state*(1-out_state)*err\n",
    "        d_hid_to_out = np.dot(hid_state.transpose(), d_Out)\n",
    "        d_hid = np.dot(d_Out, hid_to_out_weights.transpose())\n",
    "        d_in_to_hid = np.dot(train_batch.transpose(),d_hid)\n",
    "        \n",
    "        #update weights\n",
    "        del_hid_to_out = -1*alpha*d_hid_to_out/batch_size\n",
    "        del_in_to_hid = -1*alpha*d_in_to_hid/batch_size    \n",
    "        hid_to_out_weights+=del_hid_to_out\n",
    "        in_to_hid_weights+=del_in_to_hid\n",
    "        \n",
    "        hid_bias += -1*alpha*d_hid\n",
    "        out_bias += -1*alpha*d_Out\n",
    "        \n",
    "        train_No += 1\n",
    "        #evaluation\n",
    "        \n",
    "        if train_No % CE_freq == 0:\n",
    "            hid_state = np.dot(test_data, in_to_hid_weights)\n",
    "            hid_state = hid_state+hid_bias[0]\n",
    "            out_state = np.dot(hid_state, hid_to_out_weights)\n",
    "            out_state = out_state + out_bias[0]\n",
    "            out_state = 1 / (1 + np.exp(-out_state))\n",
    "            prediction = np.argmax(out_state, axis=1)\n",
    "            evaluation = np.abs(prediction - test_label)\n",
    "            evaluation = np.bincount(evaluation)[0] / 10000\n",
    "            benchmark = np.append(benchmark, [evaluation])\n",
    "            print(evaluation)\n",
    "            #print(benchmark)\n",
    "            print('epoch: '+str(i)+' ' + str(train_No*batch_size / (train_data.shape[0]/100))+'%')\n",
    "\n",
    "            \n",
    "print('train complete')\n",
    "benchmark = benchmark[1:]\n",
    "Numbers = range(0,benchmark.shape[0])\n",
    "plt.plot(Numbers, benchmark)\n",
    "plt.show()"
   ]
  },
  {
   "cell_type": "code",
   "execution_count": 25,
   "metadata": {},
   "outputs": [
    {
     "name": "stdout",
     "output_type": "stream",
     "text": [
      "0.9004\n[ 0.1139  0.1139  0.1139  0.1364  0.1139  0.1139  0.1656  0.157   0.1907\n  0.1952  0.274   0.2164  0.3844  0.4164  0.3919  0.5108  0.5129  0.5821\n  0.586   0.6017  0.6065  0.6505  0.6593  0.7024  0.7269  0.7272  0.7377\n  0.7466  0.7573  0.7627  0.762   0.7681  0.7772  0.7893  0.7974  0.8061\n  0.8137  0.8371  0.8341  0.8439  0.8517  0.8595  0.8509  0.8668  0.8646\n  0.8692  0.8779  0.8763  0.8789  0.8833  0.8799  0.8849  0.8842  0.8828\n  0.8813  0.8829  0.8829  0.8865  0.8893  0.8892  0.8892  0.8909  0.8887\n  0.8906  0.8911  0.8885  0.8877  0.8884  0.8897  0.8919  0.8952  0.8941\n  0.896   0.8943  0.8934  0.8931  0.8937  0.8924  0.8917  0.8914  0.8938\n  0.8954  0.8964  0.8957  0.8984  0.897   0.8957  0.8965  0.8969  0.8944\n  0.895   0.8938  0.8971  0.8963  0.899   0.8982  0.8998  0.8978  0.8983\n  0.8992  0.8991  0.8951  0.8973  0.8972  0.8984  0.8986  0.899   0.9003\n  0.9018  0.8993  0.8998  0.9006  0.8995  0.8963  0.8981  0.8985  0.8998\n  0.8997  0.9002  0.9004]\n"
     ]
    },
    {
     "data": {
      "image/png": "[encoded data removed]",
      "text/plain": [
       "<matplotlib.figure.Figure at 0x116f26eb8>"
      ]
     },
     "metadata": {},
     "output_type": "display_data"
    }
   ],
   "source": [
    "# evaluation\n",
    "\n",
    "# hid_state = np.dot(test_data,in_to_hid_weights)\n",
    "# out_state = np.dot(hid_state,hid_to_out_weights)\n",
    "# out_state = 1/(1+np.exp(-out_state))\n",
    "# #print(out_state)\n",
    "# prediction = np.argmax(out_state,axis=1)\n",
    "\n",
    "\n",
    "# print(prediction)\n",
    "# print(prediction.shape)\n",
    "# print(test_label)\n",
    "# print(test_label.shape)\n",
    "\n",
    "eval = np.abs(prediction-test_label) \n",
    "eval = np.bincount(eval)[0]/10000\n",
    "print(eval)\n",
    "print(benchmark)\n",
    "No = range(0,benchmark.shape[0])\n",
    "plt.plot(No, benchmark)\n",
    "plt.show()"
   ]
  },
  {
   "cell_type": "code",
   "execution_count": 10,
   "metadata": {},
   "outputs": [
    {
     "data": {
      "image/png": "[encoded data removed]",
      "text/plain": [
       "<matplotlib.figure.Figure at 0x10d7eea90>"
      ]
     },
     "metadata": {},
     "output_type": "display_data"
    }
   ],
   "source": [
    "#plot\n",
    "benchmark = benchmark[50:]\n",
    "Numbers = range(0,benchmark.shape[0])\n",
    "plt.plot(Numbers, benchmark)\n",
    "plt.show()"
   ]
  },
  {
   "cell_type": "code",
   "execution_count": null,
   "metadata": {},
   "outputs": [],
   "source": [
    ""
   ]
  }
 ],
 "metadata": {
  "kernelspec": {
   "display_name": "Python 2",
   "language": "python",
   "name": "python2"
  },
  "language_info": {
   "codemirror_mode": {
    "name": "ipython",
    "version": 2.0
   },
   "file_extension": ".py",
   "mimetype": "text/x-python",
   "name": "python",
   "nbconvert_exporter": "python",
   "pygments_lexer": "ipython2",
   "version": "2.7.6"
  }
 },
 "nbformat": 4,
 "nbformat_minor": 0
}