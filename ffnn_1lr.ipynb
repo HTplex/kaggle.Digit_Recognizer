{
 "cells": [
  {
   "cell_type": "code",
   "execution_count": 1,
   "metadata": {
    "collapsed": true
   },
   "outputs": [],
   "source": [
    "#imports\n",
    "import pandas as pd\n",
    "import matplotlib.pyplot as plt\n",
    "import numpy as np\n",
    "import random as rand"
   ]
  },
  {
   "cell_type": "code",
   "execution_count": 35,
   "metadata": {
    "collapsed": true
   },
   "outputs": [],
   "source": [
    "num_of_hidden_unit = 200\n",
    "batch_size = 3\n",
    "epoch = 10\n",
    "weights_init = 0.01\n",
    "alpha = 0.01/batch_size\n",
    "CE_freq = 500\n",
    "#print(num_of_hidden_unit)"
   ]
  },
  {
   "cell_type": "code",
   "execution_count": 3,
   "metadata": {},
   "outputs": [
    {
     "name": "stdout",
     "output_type": "stream",
     "text": [
      "[[ 0.  0.  0. ...,  0.  0.  0.]\n [ 0.  0.  0. ...,  0.  0.  0.]\n [ 0.  0.  0. ...,  0.  0.  0.]\n ..., \n [ 0.  0.  0. ...,  0.  0.  0.]\n [ 0.  0.  0. ...,  0.  0.  0.]\n [ 0.  0.  0. ...,  0.  0.  0.]]\n(32000, 784)\n[1 0 1 ..., 7 8 0]\n(32000,)\n[[ 0.  0.  0. ...,  0.  0.  0.]\n [ 0.  0.  0. ...,  0.  0.  0.]\n [ 0.  0.  0. ...,  0.  0.  0.]\n ..., \n [ 0.  0.  0. ...,  0.  0.  0.]\n [ 0.  0.  0. ...,  0.  0.  0.]\n [ 0.  0.  0. ...,  0.  0.  0.]]\n(10000, 784)\n"
     ]
    }
   ],
   "source": [
    "#data processing\n",
    "train_data = (pd.read_csv(\"~/Developer/kaggle.Digit_Recognizer/datasets/train.csv\")\n",
    "               .iloc[:32000,1:].values).astype('float32')\n",
    "train_label = (pd.read_csv(\"~/Developer/kaggle.Digit_Recognizer/datasets/train.csv\")\n",
    "               .iloc[:32000,0].values).astype('int32')\n",
    "test_data = (pd.read_csv(\"~/Developer/kaggle.Digit_Recognizer/datasets/train.csv\")\n",
    "               .iloc[32000:,1:].values).astype('float32')\n",
    "test_label = (pd.read_csv(\"~/Developer/kaggle.Digit_Recognizer/datasets/train.csv\")\n",
    "               .iloc[32000:,0].values).astype('int32')\n",
    "#test_data = (pd.read_csv(\"~/Developer/kaggle.Digit_Recognizer/datasets/test.csv\")\n",
    "#               .iloc[:,:].values).astype('float32')\n",
    "print(train_data)\n",
    "print(train_data.shape)\n",
    "print(train_label)\n",
    "print(train_label.shape)\n",
    "print(test_data)\n",
    "print(test_data.shape)"
   ]
  },
  {
   "cell_type": "code",
   "execution_count": 4,
   "metadata": {},
   "outputs": [
    {
     "name": "stdout",
     "output_type": "stream",
     "text": [
      "[[0 1 0 ..., 0 0 0]\n [1 0 0 ..., 0 0 0]\n [0 1 0 ..., 0 0 0]\n ..., \n [0 0 0 ..., 1 0 0]\n [0 0 0 ..., 0 1 0]\n [1 0 0 ..., 0 0 0]]\n(32000, 10)\n"
     ]
    }
   ],
   "source": [
    "#one hot encode label\n",
    "num_of_labels = train_label.shape[0]\n",
    "encoded_labels = np.zeros((num_of_labels, 10),\n",
    "                              dtype=np.int)\n",
    "for i in range(0, num_of_labels):\n",
    "    encoded_labels[i][train_label[i]] = 1\n",
    "train_label = encoded_labels\n",
    "print(train_label)\n",
    "print(train_label.shape)\n",
    "# regularlize data\n",
    "train_data /= 255\n",
    "test_data /= 255"
   ]
  },
  {
   "cell_type": "code",
   "execution_count": 45,
   "metadata": {},
   "outputs": [
    {
     "name": "stdout",
     "output_type": "stream",
     "text": [
      "(784, 200)\n(200, 10)\n"
     ]
    }
   ],
   "source": [
    "#weights init\n",
    "rand.seed(a=123123)\n",
    "#print(rand.random())\n",
    "in_to_hid_weights = np.zeros((train_data.shape[1],\n",
    "                              num_of_hidden_unit),\n",
    "                             dtype=np.float)\n",
    "for i in range(0, in_to_hid_weights.shape[0]):\n",
    "    for j in range(0, in_to_hid_weights.shape[1]):\n",
    "        in_to_hid_weights[i][j] = weights_init*rand.random()\n",
    "#print(in_to_hid_weights)\n",
    "print(in_to_hid_weights.shape)\n",
    "\n",
    "hid_to_out_weights = np.zeros((num_of_hidden_unit,\n",
    "                              train_label.shape[1]),\n",
    "                             dtype=np.float)\n",
    "for i in range(0, hid_to_out_weights.shape[0]):\n",
    "    for j in range(0, hid_to_out_weights.shape[1]):\n",
    "        hid_to_out_weights[i][j] = weights_init*rand.random()\n",
    "#print(hid_to_out_weights)\n",
    "print(hid_to_out_weights.shape)"
   ]
  },
  {
   "cell_type": "code",
   "execution_count": 7,
   "metadata": {},
   "outputs": [],
   "source": [
    "#mini batch fprop\n",
    "batch_index = 0;\n",
    "#while batch_index+batch_size < train_data.shape[0]:\n",
    "while  batch_index == 0:\n",
    "    train_batch = train_data[batch_index:\n",
    "    batch_index+batch_size,:]\n",
    "    train_label_batch = train_label[batch_index:\n",
    "    batch_index+batch_size,:]\n",
    "    # print(train_batch)\n",
    "    # print(train_batch.shape)\n",
    "    # print(train_label_batch)\n",
    "    # print(train_label_batch.shape)\n",
    "    batch_index = batch_index+batch_size"
   ]
  },
  {
   "cell_type": "code",
   "execution_count": 8,
   "metadata": {},
   "outputs": [
    {
     "name": "stdout",
     "output_type": "stream",
     "text": [
      "(3, 50)\n[[ 0.51942104  0.52077914  0.51931537  0.52106471  0.52114331  0.52106417\n   0.52026371  0.52364066  0.52097331  0.52042444]\n [ 0.55273113  0.55673243  0.55206406  0.5567647   0.55752369  0.55737593\n   0.55494127  0.56381825  0.5562059   0.55479777]\n [ 0.51544744  0.51671695  0.51528931  0.51661705  0.5169427   0.51666803\n   0.51605843  0.51870978  0.51652438  0.51617209]]\n(3, 10)\n"
     ]
    }
   ],
   "source": [
    "#fprop\n",
    "hid_state = np.dot(train_batch,in_to_hid_weights)\n",
    "out_state = np.dot(hid_state,hid_to_out_weights)\n",
    "out_state = 1/(1+np.exp(-out_state))\n",
    "#print(hid_state)\n",
    "print(hid_state.shape)\n",
    "print(out_state)\n",
    "print(out_state.shape)"
   ]
  },
  {
   "cell_type": "code",
   "execution_count": 38,
   "metadata": {},
   "outputs": [
    {
     "name": "stdout",
     "output_type": "stream",
     "text": [
      "[[0 1 0 0 0 0 0 0 0 0]\n [1 0 0 0 0 0 0 0 0 0]\n [0 1 0 0 0 0 0 0 0 0]]\n[[ 0.51942104 -0.47922086  0.51931537  0.52106471  0.52114331  0.52106417\n   0.52026371  0.52364066  0.52097331  0.52042444]\n [-0.44726887  0.55673243  0.55206406  0.5567647   0.55752369  0.55737593\n   0.55494127  0.56381825  0.5562059   0.55479777]\n [ 0.51544744 -0.48328305  0.51528931  0.51661705  0.5169427   0.51666803\n   0.51605843  0.51870978  0.51652438  0.51617209]]\n[ 1.3354373   1.49463955  1.31722381]\n(3,)\n[[ 0.12965935 -0.1195983   0.12963509  0.13003497  0.13005286  0.13003485\n   0.1298523   0.13061751  0.13001416  0.12988901]\n [-0.11057355  0.13739123  0.13651955  0.13739715  0.13753609  0.1375091\n   0.1370602   0.13865826  0.13729436  0.1370335 ]\n [ 0.12873886 -0.12068571  0.12870187  0.12901161  0.12908728  0.12902347\n   0.12888153  0.12949587  0.12899006  0.12890802]]\n(3, 10)\n(50, 10)\n(3, 50)\n(50, 10)\n(3, 50)\n(784, 50)\n(784, 50)\n"
     ]
    }
   ],
   "source": [
    "#bprop:err\n",
    "err = out_state-train_label_batch\n",
    "print(train_label_batch)\n",
    "print(err)\n",
    "CE = (err*err/2).sum(axis=1)\n",
    "print(CE)\n",
    "print(CE.shape)\n",
    "\n",
    "d_Out = out_state*(1-out_state)*err\n",
    "\n",
    "\n",
    "print(d_Out)\n",
    "print(d_Out.shape)\n",
    "print(hid_to_out_weights.shape)\n",
    "print(hid_state.shape)\n",
    "\n",
    "# [[batch1_dout1, batch1_dout2, ...]\n",
    "#  [batch2_dout1, batch2_dout2, ...]\n",
    "#  [batch3_dout1, batch3_dout2, ...]]\n",
    "\n",
    "# [[batch1_hid1, batch1_hid2, ...]\n",
    "#  [batch2_hid1, batch2_hid2, ...]\n",
    "#  [batch3_hid1, batch3_hid2, ...]]\n",
    "#out\n",
    "#  [[batch123_hid1*dout1, batch123_hid2*dout2, ...]\n",
    "#   [batch123_hid2*dout1, batch123_hid2*dout2, ...]\n",
    "#   ...                                           ]\n",
    "d_hid_to_out = np.dot(hid_state.transpose(), d_Out)\n",
    "\n",
    "#print(d_hid_to_out)\n",
    "print(d_hid_to_out.shape)\n",
    "\n",
    "#[[hid1_out1, hid1_out2, ...]\n",
    "# [hid2_out1, hid2_out2, ...]\n",
    "# [...                      ]]\n",
    "\n",
    "#[[batch1_dout1, batch1_dout2, ...]\n",
    "# [batch2_dout1, batch2_dout2, ...]\n",
    "# [batch3_dout1, batch3_dout2, ...]]\n",
    "#out\n",
    "#[[batch1_hid1(out:) batch1_hid2(out:), ...]\n",
    "# [batch2_hid1(out:) batch2_hid2(out:), ...]\n",
    "# [...                                     ]]\n",
    "d_hid = np.dot(d_Out, hid_to_out_weights.transpose())\n",
    "#print(d_hid)\n",
    "print(d_hid.shape)\n",
    "print(in_to_hid_weights.shape)\n",
    "#[[batch1_dhid1, batch1_dhid2, ...]\n",
    "# [batch2_dhid1, batch2_dhid2, ...]\n",
    "# [...                            ]]\n",
    "\n",
    "#[[batch1_in1, batch1_in2, ...]\n",
    "# [batch2_in1, batch2_in2, ...]\n",
    "# [...                        ]]\n",
    "#out\n",
    "#[[in1*dhid1(batch123, in1*dhid2(batch123, ...]\n",
    "# [in2*dhid1(batch123, in2*dhid2(batch123, ...]\n",
    "# [...                                        ]]\n",
    "\n",
    "d_in_to_hid = np.dot(train_batch.transpose(),d_hid)\n",
    "print(d_in_to_hid.shape)"
   ]
  },
  {
   "cell_type": "code",
   "execution_count": 37,
   "metadata": {},
   "outputs": [
    {
     "name": "stdout",
     "output_type": "stream",
     "text": [
      "(50, 10)\n(50, 10)\n(784, 50)\n(784, 50)\n"
     ]
    }
   ],
   "source": [
    "#update weights\n",
    "del_hid_to_out = -1*alpha*d_hid_to_out\n",
    "del_in_to_hid = -1*alpha*d_in_to_hid\n",
    "print(del_hid_to_out.shape)\n",
    "print(hid_to_out_weights.shape)\n",
    "print(del_in_to_hid.shape)\n",
    "print(in_to_hid_weights.shape)\n",
    "hid_to_out_weights+=del_hid_to_out\n",
    "in_to_hid_weights+=del_in_to_hid"
   ]
  },
  {
   "cell_type": "code",
   "execution_count": 46,
   "metadata": {},
   "outputs": [
    {
     "name": "stdout",
     "output_type": "stream",
     "text": [
      "0.1139\n"
     ]
    },
    {
     "name": "stdout",
     "output_type": "stream",
     "text": [
      "0.1139\n"
     ]
    },
    {
     "name": "stdout",
     "output_type": "stream",
     "text": [
      "0.1139\n"
     ]
    },
    {
     "name": "stdout",
     "output_type": "stream",
     "text": [
      "0.1058\n"
     ]
    },
    {
     "name": "stdout",
     "output_type": "stream",
     "text": [
      "0.1139\n"
     ]
    },
    {
     "name": "stdout",
     "output_type": "stream",
     "text": [
      "0.1423\n"
     ]
    },
    {
     "name": "stdout",
     "output_type": "stream",
     "text": [
      "0.1334\n"
     ]
    },
    {
     "name": "stdout",
     "output_type": "stream",
     "text": [
      "0.1367\n"
     ]
    },
    {
     "name": "stdout",
     "output_type": "stream",
     "text": [
      "0.2078\n"
     ]
    },
    {
     "name": "stdout",
     "output_type": "stream",
     "text": [
      "0.1773\n"
     ]
    },
    {
     "name": "stdout",
     "output_type": "stream",
     "text": [
      "0.2798\n"
     ]
    },
    {
     "name": "stdout",
     "output_type": "stream",
     "text": [
      "0.2914\n"
     ]
    },
    {
     "name": "stdout",
     "output_type": "stream",
     "text": [
      "0.3241\n"
     ]
    },
    {
     "name": "stdout",
     "output_type": "stream",
     "text": [
      "0.3742\n"
     ]
    },
    {
     "name": "stdout",
     "output_type": "stream",
     "text": [
      "0.4232\n"
     ]
    },
    {
     "name": "stdout",
     "output_type": "stream",
     "text": [
      "0.4296\n"
     ]
    },
    {
     "name": "stdout",
     "output_type": "stream",
     "text": [
      "0.4951\n"
     ]
    },
    {
     "name": "stdout",
     "output_type": "stream",
     "text": [
      "0.5626\n"
     ]
    },
    {
     "name": "stdout",
     "output_type": "stream",
     "text": [
      "0.5595\n"
     ]
    },
    {
     "name": "stdout",
     "output_type": "stream",
     "text": [
      "0.5985\n"
     ]
    },
    {
     "name": "stdout",
     "output_type": "stream",
     "text": [
      "0.6421\n"
     ]
    },
    {
     "name": "stdout",
     "output_type": "stream",
     "text": [
      "0.65\n"
     ]
    },
    {
     "name": "stdout",
     "output_type": "stream",
     "text": [
      "0.6403\n"
     ]
    },
    {
     "name": "stdout",
     "output_type": "stream",
     "text": [
      "0.6779\n"
     ]
    },
    {
     "name": "stdout",
     "output_type": "stream",
     "text": [
      "0.6965\n"
     ]
    },
    {
     "name": "stdout",
     "output_type": "stream",
     "text": [
      "0.7129\n"
     ]
    },
    {
     "name": "stdout",
     "output_type": "stream",
     "text": [
      "0.7179\n"
     ]
    },
    {
     "name": "stdout",
     "output_type": "stream",
     "text": [
      "0.7271\n"
     ]
    },
    {
     "name": "stdout",
     "output_type": "stream",
     "text": [
      "0.7409\n"
     ]
    },
    {
     "name": "stdout",
     "output_type": "stream",
     "text": [
      "0.7561\n"
     ]
    },
    {
     "name": "stdout",
     "output_type": "stream",
     "text": [
      "0.7622\n"
     ]
    },
    {
     "name": "stdout",
     "output_type": "stream",
     "text": [
      "0.7572\n"
     ]
    },
    {
     "name": "stdout",
     "output_type": "stream",
     "text": [
      "0.7764\n"
     ]
    },
    {
     "name": "stdout",
     "output_type": "stream",
     "text": [
      "0.7689\n"
     ]
    },
    {
     "name": "stdout",
     "output_type": "stream",
     "text": [
      "0.7916\n"
     ]
    },
    {
     "name": "stdout",
     "output_type": "stream",
     "text": [
      "0.7856\n"
     ]
    },
    {
     "name": "stdout",
     "output_type": "stream",
     "text": [
      "0.8091\n"
     ]
    },
    {
     "name": "stdout",
     "output_type": "stream",
     "text": [
      "0.8021\n"
     ]
    },
    {
     "name": "stdout",
     "output_type": "stream",
     "text": [
      "0.8053\n"
     ]
    },
    {
     "name": "stdout",
     "output_type": "stream",
     "text": [
      "0.8236\n"
     ]
    },
    {
     "name": "stdout",
     "output_type": "stream",
     "text": [
      "0.8245\n"
     ]
    },
    {
     "name": "stdout",
     "output_type": "stream",
     "text": [
      "0.8324\n"
     ]
    },
    {
     "name": "stdout",
     "output_type": "stream",
     "text": [
      "0.8454\n"
     ]
    },
    {
     "name": "stdout",
     "output_type": "stream",
     "text": [
      "0.8518\n"
     ]
    },
    {
     "name": "stdout",
     "output_type": "stream",
     "text": [
      "0.856\n"
     ]
    },
    {
     "name": "stdout",
     "output_type": "stream",
     "text": [
      "0.8616\n"
     ]
    },
    {
     "name": "stdout",
     "output_type": "stream",
     "text": [
      "0.8613\n"
     ]
    },
    {
     "name": "stdout",
     "output_type": "stream",
     "text": [
      "0.8663\n"
     ]
    },
    {
     "name": "stdout",
     "output_type": "stream",
     "text": [
      "0.8712\n"
     ]
    },
    {
     "name": "stdout",
     "output_type": "stream",
     "text": [
      "0.8792\n"
     ]
    },
    {
     "name": "stdout",
     "output_type": "stream",
     "text": [
      "0.8778\n"
     ]
    },
    {
     "name": "stdout",
     "output_type": "stream",
     "text": [
      "0.8764\n"
     ]
    },
    {
     "name": "stdout",
     "output_type": "stream",
     "text": [
      "0.8792\n"
     ]
    },
    {
     "name": "stdout",
     "output_type": "stream",
     "text": [
      "0.8792\n"
     ]
    },
    {
     "name": "stdout",
     "output_type": "stream",
     "text": [
      "0.8774\n"
     ]
    },
    {
     "name": "stdout",
     "output_type": "stream",
     "text": [
      "0.8833\n"
     ]
    },
    {
     "name": "stdout",
     "output_type": "stream",
     "text": [
      "0.8764\n"
     ]
    },
    {
     "name": "stdout",
     "output_type": "stream",
     "text": [
      "0.8812\n"
     ]
    },
    {
     "name": "stdout",
     "output_type": "stream",
     "text": [
      "0.8836\n"
     ]
    },
    {
     "name": "stdout",
     "output_type": "stream",
     "text": [
      "0.8799\n"
     ]
    },
    {
     "name": "stdout",
     "output_type": "stream",
     "text": [
      "0.8886\n"
     ]
    },
    {
     "name": "stdout",
     "output_type": "stream",
     "text": [
      "0.885\n"
     ]
    },
    {
     "name": "stdout",
     "output_type": "stream",
     "text": [
      "0.8846\n"
     ]
    },
    {
     "name": "stdout",
     "output_type": "stream",
     "text": [
      "0.8891\n"
     ]
    },
    {
     "name": "stdout",
     "output_type": "stream",
     "text": [
      "0.8892\n"
     ]
    },
    {
     "name": "stdout",
     "output_type": "stream",
     "text": [
      "0.8874\n"
     ]
    },
    {
     "name": "stdout",
     "output_type": "stream",
     "text": [
      "0.8866\n"
     ]
    },
    {
     "name": "stdout",
     "output_type": "stream",
     "text": [
      "0.8882\n"
     ]
    },
    {
     "name": "stdout",
     "output_type": "stream",
     "text": [
      "0.8869\n"
     ]
    },
    {
     "name": "stdout",
     "output_type": "stream",
     "text": [
      "0.8904\n"
     ]
    },
    {
     "name": "stdout",
     "output_type": "stream",
     "text": [
      "0.8915\n"
     ]
    },
    {
     "name": "stdout",
     "output_type": "stream",
     "text": [
      "0.8912\n"
     ]
    },
    {
     "name": "stdout",
     "output_type": "stream",
     "text": [
      "0.8906\n"
     ]
    },
    {
     "name": "stdout",
     "output_type": "stream",
     "text": [
      "0.8917\n"
     ]
    },
    {
     "name": "stdout",
     "output_type": "stream",
     "text": [
      "0.8927\n"
     ]
    },
    {
     "name": "stdout",
     "output_type": "stream",
     "text": [
      "0.8896\n"
     ]
    },
    {
     "name": "stdout",
     "output_type": "stream",
     "text": [
      "0.8958\n"
     ]
    },
    {
     "name": "stdout",
     "output_type": "stream",
     "text": [
      "0.8892\n"
     ]
    },
    {
     "name": "stdout",
     "output_type": "stream",
     "text": [
      "0.8897\n"
     ]
    },
    {
     "name": "stdout",
     "output_type": "stream",
     "text": [
      "0.8932\n"
     ]
    },
    {
     "name": "stdout",
     "output_type": "stream",
     "text": [
      "0.8928\n"
     ]
    },
    {
     "name": "stdout",
     "output_type": "stream",
     "text": [
      "0.8971\n"
     ]
    },
    {
     "name": "stdout",
     "output_type": "stream",
     "text": [
      "0.8934\n"
     ]
    },
    {
     "name": "stdout",
     "output_type": "stream",
     "text": [
      "0.8944\n"
     ]
    },
    {
     "name": "stdout",
     "output_type": "stream",
     "text": [
      "0.8976\n"
     ]
    },
    {
     "name": "stdout",
     "output_type": "stream",
     "text": [
      "0.8951\n"
     ]
    },
    {
     "name": "stdout",
     "output_type": "stream",
     "text": [
      "0.8943\n"
     ]
    },
    {
     "name": "stdout",
     "output_type": "stream",
     "text": [
      "0.8934\n"
     ]
    },
    {
     "name": "stdout",
     "output_type": "stream",
     "text": [
      "0.8959\n"
     ]
    },
    {
     "name": "stdout",
     "output_type": "stream",
     "text": [
      "0.8937\n"
     ]
    },
    {
     "name": "stdout",
     "output_type": "stream",
     "text": [
      "0.8966\n"
     ]
    },
    {
     "name": "stdout",
     "output_type": "stream",
     "text": [
      "0.8986\n"
     ]
    },
    {
     "name": "stdout",
     "output_type": "stream",
     "text": [
      "0.8963\n"
     ]
    },
    {
     "name": "stdout",
     "output_type": "stream",
     "text": [
      "0.8941\n"
     ]
    },
    {
     "name": "stdout",
     "output_type": "stream",
     "text": [
      "0.8959\n"
     ]
    },
    {
     "name": "stdout",
     "output_type": "stream",
     "text": [
      "0.8981\n"
     ]
    },
    {
     "name": "stdout",
     "output_type": "stream",
     "text": [
      "0.8952\n"
     ]
    },
    {
     "name": "stdout",
     "output_type": "stream",
     "text": [
      "0.9001\n"
     ]
    },
    {
     "name": "stdout",
     "output_type": "stream",
     "text": [
      "0.8962\n"
     ]
    },
    {
     "name": "stdout",
     "output_type": "stream",
     "text": [
      "0.8961\n"
     ]
    },
    {
     "name": "stdout",
     "output_type": "stream",
     "text": [
      "0.8972\n"
     ]
    },
    {
     "name": "stdout",
     "output_type": "stream",
     "text": [
      "0.8966\n"
     ]
    },
    {
     "name": "stdout",
     "output_type": "stream",
     "text": [
      "0.9015\n"
     ]
    },
    {
     "name": "stdout",
     "output_type": "stream",
     "text": [
      "0.8974\n"
     ]
    },
    {
     "name": "stdout",
     "output_type": "stream",
     "text": [
      "0.8991\n"
     ]
    },
    {
     "name": "stdout",
     "output_type": "stream",
     "text": [
      "0.9015\n"
     ]
    },
    {
     "name": "stdout",
     "output_type": "stream",
     "text": [
      "0.8985\n"
     ]
    },
    {
     "name": "stdout",
     "output_type": "stream",
     "text": [
      "0.8975\n"
     ]
    },
    {
     "name": "stdout",
     "output_type": "stream",
     "text": [
      "0.8973\n"
     ]
    },
    {
     "name": "stdout",
     "output_type": "stream",
     "text": [
      "0.8992\n"
     ]
    },
    {
     "name": "stdout",
     "output_type": "stream",
     "text": [
      "0.8979\n"
     ]
    },
    {
     "name": "stdout",
     "output_type": "stream",
     "text": [
      "0.8993\n"
     ]
    },
    {
     "name": "stdout",
     "output_type": "stream",
     "text": [
      "0.9009\n"
     ]
    },
    {
     "name": "stdout",
     "output_type": "stream",
     "text": [
      "0.8977\n"
     ]
    },
    {
     "name": "stdout",
     "output_type": "stream",
     "text": [
      "0.8966\n"
     ]
    },
    {
     "name": "stdout",
     "output_type": "stream",
     "text": [
      "0.8992\n"
     ]
    },
    {
     "name": "stdout",
     "output_type": "stream",
     "text": [
      "0.9006\n"
     ]
    },
    {
     "name": "stdout",
     "output_type": "stream",
     "text": [
      "0.899\n"
     ]
    },
    {
     "name": "stdout",
     "output_type": "stream",
     "text": [
      "0.9022\n"
     ]
    },
    {
     "name": "stdout",
     "output_type": "stream",
     "text": [
      "0.9006\n"
     ]
    },
    {
     "name": "stdout",
     "output_type": "stream",
     "text": [
      "0.9011\n"
     ]
    },
    {
     "name": "stdout",
     "output_type": "stream",
     "text": [
      "0.9004\n"
     ]
    },
    {
     "name": "stdout",
     "output_type": "stream",
     "text": [
      "0.9004\n"
     ]
    },
    {
     "name": "stdout",
     "output_type": "stream",
     "text": [
      "0.9037\n"
     ]
    },
    {
     "name": "stdout",
     "output_type": "stream",
     "text": [
      "0.8991\n"
     ]
    },
    {
     "name": "stdout",
     "output_type": "stream",
     "text": [
      "0.9014\n"
     ]
    },
    {
     "name": "stdout",
     "output_type": "stream",
     "text": [
      "0.9024\n"
     ]
    },
    {
     "name": "stdout",
     "output_type": "stream",
     "text": [
      "0.9007\n"
     ]
    },
    {
     "name": "stdout",
     "output_type": "stream",
     "text": [
      "0.9009\n"
     ]
    },
    {
     "name": "stdout",
     "output_type": "stream",
     "text": [
      "0.9007\n"
     ]
    },
    {
     "name": "stdout",
     "output_type": "stream",
     "text": [
      "0.9008\n"
     ]
    },
    {
     "name": "stdout",
     "output_type": "stream",
     "text": [
      "0.9008\n"
     ]
    },
    {
     "name": "stdout",
     "output_type": "stream",
     "text": [
      "0.9017\n"
     ]
    },
    {
     "name": "stdout",
     "output_type": "stream",
     "text": [
      "0.9025\n"
     ]
    },
    {
     "name": "stdout",
     "output_type": "stream",
     "text": [
      "0.9006\n"
     ]
    },
    {
     "name": "stdout",
     "output_type": "stream",
     "text": [
      "0.9\n"
     ]
    },
    {
     "name": "stdout",
     "output_type": "stream",
     "text": [
      "0.9012\n"
     ]
    },
    {
     "name": "stdout",
     "output_type": "stream",
     "text": [
      "0.9024\n"
     ]
    },
    {
     "name": "stdout",
     "output_type": "stream",
     "text": [
      "0.9015\n"
     ]
    },
    {
     "name": "stdout",
     "output_type": "stream",
     "text": [
      "0.9031\n"
     ]
    },
    {
     "name": "stdout",
     "output_type": "stream",
     "text": [
      "0.9025\n"
     ]
    },
    {
     "name": "stdout",
     "output_type": "stream",
     "text": [
      "0.9028\n"
     ]
    },
    {
     "name": "stdout",
     "output_type": "stream",
     "text": [
      "0.9015\n"
     ]
    },
    {
     "name": "stdout",
     "output_type": "stream",
     "text": [
      "0.9018\n"
     ]
    },
    {
     "name": "stdout",
     "output_type": "stream",
     "text": [
      "0.9049\n"
     ]
    },
    {
     "name": "stdout",
     "output_type": "stream",
     "text": [
      "0.9007\n"
     ]
    },
    {
     "name": "stdout",
     "output_type": "stream",
     "text": [
      "0.9037\n"
     ]
    },
    {
     "name": "stdout",
     "output_type": "stream",
     "text": [
      "0.9041\n"
     ]
    },
    {
     "name": "stdout",
     "output_type": "stream",
     "text": [
      "0.9006\n"
     ]
    },
    {
     "name": "stdout",
     "output_type": "stream",
     "text": [
      "0.903\n"
     ]
    },
    {
     "name": "stdout",
     "output_type": "stream",
     "text": [
      "0.902\n"
     ]
    },
    {
     "name": "stdout",
     "output_type": "stream",
     "text": [
      "0.9019\n"
     ]
    },
    {
     "name": "stdout",
     "output_type": "stream",
     "text": [
      "0.9023\n"
     ]
    },
    {
     "name": "stdout",
     "output_type": "stream",
     "text": [
      "0.9028\n"
     ]
    },
    {
     "name": "stdout",
     "output_type": "stream",
     "text": [
      "0.9028\n"
     ]
    },
    {
     "name": "stdout",
     "output_type": "stream",
     "text": [
      "0.9013\n"
     ]
    },
    {
     "name": "stdout",
     "output_type": "stream",
     "text": [
      "0.9023\n"
     ]
    },
    {
     "name": "stdout",
     "output_type": "stream",
     "text": [
      "0.9016\n"
     ]
    },
    {
     "name": "stdout",
     "output_type": "stream",
     "text": [
      "0.9033\n"
     ]
    },
    {
     "name": "stdout",
     "output_type": "stream",
     "text": [
      "0.9028\n"
     ]
    },
    {
     "name": "stdout",
     "output_type": "stream",
     "text": [
      "0.9033\n"
     ]
    },
    {
     "name": "stdout",
     "output_type": "stream",
     "text": [
      "0.9029\n"
     ]
    },
    {
     "name": "stdout",
     "output_type": "stream",
     "text": [
      "0.9044\n"
     ]
    },
    {
     "name": "stdout",
     "output_type": "stream",
     "text": [
      "0.9034\n"
     ]
    },
    {
     "name": "stdout",
     "output_type": "stream",
     "text": [
      "0.9033\n"
     ]
    },
    {
     "name": "stdout",
     "output_type": "stream",
     "text": [
      "0.905\n"
     ]
    },
    {
     "name": "stdout",
     "output_type": "stream",
     "text": [
      "0.901\n"
     ]
    },
    {
     "name": "stdout",
     "output_type": "stream",
     "text": [
      "0.9052\n"
     ]
    },
    {
     "name": "stdout",
     "output_type": "stream",
     "text": [
      "0.9041\n"
     ]
    },
    {
     "name": "stdout",
     "output_type": "stream",
     "text": [
      "0.9011\n"
     ]
    },
    {
     "name": "stdout",
     "output_type": "stream",
     "text": [
      "0.9035\n"
     ]
    },
    {
     "name": "stdout",
     "output_type": "stream",
     "text": [
      "0.903\n"
     ]
    },
    {
     "name": "stdout",
     "output_type": "stream",
     "text": [
      "0.902\n"
     ]
    },
    {
     "name": "stdout",
     "output_type": "stream",
     "text": [
      "0.9037\n"
     ]
    },
    {
     "name": "stdout",
     "output_type": "stream",
     "text": [
      "0.9025\n"
     ]
    },
    {
     "name": "stdout",
     "output_type": "stream",
     "text": [
      "0.9049\n"
     ]
    },
    {
     "name": "stdout",
     "output_type": "stream",
     "text": [
      "0.9021\n"
     ]
    },
    {
     "name": "stdout",
     "output_type": "stream",
     "text": [
      "0.9032\n"
     ]
    },
    {
     "name": "stdout",
     "output_type": "stream",
     "text": [
      "0.9023\n"
     ]
    },
    {
     "name": "stdout",
     "output_type": "stream",
     "text": [
      "0.9044\n"
     ]
    },
    {
     "name": "stdout",
     "output_type": "stream",
     "text": [
      "0.9029\n"
     ]
    },
    {
     "name": "stdout",
     "output_type": "stream",
     "text": [
      "0.9052\n"
     ]
    },
    {
     "name": "stdout",
     "output_type": "stream",
     "text": [
      "0.9043\n"
     ]
    },
    {
     "name": "stdout",
     "output_type": "stream",
     "text": [
      "0.9049\n"
     ]
    },
    {
     "name": "stdout",
     "output_type": "stream",
     "text": [
      "0.9049\n"
     ]
    },
    {
     "name": "stdout",
     "output_type": "stream",
     "text": [
      "0.9046\n"
     ]
    },
    {
     "name": "stdout",
     "output_type": "stream",
     "text": [
      "0.9064\n"
     ]
    },
    {
     "name": "stdout",
     "output_type": "stream",
     "text": [
      "0.9008\n"
     ]
    },
    {
     "name": "stdout",
     "output_type": "stream",
     "text": [
      "0.9067\n"
     ]
    },
    {
     "name": "stdout",
     "output_type": "stream",
     "text": [
      "0.9054\n"
     ]
    },
    {
     "name": "stdout",
     "output_type": "stream",
     "text": [
      "0.9025\n"
     ]
    },
    {
     "name": "stdout",
     "output_type": "stream",
     "text": [
      "0.9039\n"
     ]
    },
    {
     "name": "stdout",
     "output_type": "stream",
     "text": [
      "0.9038\n"
     ]
    },
    {
     "name": "stdout",
     "output_type": "stream",
     "text": [
      "0.9023\n"
     ]
    },
    {
     "name": "stdout",
     "output_type": "stream",
     "text": [
      "0.9045\n"
     ]
    },
    {
     "name": "stdout",
     "output_type": "stream",
     "text": [
      "0.9025\n"
     ]
    },
    {
     "name": "stdout",
     "output_type": "stream",
     "text": [
      "0.905\n"
     ]
    },
    {
     "name": "stdout",
     "output_type": "stream",
     "text": [
      "0.9036\n"
     ]
    },
    {
     "name": "stdout",
     "output_type": "stream",
     "text": [
      "0.905\n"
     ]
    },
    {
     "name": "stdout",
     "output_type": "stream",
     "text": [
      "0.9032\n"
     ]
    },
    {
     "name": "stdout",
     "output_type": "stream",
     "text": [
      "0.9057\n"
     ]
    },
    {
     "name": "stdout",
     "output_type": "stream",
     "text": [
      "0.903\n"
     ]
    },
    {
     "name": "stdout",
     "output_type": "stream",
     "text": [
      "0.9055\n"
     ]
    },
    {
     "name": "stdout",
     "output_type": "stream",
     "text": [
      "0.9061\n"
     ]
    },
    {
     "name": "stdout",
     "output_type": "stream",
     "text": [
      "0.9051\n"
     ]
    },
    {
     "name": "stdout",
     "output_type": "stream",
     "text": [
      "0.9066\n"
     ]
    },
    {
     "name": "stdout",
     "output_type": "stream",
     "text": [
      "0.9055\n"
     ]
    },
    {
     "name": "stdout",
     "output_type": "stream",
     "text": [
      "0.9073\n"
     ]
    },
    {
     "name": "stdout",
     "output_type": "stream",
     "text": [
      "0.9025\n"
     ]
    },
    {
     "name": "stdout",
     "output_type": "stream",
     "text": [
      "0.906\n"
     ]
    },
    {
     "name": "stdout",
     "output_type": "stream",
     "text": [
      "train complete\n"
     ]
    },
    {
     "data": {
      "image/png": "[encoded data removed]",
      "text/plain": [
       "<matplotlib.figure.Figure at 0x11171ecc0>"
      ]
     },
     "metadata": {},
     "output_type": "display_data"
    }
   ],
   "source": [
    "###########train###############\n",
    "benchmark = np.zeros(1)\n",
    "#mini batch fprop\n",
    "for i in range(0,epoch):\n",
    "    train_No = 0;\n",
    "    batch_index = 0;\n",
    "    while batch_index+batch_size < train_data.shape[0]:\n",
    "        train_batch = train_data[batch_index:\n",
    "        batch_index+batch_size,:]\n",
    "        train_label_batch = train_label[batch_index:\n",
    "        batch_index+batch_size,:]\n",
    "        batch_index = batch_index+batch_size\n",
    "        \n",
    "        #fprop\n",
    "        hid_state = np.dot(train_batch,in_to_hid_weights)\n",
    "        out_state = np.dot(hid_state,hid_to_out_weights)\n",
    "        out_state = 1/(1+np.exp(-out_state))\n",
    "        \n",
    "        #bprop:err\n",
    "        err = out_state-train_label_batch\n",
    "        CE = (err*err/2).sum(axis=1)\n",
    "        d_Out = out_state*(1-out_state)*err\n",
    "        d_hid_to_out = np.dot(hid_state.transpose(), d_Out)\n",
    "        d_hid = np.dot(d_Out, hid_to_out_weights.transpose())\n",
    "        d_in_to_hid = np.dot(train_batch.transpose(),d_hid)\n",
    "        \n",
    "        #update weights\n",
    "        del_hid_to_out = -1*alpha*d_hid_to_out\n",
    "        del_in_to_hid = -1*alpha*d_in_to_hid    \n",
    "        hid_to_out_weights+=del_hid_to_out\n",
    "        in_to_hid_weights+=del_in_to_hid\n",
    "        \n",
    "        train_No += 1\n",
    "        #evaluation\n",
    "        \n",
    "        if train_No % CE_freq == 0:\n",
    "            \n",
    "            hid_state = np.dot(test_data,in_to_hid_weights)\n",
    "            out_state = np.dot(hid_state,hid_to_out_weights)\n",
    "            out_state = 1/(1+np.exp(-out_state))\n",
    "            prediction = np.argmax(out_state,axis=1)\n",
    "            eval = np.abs(prediction-test_label)\n",
    "            eval = np.bincount(eval)[0]/10000\n",
    "            benchmark = np.append(benchmark, [eval])\n",
    "            print(eval)\n",
    "            #print(benchmark)\n",
    "            \n",
    "print('train complete')\n",
    "benchmark = benchmark[1:]\n",
    "Numbers = range(0,benchmark.shape[0])\n",
    "plt.plot(Numbers, benchmark)\n",
    "plt.show()"
   ]
  },
  {
   "cell_type": "code",
   "execution_count": 47,
   "metadata": {},
   "outputs": [
    {
     "name": "stdout",
     "output_type": "stream",
     "text": [
      "0.906\n[ 0.1139  0.1139  0.1139  0.1058  0.1139  0.1423  0.1334  0.1367  0.2078\n  0.1773  0.2798  0.2914  0.3241  0.3742  0.4232  0.4296  0.4951  0.5626\n  0.5595  0.5985  0.6421  0.65    0.6403  0.6779  0.6965  0.7129  0.7179\n  0.7271  0.7409  0.7561  0.7622  0.7572  0.7764  0.7689  0.7916  0.7856\n  0.8091  0.8021  0.8053  0.8236  0.8245  0.8324  0.8454  0.8518  0.856\n  0.8616  0.8613  0.8663  0.8712  0.8792  0.8778  0.8764  0.8792  0.8792\n  0.8774  0.8833  0.8764  0.8812  0.8836  0.8799  0.8886  0.885   0.8846\n  0.8891  0.8892  0.8874  0.8866  0.8882  0.8869  0.8904  0.8915  0.8912\n  0.8906  0.8917  0.8927  0.8896  0.8958  0.8892  0.8897  0.8932  0.8928\n  0.8971  0.8934  0.8944  0.8976  0.8951  0.8943  0.8934  0.8959  0.8937\n  0.8966  0.8986  0.8963  0.8941  0.8959  0.8981  0.8952  0.9001  0.8962\n  0.8961  0.8972  0.8966  0.9015  0.8974  0.8991  0.9015  0.8985  0.8975\n  0.8973  0.8992  0.8979  0.8993  0.9009  0.8977  0.8966  0.8992  0.9006\n  0.899   0.9022  0.9006  0.9011  0.9004  0.9004  0.9037  0.8991  0.9014\n  0.9024  0.9007  0.9009  0.9007  0.9008  0.9008  0.9017  0.9025  0.9006\n  0.9     0.9012  0.9024  0.9015  0.9031  0.9025  0.9028  0.9015  0.9018\n  0.9049  0.9007  0.9037  0.9041  0.9006  0.903   0.902   0.9019  0.9023\n  0.9028  0.9028  0.9013  0.9023  0.9016  0.9033  0.9028  0.9033  0.9029\n  0.9044  0.9034  0.9033  0.905   0.901   0.9052  0.9041  0.9011  0.9035\n  0.903   0.902   0.9037  0.9025  0.9049  0.9021  0.9032  0.9023  0.9044\n  0.9029  0.9052  0.9043  0.9049  0.9049  0.9046  0.9064  0.9008  0.9067\n  0.9054  0.9025  0.9039  0.9038  0.9023  0.9045  0.9025  0.905   0.9036\n  0.905   0.9032  0.9057  0.903   0.9055  0.9061  0.9051  0.9066  0.9055\n  0.9073  0.9025  0.906 ]\n"
     ]
    },
    {
     "data": {
      "image/png": "[encoded data removed]",
      "text/plain": [
       "<matplotlib.figure.Figure at 0x1119de908>"
      ]
     },
     "metadata": {},
     "output_type": "display_data"
    }
   ],
   "source": [
    "# evaluation\n",
    "\n",
    "# hid_state = np.dot(test_data,in_to_hid_weights)\n",
    "# out_state = np.dot(hid_state,hid_to_out_weights)\n",
    "# out_state = 1/(1+np.exp(-out_state))\n",
    "# #print(out_state)\n",
    "# prediction = np.argmax(out_state,axis=1)\n",
    "\n",
    "\n",
    "# print(prediction)\n",
    "# print(prediction.shape)\n",
    "# print(test_label)\n",
    "# print(test_label.shape)\n",
    "\n",
    "eval = np.abs(prediction-test_label)\n",
    "eval = np.bincount(eval)[0]/10000\n",
    "print(eval)\n",
    "print(benchmark)\n",
    "No = range(0,benchmark.shape[0])\n",
    "plt.plot(No, benchmark)\n",
    "plt.show()"
   ]
  },
  {
   "cell_type": "code",
   "execution_count": 48,
   "metadata": {},
   "outputs": [
    {
     "data": {
      "image/png": "[encoded data removed]",
      "text/plain": [
       "<matplotlib.figure.Figure at 0x11780d978>"
      ]
     },
     "metadata": {},
     "output_type": "display_data"
    }
   ],
   "source": [
    "#plot\n",
    "benchmark = benchmark[50:]\n",
    "Numbers = range(0,benchmark.shape[0])\n",
    "plt.plot(Numbers, benchmark)\n",
    "plt.show()"
   ]
  },
  {
   "cell_type": "code",
   "execution_count": null,
   "metadata": {},
   "outputs": [],
   "source": [
    ""
   ]
  }
 ],
 "metadata": {
  "kernelspec": {
   "display_name": "Python 2",
   "language": "python",
   "name": "python2"
  },
  "language_info": {
   "codemirror_mode": {
    "name": "ipython",
    "version": 2.0
   },
   "file_extension": ".py",
   "mimetype": "text/x-python",
   "name": "python",
   "nbconvert_exporter": "python",
   "pygments_lexer": "ipython2",
   "version": "2.7.6"
  }
 },
 "nbformat": 4,
 "nbformat_minor": 0
}