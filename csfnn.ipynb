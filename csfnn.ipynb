{
 "cells": [
  {
   "cell_type": "code",
   "execution_count": 88,
   "metadata": {
    "collapsed": true
   },
   "outputs": [],
   "source": [
    "#imports\n",
    "import pandas as pd\n",
    "import matplotlib.pyplot as plt\n",
    "import numpy as np\n",
    "import random as rand"
   ]
  },
  {
   "cell_type": "code",
   "execution_count": 111,
   "metadata": {},
   "outputs": [],
   "source": [
    "conv_core = 5\n",
    "num_of_fmap = 3\n",
    "num_of_hidden_unit = 100\n",
    "weights_init = 0.01\n",
    "random_seed = 123123\n",
    "batch_size = 1\n",
    "epoch = 10\n",
    "image_size = 28\n",
    "alpha = 0.01"
   ]
  },
  {
   "cell_type": "code",
   "execution_count": 100,
   "metadata": {},
   "outputs": [
    {
     "name": "stdout",
     "output_type": "stream",
     "text": [
      "[[ 0.  0.  0. ...,  0.  0.  0.]\n [ 0.  0.  0. ...,  0.  0.  0.]\n [ 0.  0.  0. ...,  0.  0.  0.]\n ..., \n [ 0.  0.  0. ...,  0.  0.  0.]\n [ 0.  0.  0. ...,  0.  0.  0.]\n [ 0.  0.  0. ...,  0.  0.  0.]]\n32000\n[1 0 1 ..., 7 8 0]\n(32000,)\n[[ 0.  0.  0. ...,  0.  0.  0.]\n [ 0.  0.  0. ...,  0.  0.  0.]\n [ 0.  0.  0. ...,  0.  0.  0.]\n ..., \n [ 0.  0.  0. ...,  0.  0.  0.]\n [ 0.  0.  0. ...,  0.  0.  0.]\n [ 0.  0.  0. ...,  0.  0.  0.]]\n(10000, 784)\n"
     ]
    }
   ],
   "source": [
    "#data processing\n",
    "train_data = (pd.read_csv(\"~/Developer/kaggle.Digit_Recognizer/datasets/train.csv\")\n",
    "               .iloc[:32000,1:].values).astype('float32')\n",
    "train_label = (pd.read_csv(\"~/Developer/kaggle.Digit_Recognizer/datasets/train.csv\")\n",
    "               .iloc[:32000,0].values).astype('int32')\n",
    "test_data = (pd.read_csv(\"~/Developer/kaggle.Digit_Recognizer/datasets/train.csv\")\n",
    "               .iloc[32000:,1:].values).astype('float32')\n",
    "test_label = (pd.read_csv(\"~/Developer/kaggle.Digit_Recognizer/datasets/train.csv\")\n",
    "               .iloc[32000:,0].values).astype('int32')\n",
    "\n",
    "print(train_data)\n",
    "print(train_data.shape[0])\n",
    "print(train_label)\n",
    "print(train_label.shape)\n",
    "print(test_data)\n",
    "print(test_data.shape)"
   ]
  },
  {
   "cell_type": "code",
   "execution_count": 101,
   "metadata": {},
   "outputs": [
    {
     "name": "stdout",
     "output_type": "stream",
     "text": [
      "[[0 1 0 ..., 0 0 0]\n [1 0 0 ..., 0 0 0]\n [0 1 0 ..., 0 0 0]\n ..., \n [0 0 0 ..., 1 0 0]\n [0 0 0 ..., 0 1 0]\n [1 0 0 ..., 0 0 0]]\n(32000, 10)\n"
     ]
    }
   ],
   "source": [
    "#one hot encode label\n",
    "num_of_labels = train_label.shape[0]\n",
    "encoded_labels = np.zeros((num_of_labels, 10),dtype=np.int)\n",
    "for i in range(0, num_of_labels):\n",
    "    encoded_labels[i][train_label[i]] = 1\n",
    "train_label = encoded_labels\n",
    "print(train_label)\n",
    "print(train_label.shape)\n",
    "# regularlize data\n",
    "train_data /= 255\n",
    "test_data /= 255"
   ]
  },
  {
   "cell_type": "code",
   "execution_count": 112,
   "metadata": {},
   "outputs": [
    {
     "name": "stdout",
     "output_type": "stream",
     "text": [
      "(3, 25)\n(432, 100)\n(100, 10)\n"
     ]
    }
   ],
   "source": [
    "#weights init\n",
    "rand.seed(a=123123)\n",
    "\n",
    "in_to_conv_weights = np.zeros((num_of_fmap,conv_core*conv_core),dtype=np.float)\n",
    "for i in range(0, in_to_conv_weights.shape[0]):\n",
    "    for j in range(0, in_to_conv_weights.shape[1]):\n",
    "        in_to_conv_weights[i][j] = weights_init*rand.random()\n",
    "print(in_to_conv_weights.shape)\n",
    "#[[map1No1*1, map1No1*2, ...map1No28*28]\n",
    "#[map2No1*1, map2No1*2, ...map2No28*28]\n",
    "#...\n",
    "#[map6No1*1, map6No1*2, ...map6No28*28]]\n",
    "\n",
    "#after submapping\n",
    "\n",
    "#[[map1No1*1, map1No1*2, ...map1No14*14]\n",
    "#[map2No1*1, map2No1*2, ...map2No14*14]\n",
    "#...\n",
    "#[map6No1*1, map6No1*2, ...map6No14*14]]\n",
    "\n",
    "#to input: to one line: 6*14*14 para\n",
    "hid_bias = np.ones((batch_size, num_of_hidden_unit), dtype=np.float)\n",
    "hid_bias *= weights_init * rand.random()\n",
    "out_bias = np.ones((batch_size, 10), dtype=np.float)\n",
    "out_bias *= weights_init * rand.random()\n",
    "\n",
    "in_to_hid_weights = np.zeros((int(num_of_fmap*((28-conv_core+1)/2)*((28-conv_core+1)/2)),num_of_hidden_unit),dtype=np.float)\n",
    "for i in range(0, in_to_hid_weights.shape[0]):\n",
    "    for j in range(0, in_to_hid_weights.shape[1]):\n",
    "        in_to_hid_weights[i][j] = weights_init*rand.random()\n",
    "print(in_to_hid_weights.shape)\n",
    "\n",
    "hid_to_out_weights = np.zeros((num_of_hidden_unit, train_label.shape[1]), dtype=np.float)\n",
    "for i in range(0, hid_to_out_weights.shape[0]):\n",
    "    for j in range(0, hid_to_out_weights.shape[1]):\n",
    "        hid_to_out_weights[i][j] = weights_init*rand.random()\n",
    "print(hid_to_out_weights.shape)"
   ]
  },
  {
   "cell_type": "code",
   "execution_count": 93,
   "metadata": {},
   "outputs": [
    {
     "name": "stdout",
     "output_type": "stream",
     "text": [
      "(1, 28, 28)\n[[ 0.  0.  0.  0.  0.]\n [ 0.  0.  0.  0.  0.]\n [ 0.  0.  0.  0.  0.]\n [ 0.  0.  0.  0.  0.]\n [ 0.  0.  0.  0.  0.]]\n(1, 7, 12, 12)\n"
     ]
    }
   ],
   "source": [
    "#mini batch frop\n",
    "#print(train_data)\n",
    "##l1\n",
    "train_data_batch = train_data[:1]\n",
    "train_label_batch = train_label[:1]\n",
    "\n",
    "two_d_input = train_data_batch.reshape(train_data_batch.shape[0],image_size, image_size)\n",
    "print(two_d_input.shape)\n",
    "print((two_d_input[0][0:5,0:5]))\n",
    "\n",
    "conved_input = np.zeros((train_data_batch.shape[0],num_of_fmap,image_size-conv_core+1,image_size-conv_core+1),dtype=np.float)\n",
    "conved_input_maxloc = np.zeros((train_data_batch.shape[0],num_of_fmap,image_size-conv_core+1,image_size-conv_core+1),dtype=np.float)\n",
    "for i in range(0, train_data_batch.shape[0]):\n",
    "    for j in range(0, num_of_fmap):\n",
    "        for k in range(0,image_size-conv_core+1):\n",
    "            for l in range(0, image_size-conv_core+1):\n",
    "                conved_input[i][j][k][l] = sum(sum(two_d_input[i][k:k+conv_core,l:l+conv_core]*(in_to_conv_weights[j].\n",
    "                                                                                                reshape(conv_core,conv_core)))) \n",
    "                \n",
    "##l2(max)\n",
    "# print(conved_input)\n",
    "sampled_input = np.zeros((train_data_batch.shape[0],num_of_fmap,int((image_size-conv_core+1)/2),int((image_size-conv_core+1)/2)),dtype=np.float)\n",
    "for i in range(0, train_data_batch.shape[0]):\n",
    "    for j in range(0, num_of_fmap):\n",
    "        for k in range(0,int(conved_input.shape[2]/2)):\n",
    "            for l in range(0, int(conved_input.shape[3]/2)):\n",
    "                sampled_input[i][j][k][l]= np.amax(conved_input[i][j][2*k:2*k+2,2*l:2*l+2])\n",
    "                agmx = np.argmax(conved_input[i][j][2*k:2*k+2,2*l:2*l+2])\n",
    "                conved_input_maxloc[i][j][2*k+int(agmx/2)][2*l+agmx%2] = 1\n",
    "#print(np.amax(conved_input[0][0][2*0:2*0+2,2*0:2*0+2]))\n",
    "#print(sampled_input[0][0])\n",
    "#print(conved_input[0][0])\n",
    "#print(conved_input_maxloc[0][0])\n",
    "print(sampled_input.shape)"
   ]
  },
  {
   "cell_type": "code",
   "execution_count": 98,
   "metadata": {},
   "outputs": [
    {
     "name": "stdout",
     "output_type": "stream",
     "text": [
      "(1, 1008)\n(1, 1008)\n(1, 7, 12, 12)\n"
     ]
    }
   ],
   "source": [
    "def one_layer_training_with_bias_api(alpha, train_batch, train_label_batch, in_to_hid_weights, hid_bias,\n",
    "                                     hid_to_out_weights,out_bias):\n",
    "# fprop\n",
    "    hid_state = np.dot(train_batch, in_to_hid_weights)\n",
    "    hid_state = hid_state + hid_bias\n",
    "    out_state = np.dot(hid_state, hid_to_out_weights)\n",
    "    out_state = out_state + out_bias\n",
    "    out_state = 1 / (1 + np.exp(-out_state))\n",
    "\n",
    "    # bprop:err\n",
    "    err = out_state - train_label_batch\n",
    "    CE = (err * err / 2).sum(axis=1)\n",
    "    d_Out = out_state * (1 - out_state) * err\n",
    "    d_hid_to_out = np.dot(hid_state.transpose(), d_Out)\n",
    "    d_hid = np.dot(d_Out, hid_to_out_weights.transpose())\n",
    "    d_in_to_hid = np.dot(train_batch.transpose(), d_hid)\n",
    "    d_in = np.dot(d_hid, in_to_hid_weights.transpose())\n",
    "\n",
    "    # update weights\n",
    "    del_hid_to_out = -1 * alpha * d_hid_to_out / batch_size\n",
    "    del_in_to_hid = -1 * alpha * d_in_to_hid / batch_size\n",
    "    hid_to_out_weights += del_hid_to_out\n",
    "    in_to_hid_weights += del_in_to_hid\n",
    "\n",
    "    hid_bias += -1 * alpha * d_hid\n",
    "    out_bias += -1 * alpha * d_Out\n",
    "\n",
    "    return in_to_hid_weights,hid_bias,hid_to_out_weights,out_bias,d_in\n",
    "\n",
    "\n",
    "##mini batch l3(ffnn)\n",
    "\n",
    "\n",
    "\n",
    "oned_fnn_in = sampled_input.reshape(sampled_input.shape[0],sampled_input.shape[1]*sampled_input.shape[2]*sampled_input.shape[3])\n",
    "print(oned_fnn_in.shape)\n",
    "(in_to_hid_weights,hid_bias,hid_to_out_weights,out_bias,d_in) = one_layer_training_with_bias_api\\\n",
    "    (alpha, oned_fnn_in,train_label_batch, in_to_hid_weights, hid_bias, hid_to_out_weights,out_bias)\n",
    "print(d_in.shape)\n",
    "\n",
    "##bp conv\n",
    "d_in = d_in.reshape(d_in.shape[0],num_of_fmap,int((28-conv_core+1)/2),int((28-conv_core+1)/2))\n",
    "expd_d_in = np.zeros((d_in.shape[0],d_in.shape[1],d_in.shape[2]*2,d_in.shape[3]*2),dtype=np.float)\n",
    "print(d_in.shape)\n",
    "kr = [[1,1],[1,1]]\n",
    "for i in range(0, train_data_batch.shape[0]):\n",
    "    for j in range(0, num_of_fmap):\n",
    "        expd_d_in[i][j] = np.kron(d_in[i][j],kr)\n",
    "#print(expd_d_in[0][0])\n",
    "expd_d_in = expd_d_in*conved_input_maxloc\n",
    "#print(expd_d_in[0][5])\n",
    "#print(train_data_batch)\n",
    "\n",
    "d_cov_w = np.zeros((d_in.shape[1],conv_core,conv_core),dtype=np.float)\n",
    "for i in range(0, train_data_batch.shape[0]):\n",
    "    for j in range(0, num_of_fmap):\n",
    "        for k in range(0,conv_core):\n",
    "            for l in range(0,conv_core):\n",
    "                d_cov_w[j][k][l] += sum(sum(expd_d_in[i][j]*two_d_input[i][k:k+expd_d_in.shape[2],l:l+expd_d_in.shape[3]]))\n",
    "#print(d_cov_w)\n",
    "#print(in_to_conv_weights)\n",
    "#print(in_to_conv_weights[5])\n",
    "in_to_conv_weights += -alpha*(d_cov_w.reshape(d_cov_w.shape[0],d_cov_w.shape[1]*d_cov_w.shape[2]))"
   ]
  },
  {
   "cell_type": "code",
   "execution_count": 116,
   "metadata": {},
   "outputs": [
    {
     "name": "stdout",
     "output_type": "stream",
     "text": [
      " - epoch: 0 0.390625% :: 0.08\n"
     ]
    },
    {
     "name": "stdout",
     "output_type": "stream",
     "text": [
      " - epoch: 0 0.78125% :: 0.08\n"
     ]
    },
    {
     "name": "stdout",
     "output_type": "stream",
     "text": [
      " - epoch: 0 1.171875% :: 0.07\n"
     ]
    },
    {
     "name": "stdout",
     "output_type": "stream",
     "text": [
      " - epoch: 0 1.5625% :: 0.07\n"
     ]
    },
    {
     "name": "stdout",
     "output_type": "stream",
     "text": [
      " - epoch: 0 1.953125% :: 0.07\n"
     ]
    },
    {
     "name": "stdout",
     "output_type": "stream",
     "text": [
      " - epoch: 0 2.34375% :: 0.08\n"
     ]
    },
    {
     "name": "stdout",
     "output_type": "stream",
     "text": [
      " - epoch: 0 2.734375% :: 0.18\n"
     ]
    },
    {
     "name": "stdout",
     "output_type": "stream",
     "text": [
      " - epoch: 0 3.125% :: 0.11\n"
     ]
    },
    {
     "name": "stdout",
     "output_type": "stream",
     "text": [
      " - epoch: 0 3.515625% :: 0.11\n"
     ]
    },
    {
     "name": "stdout",
     "output_type": "stream",
     "text": [
      " - epoch: 0 3.90625% :: 0.18\n"
     ]
    },
    {
     "name": "stdout",
     "output_type": "stream",
     "text": [
      " - epoch: 0 4.296875% :: 0.16\n"
     ]
    },
    {
     "name": "stdout",
     "output_type": "stream",
     "text": [
      " - epoch: 0 4.6875% :: 0.08\n"
     ]
    },
    {
     "name": "stdout",
     "output_type": "stream",
     "text": [
      " - epoch: 0 5.078125% :: 0.17\n"
     ]
    },
    {
     "name": "stdout",
     "output_type": "stream",
     "text": [
      " - epoch: 0 5.46875% :: 0.17\n"
     ]
    },
    {
     "name": "stdout",
     "output_type": "stream",
     "text": [
      " - epoch: 0 5.859375% :: 0.1\n"
     ]
    },
    {
     "name": "stdout",
     "output_type": "stream",
     "text": [
      " - epoch: 0 6.25% :: 0.08\n"
     ]
    },
    {
     "name": "stdout",
     "output_type": "stream",
     "text": [
      " - epoch: 0 6.640625% :: 0.08\n"
     ]
    },
    {
     "name": "stdout",
     "output_type": "stream",
     "text": [
      " - epoch: 0 7.03125% :: 0.09\n"
     ]
    },
    {
     "name": "stdout",
     "output_type": "stream",
     "text": [
      " - epoch: 0 7.421875% :: 0.08\n"
     ]
    },
    {
     "name": "stdout",
     "output_type": "stream",
     "text": [
      " - epoch: 0 7.8125% :: 0.13\n"
     ]
    },
    {
     "name": "stdout",
     "output_type": "stream",
     "text": [
      " - epoch: 0 8.203125% :: 0.11\n"
     ]
    },
    {
     "name": "stdout",
     "output_type": "stream",
     "text": [
      " - epoch: 0 8.59375% :: 0.11\n"
     ]
    },
    {
     "name": "stdout",
     "output_type": "stream",
     "text": [
      " - epoch: 0 8.984375% :: 0.12\n"
     ]
    },
    {
     "name": "stdout",
     "output_type": "stream",
     "text": [
      " - epoch: 0 9.375% :: 0.14\n"
     ]
    },
    {
     "name": "stdout",
     "output_type": "stream",
     "text": [
      " - epoch: 0 9.765625% :: 0.21\n"
     ]
    },
    {
     "name": "stdout",
     "output_type": "stream",
     "text": [
      " - epoch: 0 10.15625% :: 0.19\n"
     ]
    },
    {
     "name": "stdout",
     "output_type": "stream",
     "text": [
      " - epoch: 0 10.546875% :: 0.14\n"
     ]
    },
    {
     "name": "stdout",
     "output_type": "stream",
     "text": [
      " - epoch: 0 10.9375% :: 0.14\n"
     ]
    },
    {
     "name": "stdout",
     "output_type": "stream",
     "text": [
      " - epoch: 0 11.328125% :: 0.21\n"
     ]
    },
    {
     "name": "stdout",
     "output_type": "stream",
     "text": [
      " - epoch: 0 11.71875% :: 0.19\n"
     ]
    },
    {
     "name": "stdout",
     "output_type": "stream",
     "text": [
      " - epoch: 0 12.109375% :: 0.24\n"
     ]
    },
    {
     "name": "stdout",
     "output_type": "stream",
     "text": [
      " - epoch: 0 12.5% :: 0.22\n"
     ]
    },
    {
     "name": "stdout",
     "output_type": "stream",
     "text": [
      " - epoch: 0 12.890625% :: 0.28\n"
     ]
    },
    {
     "name": "stdout",
     "output_type": "stream",
     "text": [
      " - epoch: 0 13.28125% :: 0.3\n"
     ]
    },
    {
     "name": "stdout",
     "output_type": "stream",
     "text": [
      " - epoch: 0 13.671875% :: 0.3\n"
     ]
    },
    {
     "name": "stdout",
     "output_type": "stream",
     "text": [
      " - epoch: 0 14.0625% :: 0.32\n"
     ]
    },
    {
     "name": "stdout",
     "output_type": "stream",
     "text": [
      " - epoch: 0 14.453125% :: 0.34\n"
     ]
    },
    {
     "name": "stdout",
     "output_type": "stream",
     "text": [
      " - epoch: 0 14.84375% :: 0.39\n"
     ]
    },
    {
     "name": "stdout",
     "output_type": "stream",
     "text": [
      " - epoch: 0 15.234375% :: 0.39\n"
     ]
    },
    {
     "name": "stdout",
     "output_type": "stream",
     "text": [
      " - epoch: 0 15.625% :: 0.37\n"
     ]
    },
    {
     "name": "stdout",
     "output_type": "stream",
     "text": [
      " - epoch: 0 16.015625% :: 0.39\n"
     ]
    },
    {
     "name": "stdout",
     "output_type": "stream",
     "text": [
      " - epoch: 0 16.40625% :: 0.41\n"
     ]
    },
    {
     "name": "stdout",
     "output_type": "stream",
     "text": [
      " - epoch: 0 16.796875% :: 0.41\n"
     ]
    },
    {
     "name": "stdout",
     "output_type": "stream",
     "text": [
      " - epoch: 0 17.1875% :: 0.45\n"
     ]
    },
    {
     "name": "stdout",
     "output_type": "stream",
     "text": [
      " - epoch: 0 17.578125% :: 0.5\n"
     ]
    },
    {
     "name": "stdout",
     "output_type": "stream",
     "text": [
      " - epoch: 0 17.96875% :: 0.5\n"
     ]
    },
    {
     "name": "stdout",
     "output_type": "stream",
     "text": [
      " - epoch: 0 18.359375% :: 0.46\n"
     ]
    },
    {
     "name": "stdout",
     "output_type": "stream",
     "text": [
      " - epoch: 0 18.75% :: 0.51\n"
     ]
    },
    {
     "name": "stdout",
     "output_type": "stream",
     "text": [
      " - epoch: 0 19.140625% :: 0.54\n"
     ]
    },
    {
     "name": "stdout",
     "output_type": "stream",
     "text": [
      " - epoch: 0 19.53125% :: 0.52\n"
     ]
    },
    {
     "name": "stdout",
     "output_type": "stream",
     "text": [
      " - epoch: 0 19.921875% :: 0.56\n"
     ]
    },
    {
     "name": "stdout",
     "output_type": "stream",
     "text": [
      " - epoch: 0 20.3125% :: 0.56\n"
     ]
    },
    {
     "name": "stdout",
     "output_type": "stream",
     "text": [
      " - epoch: 0 20.703125% :: 0.57\n"
     ]
    },
    {
     "name": "stdout",
     "output_type": "stream",
     "text": [
      " - epoch: 0 21.09375% :: 0.57\n"
     ]
    },
    {
     "name": "stdout",
     "output_type": "stream",
     "text": [
      " - epoch: 0 21.484375% :: 0.54\n"
     ]
    },
    {
     "name": "stdout",
     "output_type": "stream",
     "text": [
      " - epoch: 0 21.875% :: 0.67\n"
     ]
    },
    {
     "name": "stdout",
     "output_type": "stream",
     "text": [
      " - epoch: 0 22.265625% :: 0.52\n"
     ]
    },
    {
     "name": "stdout",
     "output_type": "stream",
     "text": [
      " - epoch: 0 22.65625% :: 0.61\n"
     ]
    },
    {
     "name": "stdout",
     "output_type": "stream",
     "text": [
      " - epoch: 0 23.046875% :: 0.55\n"
     ]
    },
    {
     "name": "stdout",
     "output_type": "stream",
     "text": [
      " - epoch: 0 23.4375% :: 0.6\n"
     ]
    },
    {
     "name": "stdout",
     "output_type": "stream",
     "text": [
      " - epoch: 0 23.828125% :: 0.58\n"
     ]
    },
    {
     "name": "stdout",
     "output_type": "stream",
     "text": [
      " - epoch: 0 24.21875% :: 0.63\n"
     ]
    },
    {
     "name": "stdout",
     "output_type": "stream",
     "text": [
      " - epoch: 0 24.609375% :: 0.6\n"
     ]
    },
    {
     "name": "stdout",
     "output_type": "stream",
     "text": [
      " - epoch: 0 25.0% :: 0.6\n"
     ]
    },
    {
     "name": "stdout",
     "output_type": "stream",
     "text": [
      " - epoch: 0 25.390625% :: 0.68\n"
     ]
    },
    {
     "name": "stdout",
     "output_type": "stream",
     "text": [
      " - epoch: 0 25.78125% :: 0.63\n"
     ]
    },
    {
     "name": "stdout",
     "output_type": "stream",
     "text": [
      " - epoch: 0 26.171875% :: 0.6\n"
     ]
    },
    {
     "name": "stdout",
     "output_type": "stream",
     "text": [
      " - epoch: 0 26.5625% :: 0.67\n"
     ]
    },
    {
     "name": "stdout",
     "output_type": "stream",
     "text": [
      " - epoch: 0 26.953125% :: 0.64\n"
     ]
    },
    {
     "name": "stdout",
     "output_type": "stream",
     "text": [
      " - epoch: 0 27.34375% :: 0.59\n"
     ]
    },
    {
     "name": "stdout",
     "output_type": "stream",
     "text": [
      " - epoch: 0 27.734375% :: 0.64\n"
     ]
    },
    {
     "name": "stdout",
     "output_type": "stream",
     "text": [
      " - epoch: 0 28.125% :: 0.64\n"
     ]
    },
    {
     "name": "stdout",
     "output_type": "stream",
     "text": [
      " - epoch: 0 28.515625% :: 0.62\n"
     ]
    },
    {
     "name": "stdout",
     "output_type": "stream",
     "text": [
      " - epoch: 0 28.90625% :: 0.59\n"
     ]
    },
    {
     "name": "stdout",
     "output_type": "stream",
     "text": [
      " - epoch: 0 29.296875% :: 0.64\n"
     ]
    },
    {
     "name": "stdout",
     "output_type": "stream",
     "text": [
      " - epoch: 0 29.6875% :: 0.67\n"
     ]
    },
    {
     "name": "stdout",
     "output_type": "stream",
     "text": [
      " - epoch: 0 30.078125% :: 0.63\n"
     ]
    },
    {
     "name": "stdout",
     "output_type": "stream",
     "text": [
      " - epoch: 0 30.46875% :: 0.67\n"
     ]
    },
    {
     "name": "stdout",
     "output_type": "stream",
     "text": [
      " - epoch: 0 30.859375% :: 0.66\n"
     ]
    },
    {
     "name": "stdout",
     "output_type": "stream",
     "text": [
      " - epoch: 0 31.25% :: 0.65\n"
     ]
    },
    {
     "name": "stdout",
     "output_type": "stream",
     "text": [
      " - epoch: 0 31.640625% :: 0.66\n"
     ]
    },
    {
     "name": "stdout",
     "output_type": "stream",
     "text": [
      " - epoch: 0 32.03125% :: 0.67\n"
     ]
    },
    {
     "name": "stdout",
     "output_type": "stream",
     "text": [
      " - epoch: 0 32.421875% :: 0.7\n"
     ]
    },
    {
     "name": "stdout",
     "output_type": "stream",
     "text": [
      " - epoch: 0 32.8125% :: 0.7\n"
     ]
    },
    {
     "name": "stdout",
     "output_type": "stream",
     "text": [
      " - epoch: 0 33.203125% :: 0.66\n"
     ]
    },
    {
     "name": "stdout",
     "output_type": "stream",
     "text": [
      " - epoch: 0 33.59375% :: 0.68\n"
     ]
    },
    {
     "name": "stdout",
     "output_type": "stream",
     "text": [
      " - epoch: 0 33.984375% :: 0.66\n"
     ]
    },
    {
     "name": "stdout",
     "output_type": "stream",
     "text": [
      " - epoch: 0 34.375% :: 0.77\n"
     ]
    },
    {
     "name": "stdout",
     "output_type": "stream",
     "text": [
      " - epoch: 0 34.765625% :: 0.68\n"
     ]
    },
    {
     "name": "stdout",
     "output_type": "stream",
     "text": [
      " - epoch: 0 35.15625% :: 0.74\n"
     ]
    },
    {
     "name": "stdout",
     "output_type": "stream",
     "text": [
      " - epoch: 0 35.546875% :: 0.73\n"
     ]
    },
    {
     "name": "stdout",
     "output_type": "stream",
     "text": [
      " - epoch: 0 35.9375% :: 0.69\n"
     ]
    },
    {
     "name": "stdout",
     "output_type": "stream",
     "text": [
      " - epoch: 0 36.328125% :: 0.66\n"
     ]
    },
    {
     "name": "stdout",
     "output_type": "stream",
     "text": [
      " - epoch: 0 36.71875% :: 0.71\n"
     ]
    },
    {
     "name": "stdout",
     "output_type": "stream",
     "text": [
      " - epoch: 0 37.109375% :: 0.76\n"
     ]
    },
    {
     "name": "stdout",
     "output_type": "stream",
     "text": [
      " - epoch: 0 37.5% :: 0.74\n"
     ]
    },
    {
     "name": "stdout",
     "output_type": "stream",
     "text": [
      " - epoch: 0 37.890625% :: 0.77\n"
     ]
    },
    {
     "name": "stdout",
     "output_type": "stream",
     "text": [
      " - epoch: 0 38.28125% :: 0.69\n"
     ]
    },
    {
     "name": "stdout",
     "output_type": "stream",
     "text": [
      " - epoch: 0 38.671875% :: 0.78\n"
     ]
    },
    {
     "name": "stdout",
     "output_type": "stream",
     "text": [
      " - epoch: 0 39.0625% :: 0.78\n"
     ]
    },
    {
     "name": "stdout",
     "output_type": "stream",
     "text": [
      " - epoch: 0 39.453125% :: 0.73\n"
     ]
    },
    {
     "name": "stdout",
     "output_type": "stream",
     "text": [
      " - epoch: 0 39.84375% :: 0.74\n"
     ]
    },
    {
     "name": "stdout",
     "output_type": "stream",
     "text": [
      " - epoch: 0 40.234375% :: 0.74\n"
     ]
    },
    {
     "name": "stdout",
     "output_type": "stream",
     "text": [
      " - epoch: 0 40.625% :: 0.79\n"
     ]
    },
    {
     "name": "stdout",
     "output_type": "stream",
     "text": [
      " - epoch: 0 41.015625% :: 0.77\n"
     ]
    },
    {
     "name": "stdout",
     "output_type": "stream",
     "text": [
      " - epoch: 0 41.40625% :: 0.78\n"
     ]
    },
    {
     "name": "stdout",
     "output_type": "stream",
     "text": [
      " - epoch: 0 41.796875% :: 0.72\n"
     ]
    },
    {
     "name": "stdout",
     "output_type": "stream",
     "text": [
      " - epoch: 0 42.1875% :: 0.75\n"
     ]
    },
    {
     "name": "stdout",
     "output_type": "stream",
     "text": [
      " - epoch: 0 42.578125% :: 0.7\n"
     ]
    },
    {
     "name": "stdout",
     "output_type": "stream",
     "text": [
      " - epoch: 0 42.96875% :: 0.8\n"
     ]
    },
    {
     "name": "stdout",
     "output_type": "stream",
     "text": [
      " - epoch: 0 43.359375% :: 0.78\n"
     ]
    },
    {
     "name": "stdout",
     "output_type": "stream",
     "text": [
      " - epoch: 0 43.75% :: 0.77\n"
     ]
    },
    {
     "name": "stdout",
     "output_type": "stream",
     "text": [
      " - epoch: 0 44.140625% :: 0.83\n"
     ]
    },
    {
     "name": "stdout",
     "output_type": "stream",
     "text": [
      " - epoch: 0 44.53125% :: 0.75\n"
     ]
    },
    {
     "name": "stdout",
     "output_type": "stream",
     "text": [
      " - epoch: 0 44.921875% :: 0.75\n"
     ]
    },
    {
     "name": "stdout",
     "output_type": "stream",
     "text": [
      " - epoch: 0 45.3125% :: 0.75\n"
     ]
    },
    {
     "name": "stdout",
     "output_type": "stream",
     "text": [
      " - epoch: 0 45.703125% :: 0.78\n"
     ]
    },
    {
     "name": "stdout",
     "output_type": "stream",
     "text": [
      " - epoch: 0 46.09375% :: 0.77\n"
     ]
    },
    {
     "name": "stdout",
     "output_type": "stream",
     "text": [
      " - epoch: 0 46.484375% :: 0.77\n"
     ]
    },
    {
     "name": "stdout",
     "output_type": "stream",
     "text": [
      " - epoch: 0 46.875% :: 0.8\n"
     ]
    },
    {
     "name": "stdout",
     "output_type": "stream",
     "text": [
      " - epoch: 0 47.265625% :: 0.8\n"
     ]
    },
    {
     "name": "stdout",
     "output_type": "stream",
     "text": [
      " - epoch: 0 47.65625% :: 0.81\n"
     ]
    },
    {
     "name": "stdout",
     "output_type": "stream",
     "text": [
      " - epoch: 0 48.046875% :: 0.78\n"
     ]
    },
    {
     "name": "stdout",
     "output_type": "stream",
     "text": [
      " - epoch: 0 48.4375% :: 0.78\n"
     ]
    },
    {
     "name": "stdout",
     "output_type": "stream",
     "text": [
      " - epoch: 0 48.828125% :: 0.76\n"
     ]
    },
    {
     "name": "stdout",
     "output_type": "stream",
     "text": [
      " - epoch: 0 49.21875% :: 0.8\n"
     ]
    },
    {
     "name": "stdout",
     "output_type": "stream",
     "text": [
      " - epoch: 0 49.609375% :: 0.79\n"
     ]
    },
    {
     "name": "stdout",
     "output_type": "stream",
     "text": [
      " - epoch: 0 50.0% :: 0.81\n"
     ]
    },
    {
     "name": "stdout",
     "output_type": "stream",
     "text": [
      " - epoch: 0 50.390625% :: 0.81\n"
     ]
    },
    {
     "name": "stdout",
     "output_type": "stream",
     "text": [
      " - epoch: 0 50.78125% :: 0.78\n"
     ]
    },
    {
     "name": "stdout",
     "output_type": "stream",
     "text": [
      " - epoch: 0 51.171875% :: 0.76\n"
     ]
    },
    {
     "name": "stdout",
     "output_type": "stream",
     "text": [
      " - epoch: 0 51.5625% :: 0.82\n"
     ]
    },
    {
     "name": "stdout",
     "output_type": "stream",
     "text": [
      " - epoch: 0 51.953125% :: 0.82\n"
     ]
    },
    {
     "name": "stdout",
     "output_type": "stream",
     "text": [
      " - epoch: 0 52.34375% :: 0.82\n"
     ]
    },
    {
     "name": "stdout",
     "output_type": "stream",
     "text": [
      " - epoch: 0 52.734375% :: 0.71\n"
     ]
    },
    {
     "name": "stdout",
     "output_type": "stream",
     "text": [
      " - epoch: 0 53.125% :: 0.79\n"
     ]
    },
    {
     "name": "stdout",
     "output_type": "stream",
     "text": [
      " - epoch: 0 53.515625% :: 0.78\n"
     ]
    },
    {
     "name": "stdout",
     "output_type": "stream",
     "text": [
      " - epoch: 0 53.90625% :: 0.81\n"
     ]
    },
    {
     "name": "stdout",
     "output_type": "stream",
     "text": [
      " - epoch: 0 54.296875% :: 0.81\n"
     ]
    },
    {
     "name": "stdout",
     "output_type": "stream",
     "text": [
      " - epoch: 0 54.6875% :: 0.81\n"
     ]
    },
    {
     "name": "stdout",
     "output_type": "stream",
     "text": [
      " - epoch: 0 55.078125% :: 0.81\n"
     ]
    },
    {
     "name": "stdout",
     "output_type": "stream",
     "text": [
      " - epoch: 0 55.46875% :: 0.81\n"
     ]
    },
    {
     "name": "stdout",
     "output_type": "stream",
     "text": [
      " - epoch: 0 55.859375% :: 0.83\n"
     ]
    },
    {
     "name": "stdout",
     "output_type": "stream",
     "text": [
      " - epoch: 0 56.25% :: 0.82\n"
     ]
    },
    {
     "name": "stdout",
     "output_type": "stream",
     "text": [
      " - epoch: 0 56.640625% :: 0.8\n"
     ]
    },
    {
     "name": "stdout",
     "output_type": "stream",
     "text": [
      " - epoch: 0 57.03125% :: 0.8\n"
     ]
    },
    {
     "name": "stdout",
     "output_type": "stream",
     "text": [
      " - epoch: 0 57.421875% :: 0.78\n"
     ]
    },
    {
     "name": "stdout",
     "output_type": "stream",
     "text": [
      " - epoch: 0 57.8125% :: 0.82\n"
     ]
    },
    {
     "name": "stdout",
     "output_type": "stream",
     "text": [
      " - epoch: 0 58.203125% :: 0.82\n"
     ]
    },
    {
     "name": "stdout",
     "output_type": "stream",
     "text": [
      " - epoch: 0 58.59375% :: 0.82\n"
     ]
    },
    {
     "name": "stdout",
     "output_type": "stream",
     "text": [
      " - epoch: 0 58.984375% :: 0.76\n"
     ]
    },
    {
     "name": "stdout",
     "output_type": "stream",
     "text": [
      " - epoch: 0 59.375% :: 0.79\n"
     ]
    },
    {
     "name": "stdout",
     "output_type": "stream",
     "text": [
      " - epoch: 0 59.765625% :: 0.79\n"
     ]
    },
    {
     "name": "stdout",
     "output_type": "stream",
     "text": [
      " - epoch: 0 60.15625% :: 0.81\n"
     ]
    },
    {
     "name": "stdout",
     "output_type": "stream",
     "text": [
      " - epoch: 0 60.546875% :: 0.78\n"
     ]
    },
    {
     "name": "stdout",
     "output_type": "stream",
     "text": [
      " - epoch: 0 60.9375% :: 0.81\n"
     ]
    },
    {
     "name": "stdout",
     "output_type": "stream",
     "text": [
      " - epoch: 0 61.328125% :: 0.81\n"
     ]
    },
    {
     "name": "stdout",
     "output_type": "stream",
     "text": [
      " - epoch: 0 61.71875% :: 0.81\n"
     ]
    },
    {
     "name": "stdout",
     "output_type": "stream",
     "text": [
      " - epoch: 0 62.109375% :: 0.81\n"
     ]
    },
    {
     "name": "stdout",
     "output_type": "stream",
     "text": [
      " - epoch: 0 62.5% :: 0.78\n"
     ]
    },
    {
     "name": "stdout",
     "output_type": "stream",
     "text": [
      " - epoch: 0 62.890625% :: 0.82\n"
     ]
    },
    {
     "name": "stdout",
     "output_type": "stream",
     "text": [
      " - epoch: 0 63.28125% :: 0.78\n"
     ]
    },
    {
     "name": "stdout",
     "output_type": "stream",
     "text": [
      " - epoch: 0 63.671875% :: 0.81\n"
     ]
    },
    {
     "name": "stdout",
     "output_type": "stream",
     "text": [
      " - epoch: 0 64.0625% :: 0.83\n"
     ]
    },
    {
     "name": "stdout",
     "output_type": "stream",
     "text": [
      " - epoch: 0 64.453125% :: 0.85\n"
     ]
    },
    {
     "name": "stdout",
     "output_type": "stream",
     "text": [
      " - epoch: 0 64.84375% :: 0.81\n"
     ]
    },
    {
     "name": "stdout",
     "output_type": "stream",
     "text": [
      " - epoch: 0 65.234375% :: 0.81\n"
     ]
    },
    {
     "name": "stdout",
     "output_type": "stream",
     "text": [
      " - epoch: 0 65.625% :: 0.83\n"
     ]
    },
    {
     "name": "stdout",
     "output_type": "stream",
     "text": [
      " - epoch: 0 66.015625% :: 0.83\n"
     ]
    },
    {
     "name": "stdout",
     "output_type": "stream",
     "text": [
      " - epoch: 0 66.40625% :: 0.8\n"
     ]
    },
    {
     "name": "stdout",
     "output_type": "stream",
     "text": [
      " - epoch: 0 66.796875% :: 0.78\n"
     ]
    },
    {
     "name": "stdout",
     "output_type": "stream",
     "text": [
      " - epoch: 0 67.1875% :: 0.79\n"
     ]
    },
    {
     "name": "stdout",
     "output_type": "stream",
     "text": [
      " - epoch: 0 67.578125% :: 0.83\n"
     ]
    },
    {
     "name": "stdout",
     "output_type": "stream",
     "text": [
      " - epoch: 0 67.96875% :: 0.81\n"
     ]
    },
    {
     "name": "stdout",
     "output_type": "stream",
     "text": [
      " - epoch: 0 68.359375% :: 0.81\n"
     ]
    },
    {
     "name": "stdout",
     "output_type": "stream",
     "text": [
      " - epoch: 0 68.75% :: 0.79\n"
     ]
    },
    {
     "name": "stdout",
     "output_type": "stream",
     "text": [
      " - epoch: 0 69.140625% :: 0.83\n"
     ]
    },
    {
     "name": "stdout",
     "output_type": "stream",
     "text": [
      " - epoch: 0 69.53125% :: 0.82\n"
     ]
    },
    {
     "name": "stdout",
     "output_type": "stream",
     "text": [
      " - epoch: 0 69.921875% :: 0.8\n"
     ]
    },
    {
     "name": "stdout",
     "output_type": "stream",
     "text": [
      " - epoch: 0 70.3125% :: 0.81\n"
     ]
    },
    {
     "name": "stdout",
     "output_type": "stream",
     "text": [
      " - epoch: 0 70.703125% :: 0.84\n"
     ]
    },
    {
     "name": "stdout",
     "output_type": "stream",
     "text": [
      " - epoch: 0 71.09375% :: 0.85\n"
     ]
    },
    {
     "name": "stdout",
     "output_type": "stream",
     "text": [
      " - epoch: 0 71.484375% :: 0.86\n"
     ]
    },
    {
     "name": "stdout",
     "output_type": "stream",
     "text": [
      " - epoch: 0 71.875% :: 0.86\n"
     ]
    },
    {
     "name": "stdout",
     "output_type": "stream",
     "text": [
      " - epoch: 0 72.265625% :: 0.84\n"
     ]
    },
    {
     "name": "stdout",
     "output_type": "stream",
     "text": [
      " - epoch: 0 72.65625% :: 0.8\n"
     ]
    },
    {
     "name": "stdout",
     "output_type": "stream",
     "text": [
      " - epoch: 0 73.046875% :: 0.79\n"
     ]
    },
    {
     "name": "stdout",
     "output_type": "stream",
     "text": [
      " - epoch: 0 73.4375% :: 0.83\n"
     ]
    },
    {
     "name": "stdout",
     "output_type": "stream",
     "text": [
      " - epoch: 0 73.828125% :: 0.82\n"
     ]
    },
    {
     "name": "stdout",
     "output_type": "stream",
     "text": [
      " - epoch: 0 74.21875% :: 0.81\n"
     ]
    },
    {
     "name": "stdout",
     "output_type": "stream",
     "text": [
      " - epoch: 0 74.609375% :: 0.85\n"
     ]
    },
    {
     "name": "stdout",
     "output_type": "stream",
     "text": [
      " - epoch: 0 75.0% :: 0.84\n"
     ]
    },
    {
     "name": "stdout",
     "output_type": "stream",
     "text": [
      " - epoch: 0 75.390625% :: 0.82\n"
     ]
    },
    {
     "name": "stdout",
     "output_type": "stream",
     "text": [
      " - epoch: 0 75.78125% :: 0.84\n"
     ]
    },
    {
     "name": "stdout",
     "output_type": "stream",
     "text": [
      " - epoch: 0 76.171875% :: 0.83\n"
     ]
    },
    {
     "name": "stdout",
     "output_type": "stream",
     "text": [
      " - epoch: 0 76.5625% :: 0.82\n"
     ]
    },
    {
     "name": "stdout",
     "output_type": "stream",
     "text": [
      " - epoch: 0 76.953125% :: 0.86\n"
     ]
    },
    {
     "name": "stdout",
     "output_type": "stream",
     "text": [
      " - epoch: 0 77.34375% :: 0.82\n"
     ]
    },
    {
     "name": "stdout",
     "output_type": "stream",
     "text": [
      " - epoch: 0 77.734375% :: 0.84\n"
     ]
    },
    {
     "name": "stdout",
     "output_type": "stream",
     "text": [
      " - epoch: 0 78.125% :: 0.82\n"
     ]
    },
    {
     "name": "stdout",
     "output_type": "stream",
     "text": [
      " - epoch: 0 78.515625% :: 0.82\n"
     ]
    },
    {
     "name": "stdout",
     "output_type": "stream",
     "text": [
      " - epoch: 0 78.90625% :: 0.82\n"
     ]
    },
    {
     "name": "stdout",
     "output_type": "stream",
     "text": [
      " - epoch: 0 79.296875% :: 0.85\n"
     ]
    },
    {
     "name": "stdout",
     "output_type": "stream",
     "text": [
      " - epoch: 0 79.6875% :: 0.81\n"
     ]
    },
    {
     "name": "stdout",
     "output_type": "stream",
     "text": [
      " - epoch: 0 80.078125% :: 0.85\n"
     ]
    },
    {
     "name": "stdout",
     "output_type": "stream",
     "text": [
      " - epoch: 0 80.46875% :: 0.81\n"
     ]
    },
    {
     "name": "stdout",
     "output_type": "stream",
     "text": [
      " - epoch: 0 80.859375% :: 0.84\n"
     ]
    },
    {
     "name": "stdout",
     "output_type": "stream",
     "text": [
      " - epoch: 0 81.25% :: 0.83\n"
     ]
    },
    {
     "name": "stdout",
     "output_type": "stream",
     "text": [
      " - epoch: 0 81.640625% :: 0.87\n"
     ]
    },
    {
     "name": "stdout",
     "output_type": "stream",
     "text": [
      " - epoch: 0 82.03125% :: 0.85\n"
     ]
    },
    {
     "name": "stdout",
     "output_type": "stream",
     "text": [
      " - epoch: 0 82.421875% :: 0.87\n"
     ]
    },
    {
     "name": "stdout",
     "output_type": "stream",
     "text": [
      " - epoch: 0 82.8125% :: 0.83\n"
     ]
    },
    {
     "name": "stdout",
     "output_type": "stream",
     "text": [
      " - epoch: 0 83.203125% :: 0.86\n"
     ]
    },
    {
     "name": "stdout",
     "output_type": "stream",
     "text": [
      " - epoch: 0 83.59375% :: 0.82\n"
     ]
    },
    {
     "name": "stdout",
     "output_type": "stream",
     "text": [
      " - epoch: 0 83.984375% :: 0.81\n"
     ]
    },
    {
     "name": "stdout",
     "output_type": "stream",
     "text": [
      " - epoch: 0 84.375% :: 0.84\n"
     ]
    },
    {
     "name": "stdout",
     "output_type": "stream",
     "text": [
      " - epoch: 0 84.765625% :: 0.85\n"
     ]
    },
    {
     "name": "stdout",
     "output_type": "stream",
     "text": [
      " - epoch: 0 85.15625% :: 0.88\n"
     ]
    },
    {
     "name": "stdout",
     "output_type": "stream",
     "text": [
      " - epoch: 0 85.546875% :: 0.84\n"
     ]
    },
    {
     "name": "stdout",
     "output_type": "stream",
     "text": [
      " - epoch: 0 85.9375% :: 0.82\n"
     ]
    },
    {
     "name": "stdout",
     "output_type": "stream",
     "text": [
      " - epoch: 0 86.328125% :: 0.87\n"
     ]
    },
    {
     "name": "stdout",
     "output_type": "stream",
     "text": [
      " - epoch: 0 86.71875% :: 0.82\n"
     ]
    },
    {
     "name": "stdout",
     "output_type": "stream",
     "text": [
      " - epoch: 0 87.109375% :: 0.85\n"
     ]
    },
    {
     "name": "stdout",
     "output_type": "stream",
     "text": [
      " - epoch: 0 87.5% :: 0.81\n"
     ]
    },
    {
     "name": "stdout",
     "output_type": "stream",
     "text": [
      " - epoch: 0 87.890625% :: 0.82\n"
     ]
    },
    {
     "name": "stdout",
     "output_type": "stream",
     "text": [
      " - epoch: 0 88.28125% :: 0.82\n"
     ]
    },
    {
     "name": "stdout",
     "output_type": "stream",
     "text": [
      " - epoch: 0 88.671875% :: 0.83\n"
     ]
    },
    {
     "name": "stdout",
     "output_type": "stream",
     "text": [
      " - epoch: 0 89.0625% :: 0.84\n"
     ]
    },
    {
     "name": "stdout",
     "output_type": "stream",
     "text": [
      " - epoch: 0 89.453125% :: 0.79\n"
     ]
    },
    {
     "name": "stdout",
     "output_type": "stream",
     "text": [
      " - epoch: 0 89.84375% :: 0.81\n"
     ]
    },
    {
     "name": "stdout",
     "output_type": "stream",
     "text": [
      " - epoch: 0 90.234375% :: 0.81\n"
     ]
    },
    {
     "name": "stdout",
     "output_type": "stream",
     "text": [
      " - epoch: 0 90.625% :: 0.84\n"
     ]
    },
    {
     "name": "stdout",
     "output_type": "stream",
     "text": [
      " - epoch: 0 91.015625% :: 0.86\n"
     ]
    },
    {
     "name": "stdout",
     "output_type": "stream",
     "text": [
      " - epoch: 0 91.40625% :: 0.84\n"
     ]
    },
    {
     "name": "stdout",
     "output_type": "stream",
     "text": [
      " - epoch: 0 91.796875% :: 0.84\n"
     ]
    },
    {
     "name": "stdout",
     "output_type": "stream",
     "text": [
      " - epoch: 0 92.1875% :: 0.84\n"
     ]
    },
    {
     "name": "stdout",
     "output_type": "stream",
     "text": [
      " - epoch: 0 92.578125% :: 0.81\n"
     ]
    },
    {
     "name": "stdout",
     "output_type": "stream",
     "text": [
      " - epoch: 0 92.96875% :: 0.84\n"
     ]
    },
    {
     "name": "stdout",
     "output_type": "stream",
     "text": [
      " - epoch: 0 93.359375% :: 0.83\n"
     ]
    },
    {
     "name": "stdout",
     "output_type": "stream",
     "text": [
      " - epoch: 0 93.75% :: 0.84\n"
     ]
    },
    {
     "name": "stdout",
     "output_type": "stream",
     "text": [
      " - epoch: 0 94.140625% :: 0.86\n"
     ]
    },
    {
     "name": "stdout",
     "output_type": "stream",
     "text": [
      " - epoch: 0 94.53125% :: 0.84\n"
     ]
    },
    {
     "name": "stdout",
     "output_type": "stream",
     "text": [
      " - epoch: 0 94.921875% :: 0.84\n"
     ]
    },
    {
     "name": "stdout",
     "output_type": "stream",
     "text": [
      " - epoch: 0 95.3125% :: 0.86\n"
     ]
    },
    {
     "name": "stdout",
     "output_type": "stream",
     "text": [
      " - epoch: 0 95.703125% :: 0.86\n"
     ]
    },
    {
     "name": "stdout",
     "output_type": "stream",
     "text": [
      " - epoch: 0 96.09375% :: 0.83\n"
     ]
    },
    {
     "name": "stdout",
     "output_type": "stream",
     "text": [
      " - epoch: 0 96.484375% :: 0.85\n"
     ]
    },
    {
     "name": "stdout",
     "output_type": "stream",
     "text": [
      " - epoch: 0 96.875% :: 0.79\n"
     ]
    },
    {
     "name": "stdout",
     "output_type": "stream",
     "text": [
      " - epoch: 0 97.265625% :: 0.85\n"
     ]
    },
    {
     "name": "stdout",
     "output_type": "stream",
     "text": [
      " - epoch: 0 97.65625% :: 0.81\n"
     ]
    },
    {
     "name": "stdout",
     "output_type": "stream",
     "text": [
      " - epoch: 0 98.046875% :: 0.8\n"
     ]
    },
    {
     "name": "stdout",
     "output_type": "stream",
     "text": [
      " - epoch: 0 98.4375% :: 0.83\n"
     ]
    },
    {
     "name": "stdout",
     "output_type": "stream",
     "text": [
      " - epoch: 0 98.828125% :: 0.85\n"
     ]
    },
    {
     "name": "stdout",
     "output_type": "stream",
     "text": [
      " - epoch: 0 99.21875% :: 0.82\n"
     ]
    },
    {
     "name": "stdout",
     "output_type": "stream",
     "text": [
      " - epoch: 0 99.609375% :: 0.81\n"
     ]
    },
    {
     "name": "stdout",
     "output_type": "stream",
     "text": [
      " - epoch: 1 0.390625% :: 0.83\n"
     ]
    },
    {
     "name": "stdout",
     "output_type": "stream",
     "text": [
      " - epoch: 1 0.78125% :: 0.83\n"
     ]
    },
    {
     "name": "stdout",
     "output_type": "stream",
     "text": [
      " - epoch: 1 1.171875% :: 0.83\n"
     ]
    },
    {
     "name": "stdout",
     "output_type": "stream",
     "text": [
      " - epoch: 1 1.5625% :: 0.82\n"
     ]
    },
    {
     "name": "stdout",
     "output_type": "stream",
     "text": [
      " - epoch: 1 1.953125% :: 0.82\n"
     ]
    },
    {
     "name": "stdout",
     "output_type": "stream",
     "text": [
      " - epoch: 1 2.34375% :: 0.83\n"
     ]
    },
    {
     "name": "stdout",
     "output_type": "stream",
     "text": [
      " - epoch: 1 2.734375% :: 0.86\n"
     ]
    },
    {
     "name": "stdout",
     "output_type": "stream",
     "text": [
      " - epoch: 1 3.125% :: 0.85\n"
     ]
    },
    {
     "name": "stdout",
     "output_type": "stream",
     "text": [
      " - epoch: 1 3.515625% :: 0.84\n"
     ]
    },
    {
     "name": "stdout",
     "output_type": "stream",
     "text": [
      " - epoch: 1 3.90625% :: 0.84\n"
     ]
    },
    {
     "name": "stdout",
     "output_type": "stream",
     "text": [
      " - epoch: 1 4.296875% :: 0.82\n"
     ]
    },
    {
     "name": "stdout",
     "output_type": "stream",
     "text": [
      " - epoch: 1 4.6875% :: 0.85\n"
     ]
    },
    {
     "name": "stdout",
     "output_type": "stream",
     "text": [
      " - epoch: 1 5.078125% :: 0.85\n"
     ]
    },
    {
     "name": "stdout",
     "output_type": "stream",
     "text": [
      " - epoch: 1 5.46875% :: 0.84\n"
     ]
    },
    {
     "name": "stdout",
     "output_type": "stream",
     "text": [
      " - epoch: 1 5.859375% :: 0.86\n"
     ]
    },
    {
     "name": "stdout",
     "output_type": "stream",
     "text": [
      " - epoch: 1 6.25% :: 0.8\n"
     ]
    },
    {
     "name": "stdout",
     "output_type": "stream",
     "text": [
      " - epoch: 1 6.640625% :: 0.86\n"
     ]
    },
    {
     "name": "stdout",
     "output_type": "stream",
     "text": [
      " - epoch: 1 7.03125% :: 0.87\n"
     ]
    },
    {
     "name": "stdout",
     "output_type": "stream",
     "text": [
      " - epoch: 1 7.421875% :: 0.81\n"
     ]
    },
    {
     "name": "stdout",
     "output_type": "stream",
     "text": [
      " - epoch: 1 7.8125% :: 0.82\n"
     ]
    },
    {
     "name": "stdout",
     "output_type": "stream",
     "text": [
      " - epoch: 1 8.203125% :: 0.85\n"
     ]
    },
    {
     "name": "stdout",
     "output_type": "stream",
     "text": [
      " - epoch: 1 8.59375% :: 0.83\n"
     ]
    },
    {
     "name": "stdout",
     "output_type": "stream",
     "text": [
      " - epoch: 1 8.984375% :: 0.85\n"
     ]
    },
    {
     "name": "stdout",
     "output_type": "stream",
     "text": [
      " - epoch: 1 9.375% :: 0.81\n"
     ]
    },
    {
     "name": "stdout",
     "output_type": "stream",
     "text": [
      " - epoch: 1 9.765625% :: 0.84\n"
     ]
    },
    {
     "name": "stdout",
     "output_type": "stream",
     "text": [
      " - epoch: 1 10.15625% :: 0.84\n"
     ]
    },
    {
     "name": "stdout",
     "output_type": "stream",
     "text": [
      " - epoch: 1 10.546875% :: 0.85\n"
     ]
    },
    {
     "name": "stdout",
     "output_type": "stream",
     "text": [
      " - epoch: 1 10.9375% :: 0.84\n"
     ]
    },
    {
     "name": "stdout",
     "output_type": "stream",
     "text": [
      " - epoch: 1 11.328125% :: 0.82\n"
     ]
    },
    {
     "name": "stdout",
     "output_type": "stream",
     "text": [
      " - epoch: 1 11.71875% :: 0.84\n"
     ]
    },
    {
     "name": "stdout",
     "output_type": "stream",
     "text": [
      " - epoch: 1 12.109375% :: 0.81\n"
     ]
    },
    {
     "name": "stdout",
     "output_type": "stream",
     "text": [
      " - epoch: 1 12.5% :: 0.8\n"
     ]
    },
    {
     "name": "stdout",
     "output_type": "stream",
     "text": [
      " - epoch: 1 12.890625% :: 0.89\n"
     ]
    },
    {
     "name": "stdout",
     "output_type": "stream",
     "text": [
      " - epoch: 1 13.28125% :: 0.86\n"
     ]
    },
    {
     "name": "stdout",
     "output_type": "stream",
     "text": [
      " - epoch: 1 13.671875% :: 0.84\n"
     ]
    },
    {
     "name": "stdout",
     "output_type": "stream",
     "text": [
      " - epoch: 1 14.0625% :: 0.84\n"
     ]
    },
    {
     "name": "stdout",
     "output_type": "stream",
     "text": [
      " - epoch: 1 14.453125% :: 0.85\n"
     ]
    },
    {
     "name": "stdout",
     "output_type": "stream",
     "text": [
      " - epoch: 1 14.84375% :: 0.85\n"
     ]
    },
    {
     "name": "stdout",
     "output_type": "stream",
     "text": [
      " - epoch: 1 15.234375% :: 0.81\n"
     ]
    },
    {
     "name": "stdout",
     "output_type": "stream",
     "text": [
      " - epoch: 1 15.625% :: 0.81\n"
     ]
    },
    {
     "name": "stdout",
     "output_type": "stream",
     "text": [
      " - epoch: 1 16.015625% :: 0.81\n"
     ]
    },
    {
     "name": "stdout",
     "output_type": "stream",
     "text": [
      " - epoch: 1 16.40625% :: 0.8\n"
     ]
    },
    {
     "name": "stdout",
     "output_type": "stream",
     "text": [
      " - epoch: 1 16.796875% :: 0.83\n"
     ]
    },
    {
     "name": "stdout",
     "output_type": "stream",
     "text": [
      " - epoch: 1 17.1875% :: 0.84\n"
     ]
    },
    {
     "name": "stdout",
     "output_type": "stream",
     "text": [
      " - epoch: 1 17.578125% :: 0.86\n"
     ]
    },
    {
     "name": "stdout",
     "output_type": "stream",
     "text": [
      " - epoch: 1 17.96875% :: 0.85\n"
     ]
    },
    {
     "name": "stdout",
     "output_type": "stream",
     "text": [
      " - epoch: 1 18.359375% :: 0.82\n"
     ]
    },
    {
     "name": "stdout",
     "output_type": "stream",
     "text": [
      " - epoch: 1 18.75% :: 0.85\n"
     ]
    },
    {
     "name": "stdout",
     "output_type": "stream",
     "text": [
      " - epoch: 1 19.140625% :: 0.83\n"
     ]
    },
    {
     "name": "stdout",
     "output_type": "stream",
     "text": [
      " - epoch: 1 19.53125% :: 0.82\n"
     ]
    },
    {
     "name": "stdout",
     "output_type": "stream",
     "text": [
      " - epoch: 1 19.921875% :: 0.82\n"
     ]
    },
    {
     "name": "stdout",
     "output_type": "stream",
     "text": [
      " - epoch: 1 20.3125% :: 0.85\n"
     ]
    },
    {
     "name": "stdout",
     "output_type": "stream",
     "text": [
      " - epoch: 1 20.703125% :: 0.84\n"
     ]
    },
    {
     "name": "stdout",
     "output_type": "stream",
     "text": [
      " - epoch: 1 21.09375% :: 0.8\n"
     ]
    },
    {
     "name": "stdout",
     "output_type": "stream",
     "text": [
      " - epoch: 1 21.484375% :: 0.84\n"
     ]
    },
    {
     "name": "stdout",
     "output_type": "stream",
     "text": [
      " - epoch: 1 21.875% :: 0.8\n"
     ]
    },
    {
     "name": "stdout",
     "output_type": "stream",
     "text": [
      " - epoch: 1 22.265625% :: 0.86\n"
     ]
    },
    {
     "name": "stdout",
     "output_type": "stream",
     "text": [
      " - epoch: 1 22.65625% :: 0.82\n"
     ]
    },
    {
     "name": "stdout",
     "output_type": "stream",
     "text": [
      " - epoch: 1 23.046875% :: 0.81\n"
     ]
    },
    {
     "name": "stdout",
     "output_type": "stream",
     "text": [
      " - epoch: 1 23.4375% :: 0.81\n"
     ]
    },
    {
     "name": "stdout",
     "output_type": "stream",
     "text": [
      " - epoch: 1 23.828125% :: 0.86\n"
     ]
    },
    {
     "name": "stdout",
     "output_type": "stream",
     "text": [
      " - epoch: 1 24.21875% :: 0.82\n"
     ]
    },
    {
     "name": "stdout",
     "output_type": "stream",
     "text": [
      " - epoch: 1 24.609375% :: 0.85\n"
     ]
    },
    {
     "name": "stdout",
     "output_type": "stream",
     "text": [
      " - epoch: 1 25.0% :: 0.85\n"
     ]
    },
    {
     "name": "stdout",
     "output_type": "stream",
     "text": [
      " - epoch: 1 25.390625% :: 0.85\n"
     ]
    },
    {
     "name": "stdout",
     "output_type": "stream",
     "text": [
      " - epoch: 1 25.78125% :: 0.83\n"
     ]
    },
    {
     "name": "stdout",
     "output_type": "stream",
     "text": [
      " - epoch: 1 26.171875% :: 0.82\n"
     ]
    },
    {
     "name": "stdout",
     "output_type": "stream",
     "text": [
      " - epoch: 1 26.5625% :: 0.84\n"
     ]
    },
    {
     "name": "stdout",
     "output_type": "stream",
     "text": [
      " - epoch: 1 26.953125% :: 0.84\n"
     ]
    },
    {
     "name": "stdout",
     "output_type": "stream",
     "text": [
      " - epoch: 1 27.34375% :: 0.86\n"
     ]
    },
    {
     "name": "stdout",
     "output_type": "stream",
     "text": [
      " - epoch: 1 27.734375% :: 0.83\n"
     ]
    },
    {
     "name": "stdout",
     "output_type": "stream",
     "text": [
      " - epoch: 1 28.125% :: 0.84\n"
     ]
    },
    {
     "name": "stdout",
     "output_type": "stream",
     "text": [
      " - epoch: 1 28.515625% :: 0.84\n"
     ]
    },
    {
     "name": "stdout",
     "output_type": "stream",
     "text": [
      " - epoch: 1 28.90625% :: 0.84\n"
     ]
    },
    {
     "name": "stdout",
     "output_type": "stream",
     "text": [
      " - epoch: 1 29.296875% :: 0.83\n"
     ]
    },
    {
     "name": "stdout",
     "output_type": "stream",
     "text": [
      " - epoch: 1 29.6875% :: 0.83\n"
     ]
    },
    {
     "name": "stdout",
     "output_type": "stream",
     "text": [
      " - epoch: 1 30.078125% :: 0.83\n"
     ]
    },
    {
     "name": "stdout",
     "output_type": "stream",
     "text": [
      " - epoch: 1 30.46875% :: 0.85\n"
     ]
    },
    {
     "name": "stdout",
     "output_type": "stream",
     "text": [
      " - epoch: 1 30.859375% :: 0.84\n"
     ]
    },
    {
     "name": "stdout",
     "output_type": "stream",
     "text": [
      " - epoch: 1 31.25% :: 0.88\n"
     ]
    },
    {
     "name": "stdout",
     "output_type": "stream",
     "text": [
      " - epoch: 1 31.640625% :: 0.87\n"
     ]
    },
    {
     "name": "stdout",
     "output_type": "stream",
     "text": [
      " - epoch: 1 32.03125% :: 0.85\n"
     ]
    },
    {
     "name": "stdout",
     "output_type": "stream",
     "text": [
      " - epoch: 1 32.421875% :: 0.89\n"
     ]
    },
    {
     "name": "stdout",
     "output_type": "stream",
     "text": [
      " - epoch: 1 32.8125% :: 0.84\n"
     ]
    },
    {
     "name": "stdout",
     "output_type": "stream",
     "text": [
      " - epoch: 1 33.203125% :: 0.83\n"
     ]
    },
    {
     "name": "stdout",
     "output_type": "stream",
     "text": [
      " - epoch: 1 33.59375% :: 0.86\n"
     ]
    },
    {
     "name": "stdout",
     "output_type": "stream",
     "text": [
      " - epoch: 1 33.984375% :: 0.87\n"
     ]
    },
    {
     "name": "stdout",
     "output_type": "stream",
     "text": [
      " - epoch: 1 34.375% :: 0.86\n"
     ]
    },
    {
     "name": "stdout",
     "output_type": "stream",
     "text": [
      " - epoch: 1 34.765625% :: 0.87\n"
     ]
    },
    {
     "name": "stdout",
     "output_type": "stream",
     "text": [
      " - epoch: 1 35.15625% :: 0.87\n"
     ]
    },
    {
     "name": "stdout",
     "output_type": "stream",
     "text": [
      " - epoch: 1 35.546875% :: 0.85\n"
     ]
    },
    {
     "name": "stdout",
     "output_type": "stream",
     "text": [
      " - epoch: 1 35.9375% :: 0.8\n"
     ]
    },
    {
     "name": "stdout",
     "output_type": "stream",
     "text": [
      " - epoch: 1 36.328125% :: 0.86\n"
     ]
    },
    {
     "name": "stdout",
     "output_type": "stream",
     "text": [
      " - epoch: 1 36.71875% :: 0.85\n"
     ]
    },
    {
     "name": "stdout",
     "output_type": "stream",
     "text": [
      " - epoch: 1 37.109375% :: 0.86\n"
     ]
    },
    {
     "name": "stdout",
     "output_type": "stream",
     "text": [
      " - epoch: 1 37.5% :: 0.86\n"
     ]
    },
    {
     "name": "stdout",
     "output_type": "stream",
     "text": [
      " - epoch: 1 37.890625% :: 0.87\n"
     ]
    },
    {
     "name": "stdout",
     "output_type": "stream",
     "text": [
      " - epoch: 1 38.28125% :: 0.85\n"
     ]
    },
    {
     "name": "stdout",
     "output_type": "stream",
     "text": [
      " - epoch: 1 38.671875% :: 0.86\n"
     ]
    },
    {
     "name": "stdout",
     "output_type": "stream",
     "text": [
      " - epoch: 1 39.0625% :: 0.86\n"
     ]
    },
    {
     "name": "stdout",
     "output_type": "stream",
     "text": [
      " - epoch: 1 39.453125% :: 0.86\n"
     ]
    },
    {
     "name": "stdout",
     "output_type": "stream",
     "text": [
      " - epoch: 1 39.84375% :: 0.82\n"
     ]
    },
    {
     "name": "stdout",
     "output_type": "stream",
     "text": [
      " - epoch: 1 40.234375% :: 0.82\n"
     ]
    },
    {
     "name": "stdout",
     "output_type": "stream",
     "text": [
      " - epoch: 1 40.625% :: 0.86\n"
     ]
    },
    {
     "name": "stdout",
     "output_type": "stream",
     "text": [
      " - epoch: 1 41.015625% :: 0.81\n"
     ]
    },
    {
     "name": "stdout",
     "output_type": "stream",
     "text": [
      " - epoch: 1 41.40625% :: 0.81\n"
     ]
    },
    {
     "name": "stdout",
     "output_type": "stream",
     "text": [
      " - epoch: 1 41.796875% :: 0.81\n"
     ]
    },
    {
     "name": "stdout",
     "output_type": "stream",
     "text": [
      " - epoch: 1 42.1875% :: 0.83\n"
     ]
    },
    {
     "name": "stdout",
     "output_type": "stream",
     "text": [
      " - epoch: 1 42.578125% :: 0.82\n"
     ]
    },
    {
     "name": "stdout",
     "output_type": "stream",
     "text": [
      " - epoch: 1 42.96875% :: 0.84\n"
     ]
    },
    {
     "name": "stdout",
     "output_type": "stream",
     "text": [
      " - epoch: 1 43.359375% :: 0.82\n"
     ]
    },
    {
     "name": "stdout",
     "output_type": "stream",
     "text": [
      " - epoch: 1 43.75% :: 0.86\n"
     ]
    },
    {
     "name": "stdout",
     "output_type": "stream",
     "text": [
      " - epoch: 1 44.140625% :: 0.82\n"
     ]
    },
    {
     "name": "stdout",
     "output_type": "stream",
     "text": [
      " - epoch: 1 44.53125% :: 0.85\n"
     ]
    },
    {
     "name": "stdout",
     "output_type": "stream",
     "text": [
      " - epoch: 1 44.921875% :: 0.86\n"
     ]
    },
    {
     "name": "stdout",
     "output_type": "stream",
     "text": [
      " - epoch: 1 45.3125% :: 0.83\n"
     ]
    },
    {
     "name": "stdout",
     "output_type": "stream",
     "text": [
      " - epoch: 1 45.703125% :: 0.83\n"
     ]
    },
    {
     "name": "stdout",
     "output_type": "stream",
     "text": [
      " - epoch: 1 46.09375% :: 0.86\n"
     ]
    },
    {
     "name": "stdout",
     "output_type": "stream",
     "text": [
      " - epoch: 1 46.484375% :: 0.85\n"
     ]
    },
    {
     "name": "stdout",
     "output_type": "stream",
     "text": [
      " - epoch: 1 46.875% :: 0.83\n"
     ]
    },
    {
     "name": "stdout",
     "output_type": "stream",
     "text": [
      " - epoch: 1 47.265625% :: 0.83\n"
     ]
    },
    {
     "name": "stdout",
     "output_type": "stream",
     "text": [
      " - epoch: 1 47.65625% :: 0.82\n"
     ]
    },
    {
     "name": "stdout",
     "output_type": "stream",
     "text": [
      " - epoch: 1 48.046875% :: 0.82\n"
     ]
    },
    {
     "name": "stdout",
     "output_type": "stream",
     "text": [
      " - epoch: 1 48.4375% :: 0.85\n"
     ]
    },
    {
     "name": "stdout",
     "output_type": "stream",
     "text": [
      " - epoch: 1 48.828125% :: 0.87\n"
     ]
    },
    {
     "name": "stdout",
     "output_type": "stream",
     "text": [
      " - epoch: 1 49.21875% :: 0.84\n"
     ]
    },
    {
     "name": "stdout",
     "output_type": "stream",
     "text": [
      " - epoch: 1 49.609375% :: 0.8\n"
     ]
    },
    {
     "name": "stdout",
     "output_type": "stream",
     "text": [
      " - epoch: 1 50.0% :: 0.82\n"
     ]
    },
    {
     "name": "stdout",
     "output_type": "stream",
     "text": [
      " - epoch: 1 50.390625% :: 0.81\n"
     ]
    },
    {
     "name": "stdout",
     "output_type": "stream",
     "text": [
      " - epoch: 1 50.78125% :: 0.8\n"
     ]
    },
    {
     "name": "stdout",
     "output_type": "stream",
     "text": [
      " - epoch: 1 51.171875% :: 0.79\n"
     ]
    },
    {
     "name": "stdout",
     "output_type": "stream",
     "text": [
      " - epoch: 1 51.5625% :: 0.85\n"
     ]
    },
    {
     "name": "stdout",
     "output_type": "stream",
     "text": [
      " - epoch: 1 51.953125% :: 0.84\n"
     ]
    },
    {
     "name": "stdout",
     "output_type": "stream",
     "text": [
      " - epoch: 1 52.34375% :: 0.88\n"
     ]
    },
    {
     "name": "stdout",
     "output_type": "stream",
     "text": [
      " - epoch: 1 52.734375% :: 0.84\n"
     ]
    },
    {
     "name": "stdout",
     "output_type": "stream",
     "text": [
      " - epoch: 1 53.125% :: 0.8\n"
     ]
    },
    {
     "name": "stdout",
     "output_type": "stream",
     "text": [
      " - epoch: 1 53.515625% :: 0.84\n"
     ]
    },
    {
     "name": "stdout",
     "output_type": "stream",
     "text": [
      " - epoch: 1 53.90625% :: 0.85\n"
     ]
    },
    {
     "name": "stdout",
     "output_type": "stream",
     "text": [
      " - epoch: 1 54.296875% :: 0.84\n"
     ]
    },
    {
     "name": "stdout",
     "output_type": "stream",
     "text": [
      " - epoch: 1 54.6875% :: 0.84\n"
     ]
    },
    {
     "name": "stdout",
     "output_type": "stream",
     "text": [
      " - epoch: 1 55.078125% :: 0.84\n"
     ]
    },
    {
     "name": "stdout",
     "output_type": "stream",
     "text": [
      " - epoch: 1 55.46875% :: 0.82\n"
     ]
    },
    {
     "name": "stdout",
     "output_type": "stream",
     "text": [
      " - epoch: 1 55.859375% :: 0.83\n"
     ]
    },
    {
     "name": "stdout",
     "output_type": "stream",
     "text": [
      " - epoch: 1 56.25% :: 0.84\n"
     ]
    },
    {
     "name": "stdout",
     "output_type": "stream",
     "text": [
      " - epoch: 1 56.640625% :: 0.81\n"
     ]
    },
    {
     "name": "stdout",
     "output_type": "stream",
     "text": [
      " - epoch: 1 57.03125% :: 0.84\n"
     ]
    },
    {
     "name": "stdout",
     "output_type": "stream",
     "text": [
      " - epoch: 1 57.421875% :: 0.83\n"
     ]
    },
    {
     "name": "stdout",
     "output_type": "stream",
     "text": [
      " - epoch: 1 57.8125% :: 0.89\n"
     ]
    },
    {
     "name": "stdout",
     "output_type": "stream",
     "text": [
      " - epoch: 1 58.203125% :: 0.84\n"
     ]
    },
    {
     "name": "stdout",
     "output_type": "stream",
     "text": [
      " - epoch: 1 58.59375% :: 0.86\n"
     ]
    },
    {
     "name": "stdout",
     "output_type": "stream",
     "text": [
      " - epoch: 1 58.984375% :: 0.86\n"
     ]
    },
    {
     "name": "stdout",
     "output_type": "stream",
     "text": [
      " - epoch: 1 59.375% :: 0.85\n"
     ]
    },
    {
     "name": "stdout",
     "output_type": "stream",
     "text": [
      " - epoch: 1 59.765625% :: 0.84\n"
     ]
    },
    {
     "name": "stdout",
     "output_type": "stream",
     "text": [
      " - epoch: 1 60.15625% :: 0.85\n"
     ]
    },
    {
     "name": "stdout",
     "output_type": "stream",
     "text": [
      " - epoch: 1 60.546875% :: 0.84\n"
     ]
    },
    {
     "name": "stdout",
     "output_type": "stream",
     "text": [
      " - epoch: 1 60.9375% :: 0.82\n"
     ]
    },
    {
     "name": "stdout",
     "output_type": "stream",
     "text": [
      " - epoch: 1 61.328125% :: 0.84\n"
     ]
    },
    {
     "name": "stdout",
     "output_type": "stream",
     "text": [
      " - epoch: 1 61.71875% :: 0.87\n"
     ]
    },
    {
     "name": "stdout",
     "output_type": "stream",
     "text": [
      " - epoch: 1 62.109375% :: 0.85\n"
     ]
    },
    {
     "name": "stdout",
     "output_type": "stream",
     "text": [
      " - epoch: 1 62.5% :: 0.83\n"
     ]
    },
    {
     "name": "stdout",
     "output_type": "stream",
     "text": [
      " - epoch: 1 62.890625% :: 0.84\n"
     ]
    },
    {
     "name": "stdout",
     "output_type": "stream",
     "text": [
      " - epoch: 1 63.28125% :: 0.82\n"
     ]
    },
    {
     "name": "stdout",
     "output_type": "stream",
     "text": [
      " - epoch: 1 63.671875% :: 0.86\n"
     ]
    },
    {
     "name": "stdout",
     "output_type": "stream",
     "text": [
      " - epoch: 1 64.0625% :: 0.86\n"
     ]
    },
    {
     "name": "stdout",
     "output_type": "stream",
     "text": [
      " - epoch: 1 64.453125% :: 0.86\n"
     ]
    },
    {
     "name": "stdout",
     "output_type": "stream",
     "text": [
      " - epoch: 1 64.84375% :: 0.85\n"
     ]
    },
    {
     "name": "stdout",
     "output_type": "stream",
     "text": [
      " - epoch: 1 65.234375% :: 0.83\n"
     ]
    },
    {
     "name": "stdout",
     "output_type": "stream",
     "text": [
      " - epoch: 1 65.625% :: 0.85\n"
     ]
    },
    {
     "name": "stdout",
     "output_type": "stream",
     "text": [
      " - epoch: 1 66.015625% :: 0.88\n"
     ]
    },
    {
     "name": "stdout",
     "output_type": "stream",
     "text": [
      " - epoch: 1 66.40625% :: 0.81\n"
     ]
    },
    {
     "name": "stdout",
     "output_type": "stream",
     "text": [
      " - epoch: 1 66.796875% :: 0.8\n"
     ]
    },
    {
     "name": "stdout",
     "output_type": "stream",
     "text": [
      " - epoch: 1 67.1875% :: 0.79\n"
     ]
    },
    {
     "name": "stdout",
     "output_type": "stream",
     "text": [
      " - epoch: 1 67.578125% :: 0.83\n"
     ]
    },
    {
     "name": "stdout",
     "output_type": "stream",
     "text": [
      " - epoch: 1 67.96875% :: 0.83\n"
     ]
    },
    {
     "name": "stdout",
     "output_type": "stream",
     "text": [
      " - epoch: 1 68.359375% :: 0.8\n"
     ]
    },
    {
     "name": "stdout",
     "output_type": "stream",
     "text": [
      " - epoch: 1 68.75% :: 0.86\n"
     ]
    },
    {
     "name": "stdout",
     "output_type": "stream",
     "text": [
      " - epoch: 1 69.140625% :: 0.87\n"
     ]
    },
    {
     "name": "stdout",
     "output_type": "stream",
     "text": [
      " - epoch: 1 69.53125% :: 0.82\n"
     ]
    },
    {
     "name": "stdout",
     "output_type": "stream",
     "text": [
      " - epoch: 1 69.921875% :: 0.8\n"
     ]
    },
    {
     "name": "stdout",
     "output_type": "stream",
     "text": [
      " - epoch: 1 70.3125% :: 0.85\n"
     ]
    },
    {
     "name": "stdout",
     "output_type": "stream",
     "text": [
      " - epoch: 1 70.703125% :: 0.85\n"
     ]
    },
    {
     "name": "stdout",
     "output_type": "stream",
     "text": [
      " - epoch: 1 71.09375% :: 0.86\n"
     ]
    },
    {
     "name": "stdout",
     "output_type": "stream",
     "text": [
      " - epoch: 1 71.484375% :: 0.88\n"
     ]
    },
    {
     "name": "stdout",
     "output_type": "stream",
     "text": [
      " - epoch: 1 71.875% :: 0.89\n"
     ]
    },
    {
     "name": "stdout",
     "output_type": "stream",
     "text": [
      " - epoch: 1 72.265625% :: 0.86\n"
     ]
    },
    {
     "name": "stdout",
     "output_type": "stream",
     "text": [
      " - epoch: 1 72.65625% :: 0.86\n"
     ]
    },
    {
     "name": "stdout",
     "output_type": "stream",
     "text": [
      " - epoch: 1 73.046875% :: 0.83\n"
     ]
    },
    {
     "name": "stdout",
     "output_type": "stream",
     "text": [
      " - epoch: 1 73.4375% :: 0.84\n"
     ]
    },
    {
     "name": "stdout",
     "output_type": "stream",
     "text": [
      " - epoch: 1 73.828125% :: 0.87\n"
     ]
    },
    {
     "name": "stdout",
     "output_type": "stream",
     "text": [
      " - epoch: 1 74.21875% :: 0.88\n"
     ]
    },
    {
     "name": "stdout",
     "output_type": "stream",
     "text": [
      " - epoch: 1 74.609375% :: 0.88\n"
     ]
    },
    {
     "name": "stdout",
     "output_type": "stream",
     "text": [
      " - epoch: 1 75.0% :: 0.86\n"
     ]
    },
    {
     "name": "stdout",
     "output_type": "stream",
     "text": [
      " - epoch: 1 75.390625% :: 0.85\n"
     ]
    },
    {
     "name": "stdout",
     "output_type": "stream",
     "text": [
      " - epoch: 1 75.78125% :: 0.88\n"
     ]
    },
    {
     "name": "stdout",
     "output_type": "stream",
     "text": [
      " - epoch: 1 76.171875% :: 0.82\n"
     ]
    },
    {
     "name": "stdout",
     "output_type": "stream",
     "text": [
      " - epoch: 1 76.5625% :: 0.87\n"
     ]
    },
    {
     "name": "stdout",
     "output_type": "stream",
     "text": [
      " - epoch: 1 76.953125% :: 0.86\n"
     ]
    },
    {
     "name": "stdout",
     "output_type": "stream",
     "text": [
      " - epoch: 1 77.34375% :: 0.84\n"
     ]
    },
    {
     "name": "stdout",
     "output_type": "stream",
     "text": [
      " - epoch: 1 77.734375% :: 0.84\n"
     ]
    },
    {
     "name": "stdout",
     "output_type": "stream",
     "text": [
      " - epoch: 1 78.125% :: 0.85\n"
     ]
    },
    {
     "name": "stdout",
     "output_type": "stream",
     "text": [
      " - epoch: 1 78.515625% :: 0.85\n"
     ]
    },
    {
     "name": "stdout",
     "output_type": "stream",
     "text": [
      " - epoch: 1 78.90625% :: 0.82\n"
     ]
    },
    {
     "name": "stdout",
     "output_type": "stream",
     "text": [
      " - epoch: 1 79.296875% :: 0.85\n"
     ]
    },
    {
     "name": "stdout",
     "output_type": "stream",
     "text": [
      " - epoch: 1 79.6875% :: 0.84\n"
     ]
    },
    {
     "name": "stdout",
     "output_type": "stream",
     "text": [
      " - epoch: 1 80.078125% :: 0.87\n"
     ]
    },
    {
     "name": "stdout",
     "output_type": "stream",
     "text": [
      " - epoch: 1 80.46875% :: 0.85\n"
     ]
    },
    {
     "name": "stdout",
     "output_type": "stream",
     "text": [
      " - epoch: 1 80.859375% :: 0.86\n"
     ]
    },
    {
     "name": "stdout",
     "output_type": "stream",
     "text": [
      " - epoch: 1 81.25% :: 0.88\n"
     ]
    },
    {
     "name": "stdout",
     "output_type": "stream",
     "text": [
      " - epoch: 1 81.640625% :: 0.86\n"
     ]
    },
    {
     "name": "stdout",
     "output_type": "stream",
     "text": [
      " - epoch: 1 82.03125% :: 0.86\n"
     ]
    },
    {
     "name": "stdout",
     "output_type": "stream",
     "text": [
      " - epoch: 1 82.421875% :: 0.88\n"
     ]
    },
    {
     "name": "stdout",
     "output_type": "stream",
     "text": [
      " - epoch: 1 82.8125% :: 0.86\n"
     ]
    },
    {
     "name": "stdout",
     "output_type": "stream",
     "text": [
      " - epoch: 1 83.203125% :: 0.85\n"
     ]
    },
    {
     "name": "stdout",
     "output_type": "stream",
     "text": [
      " - epoch: 1 83.59375% :: 0.84\n"
     ]
    },
    {
     "name": "stdout",
     "output_type": "stream",
     "text": [
      " - epoch: 1 83.984375% :: 0.84\n"
     ]
    },
    {
     "name": "stdout",
     "output_type": "stream",
     "text": [
      " - epoch: 1 84.375% :: 0.83\n"
     ]
    },
    {
     "name": "stdout",
     "output_type": "stream",
     "text": [
      " - epoch: 1 84.765625% :: 0.86\n"
     ]
    },
    {
     "name": "stdout",
     "output_type": "stream",
     "text": [
      " - epoch: 1 85.15625% :: 0.84\n"
     ]
    },
    {
     "name": "stdout",
     "output_type": "stream",
     "text": [
      " - epoch: 1 85.546875% :: 0.86\n"
     ]
    },
    {
     "name": "stdout",
     "output_type": "stream",
     "text": [
      " - epoch: 1 85.9375% :: 0.83\n"
     ]
    },
    {
     "name": "stdout",
     "output_type": "stream",
     "text": [
      " - epoch: 1 86.328125% :: 0.87\n"
     ]
    },
    {
     "name": "stdout",
     "output_type": "stream",
     "text": [
      " - epoch: 1 86.71875% :: 0.86\n"
     ]
    },
    {
     "name": "stdout",
     "output_type": "stream",
     "text": [
      " - epoch: 1 87.109375% :: 0.86\n"
     ]
    },
    {
     "name": "stdout",
     "output_type": "stream",
     "text": [
      " - epoch: 1 87.5% :: 0.83\n"
     ]
    },
    {
     "name": "stdout",
     "output_type": "stream",
     "text": [
      " - epoch: 1 87.890625% :: 0.82\n"
     ]
    },
    {
     "name": "stdout",
     "output_type": "stream",
     "text": [
      " - epoch: 1 88.28125% :: 0.81\n"
     ]
    },
    {
     "ename": "KeyboardInterrupt",
     "evalue": "",
     "traceback": [
      "\u001b[0;31m---------------------------------------------------------------------------\u001b[0m",
      "\u001b[0;31mKeyboardInterrupt\u001b[0m                         Traceback (most recent call last)",
      "\u001b[0;32m<ipython-input-116-10757a3367d6>\u001b[0m in \u001b[0;36m<module>\u001b[0;34m()\u001b[0m\n\u001b[1;32m     51\u001b[0m                     \u001b[0;32mfor\u001b[0m \u001b[0ml\u001b[0m \u001b[0;32min\u001b[0m \u001b[0mrange\u001b[0m\u001b[0;34m(\u001b[0m\u001b[0;36m0\u001b[0m\u001b[0;34m,\u001b[0m \u001b[0mimage_size\u001b[0m\u001b[0;34m-\u001b[0m\u001b[0mconv_core\u001b[0m\u001b[0;34m+\u001b[0m\u001b[0;36m1\u001b[0m\u001b[0;34m)\u001b[0m\u001b[0;34m:\u001b[0m\u001b[0;34m\u001b[0m\u001b[0m\n\u001b[1;32m     52\u001b[0m                         conved_input[i][j][k][l] = sum(sum(two_d_input[i][k:k+conv_core,l:l+conv_core]*(in_to_conv_weights[j].\n\u001b[0;32m---> 53\u001b[0;31m                                                                                                         reshape(conv_core,conv_core)))) \n\u001b[0m\u001b[1;32m     54\u001b[0m \u001b[0;34m\u001b[0m\u001b[0m\n\u001b[1;32m     55\u001b[0m         \u001b[0;31m##l2(max)\u001b[0m\u001b[0;34m\u001b[0m\u001b[0;34m\u001b[0m\u001b[0m\n",
      "\u001b[0;31mKeyboardInterrupt\u001b[0m: "
     ],
     "output_type": "error"
    }
   ],
   "source": [
    "def one_layer_training_with_bias_api(alpha, train_batch, train_label_batch, in_to_hid_weights, hid_bias,\n",
    "                                     hid_to_out_weights,out_bias):\n",
    "# fprop\n",
    "    hid_state = np.dot(train_batch, in_to_hid_weights)\n",
    "    hid_state = hid_state + hid_bias\n",
    "    out_state = np.dot(hid_state, hid_to_out_weights)\n",
    "    out_state = out_state + out_bias\n",
    "    out_state = 1 / (1 + np.exp(-out_state))\n",
    "\n",
    "    # bprop:err\n",
    "    err = out_state - train_label_batch\n",
    "    CE = (err * err / 2).sum(axis=1)\n",
    "    d_Out = out_state * (1 - out_state) * err\n",
    "    d_hid_to_out = np.dot(hid_state.transpose(), d_Out)\n",
    "    d_hid = np.dot(d_Out, hid_to_out_weights.transpose())\n",
    "    d_in_to_hid = np.dot(train_batch.transpose(), d_hid)\n",
    "    d_in = np.dot(d_hid, in_to_hid_weights.transpose())\n",
    "\n",
    "    # update weights\n",
    "    del_hid_to_out = -1 * alpha * d_hid_to_out / batch_size\n",
    "    del_in_to_hid = -1 * alpha * d_in_to_hid / batch_size\n",
    "    hid_to_out_weights += del_hid_to_out\n",
    "    in_to_hid_weights += del_in_to_hid\n",
    "\n",
    "    hid_bias += -1 * alpha * d_hid\n",
    "    out_bias += -1 * alpha * d_Out\n",
    "\n",
    "    return in_to_hid_weights,hid_bias,hid_to_out_weights,out_bias,d_in\n",
    "\n",
    "\n",
    "######train########\n",
    "for ep in range(0,epoch):\n",
    "    train_No = 0\n",
    "    batch_index = 0\n",
    "    while batch_index + batch_size < train_data.shape[0]:\n",
    "        train_data_batch = train_data[batch_index:batch_index + batch_size, :]\n",
    "        train_label_batch = train_label[batch_index:batch_index + batch_size, :]\n",
    "        batch_index = batch_index + batch_size\n",
    "        \n",
    "        ###fprop\n",
    "        \n",
    "        two_d_input = train_data_batch.reshape(train_data_batch.shape[0],image_size, image_size)\n",
    "        #print(two_d_input.shape)\n",
    "        #print((two_d_input[0][0:5,0:5]))\n",
    "        \n",
    "        conved_input = np.zeros((train_data_batch.shape[0],num_of_fmap,image_size-conv_core+1,image_size-conv_core+1),dtype=np.float)\n",
    "        conved_input_maxloc = np.zeros((train_data_batch.shape[0],num_of_fmap,image_size-conv_core+1,image_size-conv_core+1),dtype=np.float)\n",
    "        for i in range(0, train_data_batch.shape[0]):\n",
    "            for j in range(0, num_of_fmap):\n",
    "                for k in range(0,image_size-conv_core+1):\n",
    "                    for l in range(0, image_size-conv_core+1):\n",
    "                        conved_input[i][j][k][l] = sum(sum(two_d_input[i][k:k+conv_core,l:l+conv_core]*(in_to_conv_weights[j].\n",
    "                                                                                                        reshape(conv_core,conv_core)))) \n",
    "                        \n",
    "        ##l2(max)\n",
    "        # print(conved_input)\n",
    "        sampled_input = np.zeros((train_data_batch.shape[0],num_of_fmap,int((image_size-conv_core+1)/2),int((image_size-conv_core+1)/2)),dtype=np.float)\n",
    "        for i in range(0, train_data_batch.shape[0]):\n",
    "            for j in range(0, num_of_fmap):\n",
    "                for k in range(0,int(conved_input.shape[2]/2)):\n",
    "                    for l in range(0, int(conved_input.shape[3]/2)):\n",
    "                        sampled_input[i][j][k][l]= np.amax(conved_input[i][j][2*k:2*k+2,2*l:2*l+2])\n",
    "                        agmx = np.argmax(conved_input[i][j][2*k:2*k+2,2*l:2*l+2])\n",
    "                        conved_input_maxloc[i][j][2*k+int(agmx/2)][2*l+agmx%2] = 1\n",
    "        #print(np.amax(conved_input[0][0][2*0:2*0+2,2*0:2*0+2]))\n",
    "        #print(sampled_input[0][0])\n",
    "        #print(conved_input[0][0])\n",
    "        #print(conved_input_maxloc[0][0])\n",
    "        #print(sampled_input.shape)\n",
    "        \n",
    "        oned_fnn_in = sampled_input.reshape(sampled_input.shape[0],sampled_input.shape[1]*sampled_input.shape[2]*sampled_input.shape[3])\n",
    "        #print(oned_fnn_in.shape)\n",
    "        (in_to_hid_weights,hid_bias,hid_to_out_weights,out_bias,d_in) = one_layer_training_with_bias_api\\\n",
    "            (alpha, oned_fnn_in,train_label_batch, in_to_hid_weights, hid_bias, hid_to_out_weights,out_bias)\n",
    "        #print(d_in.shape)\n",
    "        \n",
    "        ##bp conv\n",
    "        d_in = d_in.reshape(d_in.shape[0],num_of_fmap,int((28-conv_core+1)/2),int((28-conv_core+1)/2))\n",
    "        expd_d_in = np.zeros((d_in.shape[0],d_in.shape[1],d_in.shape[2]*2,d_in.shape[3]*2),dtype=np.float)\n",
    "        #print(d_in.shape)\n",
    "        kr = [[1,1],[1,1]]\n",
    "        for i in range(0, train_data_batch.shape[0]):\n",
    "            for j in range(0, num_of_fmap):\n",
    "                expd_d_in[i][j] = np.kron(d_in[i][j],kr)\n",
    "        #print(expd_d_in[0][0])\n",
    "        expd_d_in = expd_d_in*conved_input_maxloc\n",
    "        #print(expd_d_in[0][5])\n",
    "        #print(train_data_batch)\n",
    "        \n",
    "        d_cov_w = np.zeros((d_in.shape[1],conv_core,conv_core),dtype=np.float)\n",
    "        for i in range(0, train_data_batch.shape[0]):\n",
    "            for j in range(0, num_of_fmap):\n",
    "                for k in range(0,conv_core):\n",
    "                    for l in range(0,conv_core):\n",
    "                        d_cov_w[j][k][l] += sum(sum(expd_d_in[i][j]*two_d_input[i][k:k+expd_d_in.shape[2],l:l+expd_d_in.shape[3]]))\n",
    "        #print(d_cov_w)\n",
    "        #print(in_to_conv_weights)\n",
    "        #print(in_to_conv_weights[5])\n",
    "        in_to_conv_weights += -alpha*(d_cov_w.reshape(d_cov_w.shape[0],d_cov_w.shape[1]*d_cov_w.shape[2]))\n",
    "        \n",
    "        \n",
    "        ###eval\n",
    "        \n",
    "        train_No += 1\n",
    "        # evaluation\n",
    "\n",
    "        if (train_No * batch_size) % (train_No * batch_size/1000) == 0:\n",
    "            test_data = test_data[:100]\n",
    "            test_label = test_label[:100]\n",
    "               \n",
    "            two_d_input = test_data.reshape(test_data.shape[0],image_size, image_size)\n",
    "            #print(two_d_input.shape)\n",
    "            #print((two_d_input[0][0:5,0:5]))\n",
    "            \n",
    "            conved_input = np.zeros((test_data.shape[0],num_of_fmap,image_size-conv_core+1,image_size-conv_core+1),dtype=np.float)\n",
    "            conved_input_maxloc = np.zeros((test_data.shape[0],num_of_fmap,image_size-conv_core+1,image_size-conv_core+1),dtype=np.float)\n",
    "            for i in range(0, test_data.shape[0]):\n",
    "                for j in range(0, num_of_fmap):\n",
    "                    for k in range(0,image_size-conv_core+1):\n",
    "                        for l in range(0, image_size-conv_core+1):\n",
    "                            conved_input[i][j][k][l] = sum(sum(two_d_input[i][k:k+conv_core,l:l+conv_core]\n",
    "                                                               *(in_to_conv_weights[j].reshape(conv_core,conv_core)))) \n",
    "                            \n",
    "            ##l2(max)\n",
    "            # print(conved_input)\n",
    "            sampled_input = np.zeros((test_data.shape[0],num_of_fmap,int((image_size-conv_core+1)/2),int((image_size-conv_core+1)/2)),dtype=np.float)\n",
    "            for i in range(0, test_data.shape[0]):\n",
    "                for j in range(0, num_of_fmap):\n",
    "                    for k in range(0,int(conved_input.shape[2]/2)):\n",
    "                        for l in range(0, int(conved_input.shape[3]/2)):\n",
    "                            sampled_input[i][j][k][l]= np.amax(conved_input[i][j][2*k:2*k+2,2*l:2*l+2])\n",
    "                            agmx = np.argmax(conved_input[i][j][2*k:2*k+2,2*l:2*l+2])\n",
    "                            conved_input_maxloc[i][j][2*k+int(agmx/2)][2*l+agmx%2] = 1\n",
    "            oned_fnn_in = sampled_input.reshape(sampled_input.shape[0],sampled_input.shape[1]*sampled_input.shape[2]*sampled_input.shape[3])\n",
    "\n",
    "            \n",
    "            \n",
    "            \n",
    "            \n",
    "            hid_state = np.dot(oned_fnn_in, in_to_hid_weights)\n",
    "            hid_state = hid_state + hid_bias[0]\n",
    "            out_state = np.dot(hid_state, hid_to_out_weights)\n",
    "            out_state = out_state + out_bias[0]\n",
    "                out_state = 1 / (1 + np.exp(-out_state))\n",
    "                prediction = np.argmax(out_state, axis=1)\n",
    "                evaluation = np.abs(prediction - test_label)\n",
    "                evaluation = np.bincount(evaluation)[0] / 100\n",
    "                benchmark = np.append(benchmark, [evaluation])\n",
    "                #print(evaluation)\n",
    "                # print(benchmark)\n",
    "                print(' - epoch: ' + str(ep) + ' ' + str(train_No * batch_size / (train_data.shape[0] / 100)) + '% :: '\n",
    "                          + str(evaluation))"
   ]
  },
  {
   "cell_type": "code",
   "execution_count": 110,
   "metadata": {},
   "outputs": [],
   "source": [
    ""
   ]
  },
  {
   "cell_type": "code",
   "execution_count": null,
   "metadata": {},
   "outputs": [],
   "source": [
    ""
   ]
  }
 ],
 "metadata": {
  "kernelspec": {
   "display_name": "Python 2",
   "language": "python",
   "name": "python2"
  },
  "language_info": {
   "codemirror_mode": {
    "name": "ipython",
    "version": 2.0
   },
   "file_extension": ".py",
   "mimetype": "text/x-python",
   "name": "python",
   "nbconvert_exporter": "python",
   "pygments_lexer": "ipython2",
   "version": "2.7.6"
  }
 },
 "nbformat": 4,
 "nbformat_minor": 0
}