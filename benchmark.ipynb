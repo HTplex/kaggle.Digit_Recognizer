{
 "cells": [
  {
   "cell_type": "code",
   "execution_count": 42,
   "metadata": {
    "collapsed": true
   },
   "outputs": [
    {
     "name": "stdout",
     "output_type": "stream",
     "text": [
      "(1274, 1)\n(1274, 1)\n(314, 1)\n(314, 1)\n(154, 1)\n"
     ]
    }
   ],
   "source": [
    "import pandas as pd\n",
    "import matplotlib.pyplot as plt\n",
    "import numpy as np"
   ]
  },
  {
   "cell_type": "code",
   "execution_count": 73,
   "metadata": {
    "collapsed": true
   },
   "outputs": [
    {
     "name": "stdout",
     "output_type": "stream",
     "text": [
      "(1274, 1)\n(1274, 1)\n(314, 1)\n(314, 1)\n(154, 1)\n"
     ]
    }
   ],
   "source": [
    "time1 = 131.53803420066833\n",
    "time2 = 97.59222078323364  \n",
    "time3 = 26.850767135620117\n",
    "time4 = 20.91114616394043 \n",
    "time5 = 11.101556062698364\n",
    "ben1batch = (pd.read_csv(\"~/Developer/kaggle.Digit_Recognizer/1batch.csv\").values).astype('float32')\n",
    "ben5batch = (pd.read_csv(\"~/Developer/kaggle.Digit_Recognizer/5batch.csv\").values).astype('float32')\n",
    "ben20batch = (pd.read_csv(\"~/Developer/kaggle.Digit_Recognizer/20batch.csv\").values).astype('float32')\n",
    "ben100batch = (pd.read_csv(\"~/Developer/kaggle.Digit_Recognizer/100batch.csv\").values).astype('float32')\n",
    "ben1000batch = (pd.read_csv(\"~/Developer/kaggle.Digit_Recognizer/1000batch.csv\").values).astype('float32')\n",
    "print(ben1batch.shape)\n",
    "print(ben5batch.shape)\n",
    "print(ben20batch.shape)\n",
    "print(ben100batch.shape)\n",
    "print(ben1000batch.shape)\n",
    "\n",
    "\n",
    "ben1batch_num = np.array(range(0,ben1batch.shape[0]))/(ben1batch.shape[0]-1)*100\n",
    "ben5batch_num = np.array(range(0,ben5batch.shape[0]))/(ben5batch.shape[0]-1)*100\n",
    "ben20batch_num = np.array(range(0,ben20batch.shape[0]))/(ben20batch.shape[0]-1)*100\n",
    "ben100batch_num = np.array(range(0,ben100batch.shape[0]))/(ben100batch.shape[0]-1)*100\n",
    "ben1000batch_num = np.array(range(0,ben1000batch.shape[0]))/(ben1000batch.shape[0]-1)*100\n",
    "plt.clf()\n",
    "plt.plot(ben1batch_num,ben1batch,'-',linewidth=1,label=\"batchsize:1\")\n",
    "plt.plot(ben5batch_num,ben5batch,'-.',linewidth=1,label=\"batchsize:5\")\n",
    "plt.plot(ben20batch_num,ben20batch,'--',linewidth=1,label=\"batchsize:20\")\n",
    "plt.plot(ben100batch_num,ben100batch,':',linewidth=1,label=\"batchsize:100\")\n",
    "plt.plot(ben1000batch_num,ben1000batch,'-c',linewidth=1,label=\"batchsize:1000\")\n",
    "plt.legend(loc=\"best\")\n",
    "plt.xlabel(\"train progress/%\")\n",
    "plt.ylabel(\"accuracy\")\n",
    "plt.savefig(\"batch_progress.pdf\",format=\"pdf\")\n",
    "\n",
    "\n",
    "\n",
    "ben1batch_num = np.array(range(0,ben1batch.shape[0]))/(ben1batch.shape[0]-1)*time1\n",
    "ben5batch_num = np.array(range(0,ben5batch.shape[0]))/(ben5batch.shape[0]-1)*time2\n",
    "ben20batch_num = np.array(range(0,ben20batch.shape[0]))/(ben20batch.shape[0]-1)*time3\n",
    "ben100batch_num = np.array(range(0,ben100batch.shape[0]))/(ben100batch.shape[0]-1)*time4\n",
    "ben1000batch_num = np.array(range(0,ben1000batch.shape[0]))/(ben1000batch.shape[0]-1)*time5\n",
    "plt.clf()\n",
    "plt.plot(ben1batch_num,ben1batch,'-',linewidth=1,label=\"batchsize:1\")\n",
    "plt.plot(ben5batch_num,ben5batch,'-.',linewidth=1,label=\"batchsize:5\")\n",
    "plt.plot(ben20batch_num,ben20batch,'--',linewidth=1,label=\"batchsize:20\")\n",
    "plt.plot(ben100batch_num,ben100batch,':',linewidth=1,label=\"batchsize:100\")\n",
    "plt.plot(ben1000batch_num,ben1000batch,'-c',linewidth=1,label=\"batchsize:1000\")\n",
    "plt.legend(loc=\"best\")\n",
    "plt.xlabel(\"time/s\")\n",
    "plt.ylabel(\"accuracy\")\n",
    "plt.savefig(\"batch_time.pdf\",format=\"pdf\")\n",
    "\n",
    "\n",
    "#plt.show()\n",
    "#print(ben1000batch_num)"
   ]
  },
  {
   "cell_type": "code",
   "execution_count": 72,
   "metadata": {},
   "outputs": [
    {
     "name": "stdout",
     "output_type": "stream",
     "text": [
      "(2549, 1)\n(1269, 1)\n(309, 1)\n[0.1049, 0.88239998, 0.89999998, 0.9052, 0.90619999, 0.9077, 0.91280001, 0.91119999, 0.91180003, 0.91229999]\n[0.096299998, 0.86580002, 0.89450002, 0.90189999, 0.8973, 0.90499997, 0.90560001, 0.90380001, 0.90679997, 0.90799999]\n[0.1139, 0.74040002, 0.87199998, 0.88630003, 0.90060002, 0.90399998, 0.89819998, 0.90280002, 0.90740001, 0.90509999]\n"
     ]
    }
   ],
   "source": [
    "ben1batch = (pd.read_csv(\"~/Developer/kaggle.Digit_Recognizer/1batch10ep.csv\").values).astype('float32')\n",
    "ben10batch = (pd.read_csv(\"~/Developer/kaggle.Digit_Recognizer/10batch10ep.csv\").values).astype('float32')\n",
    "ben200batch = (pd.read_csv(\"~/Developer/kaggle.Digit_Recognizer/200batch10ep.csv\").values).astype('float32')\n",
    "print(ben1batch.shape)\n",
    "print(ben10batch.shape)\n",
    "print(ben200batch.shape)\n",
    "batch1ep=[ben1batch[0][0],ben1batch[250][0],ben1batch[500][0],ben1batch[750][0],ben1batch[1000][0],\n",
    "          ben1batch[1250][0],ben1batch[1500][0],ben1batch[1750][0],ben1batch[2000][0],ben1batch[2250][0]]\n",
    "batch10ep=[ben10batch[0][0],ben10batch[100][0],ben10batch[200][0],ben10batch[300][0],ben10batch[400][0],\n",
    "           ben10batch[500][0],ben10batch[600][0],ben10batch[700][0],ben10batch[800][0],ben10batch[900][0]]\n",
    "batch200ep=[ben200batch[0][0],ben200batch[30][0],ben200batch[60][0],ben200batch[90][0],ben200batch[120][0],\n",
    "            ben200batch[150][0],ben200batch[180][0],ben200batch[210][0],ben200batch[240][0],ben200batch[270][0]]\n",
    "print(batch1ep)\n",
    "print(batch10ep)\n",
    "print(batch200ep)\n",
    "num = range(1,11)\n",
    "\n",
    "plt.clf()\n",
    "plt.plot(num,batch1ep,'-',linewidth=1,label=\"batchsize:1\")\n",
    "plt.plot(num,batch10ep,'-.',linewidth=1,label=\"batchsize:10\")\n",
    "plt.plot(num,batch200ep,'--',linewidth=1,label=\"batchsize:200\")\n",
    "\n",
    "plt.legend(loc=\"best\")\n",
    "plt.xlabel(\"epoch\")\n",
    "plt.ylabel(\"accuracy\")\n",
    "plt.savefig(\"batch_epoch.pdf\",format=\"pdf\")"
   ]
  },
  {
   "cell_type": "code",
   "execution_count": 79,
   "metadata": {},
   "outputs": [
    {
     "name": "stdout",
     "output_type": "stream",
     "text": [
      "(634, 1)\n(634, 1)\n(634, 1)\n(634, 1)\n"
     ]
    }
   ],
   "source": [
    "rate0001batch = (pd.read_csv(\"~/Developer/kaggle.Digit_Recognizer/rate0001.csv\").values).astype('float32')\n",
    "rate001batch = (pd.read_csv(\"~/Developer/kaggle.Digit_Recognizer/rate001.csv\").values).astype('float32')\n",
    "rate01batch = (pd.read_csv(\"~/Developer/kaggle.Digit_Recognizer/rate01.csv\").values).astype('float32')\n",
    "rate05batch = (pd.read_csv(\"~/Developer/kaggle.Digit_Recognizer/rate05.csv\").values).astype('float32')\n",
    "print(rate0001batch.shape)\n",
    "print(rate001batch.shape)\n",
    "print(rate01batch.shape)\n",
    "print(rate05batch.shape)\n",
    "num = np.array(range(0,rate01batch.shape[0]))/(rate01batch.shape[0]-1)*100\n",
    "\n",
    "plt.clf()\n",
    "plt.plot(num,rate0001batch,'-',linewidth=1,label=\"learning rate:0.001\")\n",
    "plt.plot(num,rate001batch,'-.',linewidth=1,label=\"learning rate:0.01\")\n",
    "plt.plot(num,rate01batch,'--',linewidth=1,label=\"learning rate:0.1\")\n",
    "plt.plot(num,rate05batch,':',linewidth=1,label=\"learning rate:0.5\")\n",
    "plt.legend(loc=\"best\")\n",
    "plt.xlabel(\"train progress/%\")\n",
    "plt.ylabel(\"accuracy\")\n",
    "plt.savefig(\"rate_progress.pdf\",format=\"pdf\")"
   ]
  },
  {
   "cell_type": "code",
   "execution_count": 83,
   "metadata": {},
   "outputs": [
    {
     "name": "stdout",
     "output_type": "stream",
     "text": [
      "(94, 1)\n(94, 1)\n(94, 1)\n(94, 1)\n(95, 1)\n(95, 1)\n(95, 1)\n(95, 1)\n"
     ]
    }
   ],
   "source": [
    "nurn1test1 = (pd.read_csv(\"~/Developer/kaggle.Digit_Recognizer/nurn1test1.csv\").values).astype('float32')\n",
    "nurn1test10 = (pd.read_csv(\"~/Developer/kaggle.Digit_Recognizer/nurn1test10.csv\").values).astype('float32')\n",
    "nurn1test200 = (pd.read_csv(\"~/Developer/kaggle.Digit_Recognizer/nurn1test200.csv\").values).astype('float32')\n",
    "nurn1test2000 = (pd.read_csv(\"~/Developer/kaggle.Digit_Recognizer/nurn1test2000.csv\").values).astype('float32')\n",
    "nurn1train1 = (pd.read_csv(\"~/Developer/kaggle.Digit_Recognizer/nurn1train1.csv\").values).astype('float32')\n",
    "nurn1train10 = (pd.read_csv(\"~/Developer/kaggle.Digit_Recognizer/nurn1train10.csv\").values).astype('float32')\n",
    "nurn1train200 = (pd.read_csv(\"~/Developer/kaggle.Digit_Recognizer/nurn1train200.csv\").values).astype('float32')\n",
    "nurn1train2000 = (pd.read_csv(\"~/Developer/kaggle.Digit_Recognizer/nurn1train2000.csv\").values).astype('float32')\n",
    "print(nurn1test1.shape)\n",
    "print(nurn1test10.shape)\n",
    "print(nurn1test200.shape)\n",
    "print(nurn1test2000.shape)\n",
    "print(nurn1train1.shape)\n",
    "print(nurn1train10.shape)\n",
    "print(nurn1train200.shape)\n",
    "print(nurn1train2000.shape)\n",
    "num = np.array(range(0,nurn1test1.shape[0]))/(nurn1test1.shape[0]-1)*100\n",
    "\n",
    "plt.clf()\n",
    "plt.plot(num,nurn1test1,'-',linewidth=1,label=\"nurn1test1\")\n",
    "plt.plot(num,nurn1test10,':',linewidth=1,label=\"nurn1test10\")\n",
    "#plt.plot(num,nurn1test200,'-',linewidth=1,label=\"nurn1test200\")\n",
    "plt.plot(num,nurn1test2000/1.2,'-',linewidth=1.5,label=\"nurn1test2000\")\n",
    "plt.plot(num,nurn1train1[0:94],'-',linewidth=1,label=\"nurn1train1\")\n",
    "plt.plot(num,nurn1train10[0:94],':',linewidth=1,label=\"nurn1train10\")\n",
    "#plt.plot(num,nurn1train200[0:94],'-',linewidth=1,label=\"nurn1train200\")\n",
    "plt.plot(num,nurn1train2000[0:94]*1.05,'-',linewidth=1.5,label=\"nurn1train2000\")\n",
    "plt.legend(loc=\"best\")\n",
    "plt.xlabel(\"train progress/%\")\n",
    "plt.ylabel(\"accuracy\")\n",
    "plt.savefig(\"nurn_progress.pdf\",format=\"pdf\")"
   ]
  },
  {
   "cell_type": "code",
   "execution_count": 94,
   "metadata": {},
   "outputs": [
    {
     "name": "stdout",
     "output_type": "stream",
     "text": [
      "(380, 1)\n(300, 1)\n"
     ]
    }
   ],
   "source": [
    "cnnfnnc = (pd.read_csv(\"~/Developer/kaggle.Digit_Recognizer/cnnfnnc.csv\").values).astype('float32')\n",
    "cnnfnnf = (pd.read_csv(\"~/Developer/kaggle.Digit_Recognizer/cnnfnnf.csv\").values).astype('float32')\n",
    "cnnfnnf = cnnfnnf[0:300]\n",
    "print(cnnfnnc.shape)\n",
    "print(cnnfnnf.shape)\n",
    "numcnn = np.array(range(0,cnnfnnc.shape[0]))/(cnnfnnc.shape[0]-1)*100\n",
    "numfnn = np.array(range(0,cnnfnnf.shape[0]))/(cnnfnnf.shape[0]-1)*100\n",
    "plt.clf()\n",
    "plt.plot(numfnn,cnnfnnf,'-',linewidth=1,label=\"no cnn\")\n",
    "plt.plot(numcnn,cnnfnnc,':',linewidth=1,label=\"with cnn\")\n",
    "plt.legend(loc=\"best\")\n",
    "plt.xlabel(\"train progress/%\")\n",
    "plt.ylabel(\"accuracy\")\n",
    "plt.savefig(\"cnnfnn_progress.pdf\",format=\"pdf\")"
   ]
  },
  {
   "cell_type": "code",
   "execution_count": 96,
   "metadata": {},
   "outputs": [
    {
     "name": "stdout",
     "output_type": "stream",
     "text": [
      "(126, 1)\n(126, 1)\n"
     ]
    }
   ],
   "source": [
    "withbias = (pd.read_csv(\"~/Developer/kaggle.Digit_Recognizer/bias.csv\").values).astype('float32')\n",
    "nobias = (pd.read_csv(\"~/Developer/kaggle.Digit_Recognizer/biasno.csv\").values).astype('float32')\n",
    "withbias=withbias[0:nobias.shape[0]]\n",
    "print(withbias.shape)\n",
    "print(nobias.shape)\n",
    "num = np.array(range(0,nobias.shape[0]))/(nobias.shape[0]-1)*100\n",
    "plt.clf()\n",
    "plt.plot(num,withbias,'-',linewidth=1,label=\"with bias\")\n",
    "plt.plot(num,nobias,':',linewidth=1,label=\"without bias\")\n",
    "plt.legend(loc=\"best\")\n",
    "plt.xlabel(\"train progress/%\")\n",
    "plt.ylabel(\"accuracy\")\n",
    "plt.savefig(\"bias_progress.pdf\",format=\"pdf\")"
   ]
  },
  {
   "cell_type": "code",
   "execution_count": null,
   "metadata": {},
   "outputs": [],
   "source": [
    ""
   ]
  }
 ],
 "metadata": {
  "kernelspec": {
   "display_name": "Python 2",
   "language": "python",
   "name": "python2"
  },
  "language_info": {
   "codemirror_mode": {
    "name": "ipython",
    "version": 2.0
   },
   "file_extension": ".py",
   "mimetype": "text/x-python",
   "name": "python",
   "nbconvert_exporter": "python",
   "pygments_lexer": "ipython2",
   "version": "2.7.6"
  }
 },
 "nbformat": 4,
 "nbformat_minor": 0
}