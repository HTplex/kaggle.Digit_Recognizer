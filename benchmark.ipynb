{
 "cells": [
  {
   "cell_type": "code",
   "execution_count": 42,
   "metadata": {
    "collapsed": true
   },
   "outputs": [
    {
     "name": "stdout",
     "output_type": "stream",
     "text": [
      "(1274, 1)\n(1274, 1)\n(314, 1)\n(314, 1)\n(154, 1)\n"
     ]
    }
   ],
   "source": [
    "import pandas as pd\n",
    "import matplotlib.pyplot as plt\n",
    "import numpy as np"
   ]
  },
  {
   "cell_type": "code",
   "execution_count": 59,
   "metadata": {
    "collapsed": true
   },
   "outputs": [
    {
     "name": "stdout",
     "output_type": "stream",
     "text": [
      "(1274, 1)\n(1274, 1)\n(314, 1)\n(314, 1)\n(154, 1)\n"
     ]
    }
   ],
   "source": [
    "time1 = 131.53803420066833\n",
    "time2 = 97.59222078323364  \n",
    "time3 = 26.850767135620117\n",
    "time4 = 20.91114616394043 \n",
    "time5 = 11.101556062698364\n",
    "ben1batch = (pd.read_csv(\"~/Developer/kaggle.Digit_Recognizer/1batch.csv\").values).astype('float32')\n",
    "ben5batch = (pd.read_csv(\"~/Developer/kaggle.Digit_Recognizer/5batch.csv\").values).astype('float32')\n",
    "ben20batch = (pd.read_csv(\"~/Developer/kaggle.Digit_Recognizer/20batch.csv\").values).astype('float32')\n",
    "ben100batch = (pd.read_csv(\"~/Developer/kaggle.Digit_Recognizer/100batch.csv\").values).astype('float32')\n",
    "ben1000batch = (pd.read_csv(\"~/Developer/kaggle.Digit_Recognizer/1000batch.csv\").values).astype('float32')\n",
    "print(ben1batch.shape)\n",
    "print(ben5batch.shape)\n",
    "print(ben20batch.shape)\n",
    "print(ben100batch.shape)\n",
    "print(ben1000batch.shape)\n",
    "\n",
    "\n",
    "ben1batch_num = np.array(range(0,ben1batch.shape[0]))/(ben1batch.shape[0]-1)*100\n",
    "ben5batch_num = np.array(range(0,ben5batch.shape[0]))/(ben5batch.shape[0]-1)*100\n",
    "ben20batch_num = np.array(range(0,ben20batch.shape[0]))/(ben20batch.shape[0]-1)*100\n",
    "ben100batch_num = np.array(range(0,ben100batch.shape[0]))/(ben100batch.shape[0]-1)*100\n",
    "ben1000batch_num = np.array(range(0,ben1000batch.shape[0]))/(ben1000batch.shape[0]-1)*100\n",
    "plt.clf()\n",
    "plt.plot(ben1batch_num,ben1batch,'-',linewidth=1,label=\"batchsize:1\")\n",
    "plt.plot(ben5batch_num,ben5batch,'-.',linewidth=1,label=\"batchsize:5\")\n",
    "plt.plot(ben20batch_num,ben20batch,'--',linewidth=1,label=\"batchsize:20\")\n",
    "plt.plot(ben100batch_num,ben100batch,':',linewidth=1,label=\"batchsize:100\")\n",
    "plt.plot(ben1000batch_num,ben1000batch,'-c',linewidth=1,label=\"batchsize:1000\")\n",
    "plt.legend(loc=\"best\")\n",
    "plt.xlabel(\"train progress/%\")\n",
    "plt.ylabel(\"accuracy\")\n",
    "plt.savefig(\"batch_progress.pdf\",format=\"pdf\")\n",
    "\n",
    "\n",
    "\n",
    "ben1batch_num = np.array(range(0,ben1batch.shape[0]))/(ben1batch.shape[0]-1)*time1\n",
    "ben5batch_num = np.array(range(0,ben5batch.shape[0]))/(ben5batch.shape[0]-1)*time2\n",
    "ben20batch_num = np.array(range(0,ben20batch.shape[0]))/(ben20batch.shape[0]-1)*time3\n",
    "ben100batch_num = np.array(range(0,ben100batch.shape[0]))/(ben100batch.shape[0]-1)*time4\n",
    "ben1000batch_num = np.array(range(0,ben1000batch.shape[0]))/(ben1000batch.shape[0]-1)*time5\n",
    "plt.clf()\n",
    "plt.plot(ben1batch_num,ben1batch,'-',linewidth=1,label=\"batchsize:1\")\n",
    "plt.plot(ben5batch_num,ben5batch,'-.',linewidth=1,label=\"batchsize:5\")\n",
    "plt.plot(ben20batch_num,ben20batch,'--',linewidth=1,label=\"batchsize:20\")\n",
    "plt.plot(ben100batch_num,ben100batch,':',linewidth=1,label=\"batchsize:100\")\n",
    "plt.plot(ben1000batch_num,ben1000batch,'-c',linewidth=1,label=\"batchsize:1000\")\n",
    "plt.legend(loc=\"best\")\n",
    "plt.xlabel(\"time/s\")\n",
    "plt.ylabel(\"accuracy\")\n",
    "plt.savefig(\"batch_time.pdf\",format=\"pdf\")\n",
    "\n",
    "\n",
    "#plt.show()\n",
    "#print(ben1000batch_num)"
   ]
  },
  {
   "cell_type": "code",
   "execution_count": 41,
   "metadata": {},
   "outputs": [],
   "source": [
    ""
   ]
  },
  {
   "cell_type": "code",
   "execution_count": null,
   "metadata": {},
   "outputs": [],
   "source": [
    ""
   ]
  }
 ],
 "metadata": {
  "kernelspec": {
   "display_name": "Python 2",
   "language": "python",
   "name": "python2"
  },
  "language_info": {
   "codemirror_mode": {
    "name": "ipython",
    "version": 2.0
   },
   "file_extension": ".py",
   "mimetype": "text/x-python",
   "name": "python",
   "nbconvert_exporter": "python",
   "pygments_lexer": "ipython2",
   "version": "2.7.6"
  }
 },
 "nbformat": 4,
 "nbformat_minor": 0
}